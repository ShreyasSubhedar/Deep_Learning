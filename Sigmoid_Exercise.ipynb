{
  "nbformat": 4,
  "nbformat_minor": 0,
  "metadata": {
    "colab": {
      "name": "Sigmoid_Exercise.ipynb",
      "provenance": [],
      "toc_visible": true,
      "authorship_tag": "ABX9TyPia7gCdCwARW5i8jqxlMC6",
      "include_colab_link": true
    },
    "kernelspec": {
      "name": "python3",
      "display_name": "Python 3"
    },
    "widgets": {
      "application/vnd.jupyter.widget-state+json": {
        "d13116998dca4842941bc10069990140": {
          "model_module": "@jupyter-widgets/controls",
          "model_name": "HBoxModel",
          "state": {
            "_view_name": "HBoxView",
            "_dom_classes": [],
            "_model_name": "HBoxModel",
            "_view_module": "@jupyter-widgets/controls",
            "_model_module_version": "1.5.0",
            "_view_count": null,
            "_view_module_version": "1.5.0",
            "box_style": "",
            "layout": "IPY_MODEL_da01cc0093e0404cb7804051dcc453ec",
            "_model_module": "@jupyter-widgets/controls",
            "children": [
              "IPY_MODEL_9276ddd426e04e658de9df4de8ab8738",
              "IPY_MODEL_19c1a84d44a648aeaac58a1f74a900e1"
            ]
          }
        },
        "da01cc0093e0404cb7804051dcc453ec": {
          "model_module": "@jupyter-widgets/base",
          "model_name": "LayoutModel",
          "state": {
            "_view_name": "LayoutView",
            "grid_template_rows": null,
            "right": null,
            "justify_content": null,
            "_view_module": "@jupyter-widgets/base",
            "overflow": null,
            "_model_module_version": "1.2.0",
            "_view_count": null,
            "flex_flow": null,
            "width": null,
            "min_width": null,
            "border": null,
            "align_items": null,
            "bottom": null,
            "_model_module": "@jupyter-widgets/base",
            "top": null,
            "grid_column": null,
            "overflow_y": null,
            "overflow_x": null,
            "grid_auto_flow": null,
            "grid_area": null,
            "grid_template_columns": null,
            "flex": null,
            "_model_name": "LayoutModel",
            "justify_items": null,
            "grid_row": null,
            "max_height": null,
            "align_content": null,
            "visibility": null,
            "align_self": null,
            "height": null,
            "min_height": null,
            "padding": null,
            "grid_auto_rows": null,
            "grid_gap": null,
            "max_width": null,
            "order": null,
            "_view_module_version": "1.2.0",
            "grid_template_areas": null,
            "object_position": null,
            "object_fit": null,
            "grid_auto_columns": null,
            "margin": null,
            "display": null,
            "left": null
          }
        },
        "9276ddd426e04e658de9df4de8ab8738": {
          "model_module": "@jupyter-widgets/controls",
          "model_name": "FloatProgressModel",
          "state": {
            "_view_name": "ProgressView",
            "style": "IPY_MODEL_12e36ae8a0584c0291a2c686536dd1de",
            "_dom_classes": [],
            "description": "100%",
            "_model_name": "FloatProgressModel",
            "bar_style": "success",
            "max": 1000,
            "_view_module": "@jupyter-widgets/controls",
            "_model_module_version": "1.5.0",
            "value": 1000,
            "_view_count": null,
            "_view_module_version": "1.5.0",
            "orientation": "horizontal",
            "min": 0,
            "description_tooltip": null,
            "_model_module": "@jupyter-widgets/controls",
            "layout": "IPY_MODEL_cdb7d3f284da4a5fb4e1b3e75af37677"
          }
        },
        "19c1a84d44a648aeaac58a1f74a900e1": {
          "model_module": "@jupyter-widgets/controls",
          "model_name": "HTMLModel",
          "state": {
            "_view_name": "HTMLView",
            "style": "IPY_MODEL_088e3ffce7a0445c9b1cbfc862c26707",
            "_dom_classes": [],
            "description": "",
            "_model_name": "HTMLModel",
            "placeholder": "​",
            "_view_module": "@jupyter-widgets/controls",
            "_model_module_version": "1.5.0",
            "value": " 1000/1000 [00:18&lt;00:00, 53.92Epochs/s]",
            "_view_count": null,
            "_view_module_version": "1.5.0",
            "description_tooltip": null,
            "_model_module": "@jupyter-widgets/controls",
            "layout": "IPY_MODEL_5ad3970f66564bb8a163a995daf86e32"
          }
        },
        "12e36ae8a0584c0291a2c686536dd1de": {
          "model_module": "@jupyter-widgets/controls",
          "model_name": "ProgressStyleModel",
          "state": {
            "_view_name": "StyleView",
            "_model_name": "ProgressStyleModel",
            "description_width": "initial",
            "_view_module": "@jupyter-widgets/base",
            "_model_module_version": "1.5.0",
            "_view_count": null,
            "_view_module_version": "1.2.0",
            "bar_color": null,
            "_model_module": "@jupyter-widgets/controls"
          }
        },
        "cdb7d3f284da4a5fb4e1b3e75af37677": {
          "model_module": "@jupyter-widgets/base",
          "model_name": "LayoutModel",
          "state": {
            "_view_name": "LayoutView",
            "grid_template_rows": null,
            "right": null,
            "justify_content": null,
            "_view_module": "@jupyter-widgets/base",
            "overflow": null,
            "_model_module_version": "1.2.0",
            "_view_count": null,
            "flex_flow": null,
            "width": null,
            "min_width": null,
            "border": null,
            "align_items": null,
            "bottom": null,
            "_model_module": "@jupyter-widgets/base",
            "top": null,
            "grid_column": null,
            "overflow_y": null,
            "overflow_x": null,
            "grid_auto_flow": null,
            "grid_area": null,
            "grid_template_columns": null,
            "flex": null,
            "_model_name": "LayoutModel",
            "justify_items": null,
            "grid_row": null,
            "max_height": null,
            "align_content": null,
            "visibility": null,
            "align_self": null,
            "height": null,
            "min_height": null,
            "padding": null,
            "grid_auto_rows": null,
            "grid_gap": null,
            "max_width": null,
            "order": null,
            "_view_module_version": "1.2.0",
            "grid_template_areas": null,
            "object_position": null,
            "object_fit": null,
            "grid_auto_columns": null,
            "margin": null,
            "display": null,
            "left": null
          }
        },
        "088e3ffce7a0445c9b1cbfc862c26707": {
          "model_module": "@jupyter-widgets/controls",
          "model_name": "DescriptionStyleModel",
          "state": {
            "_view_name": "StyleView",
            "_model_name": "DescriptionStyleModel",
            "description_width": "",
            "_view_module": "@jupyter-widgets/base",
            "_model_module_version": "1.5.0",
            "_view_count": null,
            "_view_module_version": "1.2.0",
            "_model_module": "@jupyter-widgets/controls"
          }
        },
        "5ad3970f66564bb8a163a995daf86e32": {
          "model_module": "@jupyter-widgets/base",
          "model_name": "LayoutModel",
          "state": {
            "_view_name": "LayoutView",
            "grid_template_rows": null,
            "right": null,
            "justify_content": null,
            "_view_module": "@jupyter-widgets/base",
            "overflow": null,
            "_model_module_version": "1.2.0",
            "_view_count": null,
            "flex_flow": null,
            "width": null,
            "min_width": null,
            "border": null,
            "align_items": null,
            "bottom": null,
            "_model_module": "@jupyter-widgets/base",
            "top": null,
            "grid_column": null,
            "overflow_y": null,
            "overflow_x": null,
            "grid_auto_flow": null,
            "grid_area": null,
            "grid_template_columns": null,
            "flex": null,
            "_model_name": "LayoutModel",
            "justify_items": null,
            "grid_row": null,
            "max_height": null,
            "align_content": null,
            "visibility": null,
            "align_self": null,
            "height": null,
            "min_height": null,
            "padding": null,
            "grid_auto_rows": null,
            "grid_gap": null,
            "max_width": null,
            "order": null,
            "_view_module_version": "1.2.0",
            "grid_template_areas": null,
            "object_position": null,
            "object_fit": null,
            "grid_auto_columns": null,
            "margin": null,
            "display": null,
            "left": null
          }
        }
      }
    }
  },
  "cells": [
    {
      "cell_type": "markdown",
      "metadata": {
        "id": "view-in-github",
        "colab_type": "text"
      },
      "source": [
        "<a href=\"https://colab.research.google.com/github/ShreyasSubhedar/Deep_Learning/blob/master/Sigmoid_Exercise.ipynb\" target=\"_parent\"><img src=\"https://colab.research.google.com/assets/colab-badge.svg\" alt=\"Open In Colab\"/></a>"
      ]
    },
    {
      "cell_type": "markdown",
      "metadata": {
        "id": "Gl9G2cCOrB6S",
        "colab_type": "text"
      },
      "source": [
        "#Load Data"
      ]
    },
    {
      "cell_type": "code",
      "metadata": {
        "id": "jqt4cZIorEzx",
        "colab_type": "code",
        "colab": {}
      },
      "source": [
        "import numpy as np\n",
        "import pandas as pd\n",
        "import seaborn as sns\n",
        "import matplotlib.pyplot as plt\n",
        "from sklearn.preprocessing import LabelEncoder,MinMaxScaler, StandardScaler\n",
        "from sklearn.model_selection import train_test_split, ParameterGrid\n",
        "from sklearn.metrics import accuracy_score, confusion_matrix, mean_squared_error, log_loss\n",
        "import operator\n",
        "import json\n",
        "from IPython import display\n",
        "import os\n",
        "import warnings\n",
        "# demonstrate data normalization with sklearn\n",
        "from tqdm import tqdm_notebook\n",
        "np.random.seed(0)\n",
        "warnings.filterwarnings(\"ignore\")\n",
        "THRESHOLD = 5"
      ],
      "execution_count": 0,
      "outputs": []
    },
    {
      "cell_type": "markdown",
      "metadata": {
        "id": "nuSVnm2FU-9l",
        "colab_type": "text"
      },
      "source": [
        "# Sigmoid Class "
      ]
    },
    {
      "cell_type": "code",
      "metadata": {
        "id": "RgnevjI7VA2O",
        "colab_type": "code",
        "colab": {}
      },
      "source": [
        "class SigmoidNeuron:\n",
        "  \n",
        "  def __init__(self):\n",
        "    self.w = None\n",
        "    self.b = None\n",
        "    \n",
        "  def perceptron(self, x):\n",
        "    return np.dot(x, self.w.T) + self.b\n",
        "  \n",
        "  def sigmoid(self, x):\n",
        "    return 1.0/(1.0 + np.exp(-x))\n",
        "  \n",
        "  def grad_w(self, x, y):\n",
        "    y_pred = self.sigmoid(self.perceptron(x))\n",
        "    return (y_pred - y) * y_pred * (1 - y_pred) * x\n",
        "  \n",
        "  def grad_b(self, x, y):\n",
        "    y_pred = self.sigmoid(self.perceptron(x))\n",
        "    return (y_pred - y) * y_pred * (1 - y_pred)\n",
        "  \n",
        "  def fit(self, X, Y, epochs=1, learning_rate=1, initialise=True,loss_plot=True):\n",
        "    loss={}\n",
        "    # initialise w, b\n",
        "    if initialise:\n",
        "      self.w = np.random.randn(1, X.shape[1])\n",
        "      self.b = 0\n",
        "    \n",
        "    for i in tqdm_notebook(range(epochs),total=epochs,unit=\"Epochs\"):\n",
        "      dw = 0\n",
        "      db = 0\n",
        "      for x, y in zip(X, Y):\n",
        "        dw += self.grad_w(x, y)\n",
        "        db += self.grad_b(x, y)       \n",
        "      self.w -= learning_rate * dw\n",
        "      self.b -= learning_rate * db\n",
        "      if loss_plot:\n",
        "        Y_pred =self.sigmoid(self.perceptron(X))\n",
        "        loss[i] = mean_squared_error(Y_pred, Y)\n",
        "    if loss_plot:\n",
        "      plt.plot( np.array(list(loss.values())).astype(float))\n",
        "      plt.xlabel('Epoches')\n",
        "      plt.ylabel('Mean Squared Error')\n",
        "      plt.show()\n",
        "\n",
        "  def predict(self,X):\n",
        "    Y_pred=[]\n",
        "    for x in X:\n",
        "      y_prd = self.sigmoid(self.perceptron(x))\n",
        "      Y_pred.append(y_prd)\n",
        "    return np.array(Y_pred)"
      ],
      "execution_count": 0,
      "outputs": []
    },
    {
      "cell_type": "code",
      "metadata": {
        "id": "SjAS_e8a3S_Z",
        "colab_type": "code",
        "outputId": "e2946aec-0a2e-4e5a-8c71-a75f950dd2aa",
        "colab": {
          "base_uri": "https://localhost:8080/",
          "height": 85
        }
      },
      "source": [
        "# read data from file\n",
        "train = pd.read_csv(\"train.csv\") \n",
        "test = pd.read_csv(\"test.csv\")\n",
        "\n",
        "# check the number of features and data points in train\n",
        "print(\"Number of data points in train: %d\" % train.shape[0])\n",
        "print(\"Number of features in train: %d\" % train.shape[1])\n",
        "\n",
        "# check the number of features and data points in test\n",
        "print(\"Number of data points in test: %d\" % test.shape[0])\n",
        "print(\"Number of features in test: %d\" % test.shape[1])"
      ],
      "execution_count": 569,
      "outputs": [
        {
          "output_type": "stream",
          "text": [
            "Number of data points in train: 355\n",
            "Number of features in train: 99\n",
            "Number of data points in test: 119\n",
            "Number of features in test: 98\n"
          ],
          "name": "stdout"
        }
      ]
    },
    {
      "cell_type": "code",
      "metadata": {
        "id": "wdjF97pM4hSJ",
        "colab_type": "code",
        "colab": {}
      },
      "source": [
        "def data_clean(data):\n",
        "    \n",
        "    # Let's first remove all missing value features\n",
        "    columns_to_remove = ['Also Known As','Applications','Audio Features','Bezel-less display'\n",
        "                         'Browser','Build Material','Co-Processor','Browser'\n",
        "                         'Display Colour','Mobile High-Definition Link(MHL)',\n",
        "                         'Music', 'Email','Fingerprint Sensor Position',\n",
        "                         'Games','HDMI','Heart Rate Monitor','IRIS Scanner', \n",
        "                         'Optical Image Stabilisation','Other Facilities',\n",
        "                         'Phone Book','Physical Aperture','Quick Charging',\n",
        "                         'Ring Tone','Ruggedness','SAR Value','SIM 3','SMS',\n",
        "                         'Screen Protection','Screen to Body Ratio (claimed by the brand)',\n",
        "                         'Sensor','Software Based Aperture', 'Special Features',\n",
        "                         'Standby time','Stylus','TalkTime', 'USB Type-C',\n",
        "                         'Video Player', 'Video Recording Features','Waterproof',\n",
        "                         'Wireless Charging','USB OTG Support', 'Video Recording','Java']\n",
        "\n",
        "    columns_to_retain = list(set(data.columns)-set(columns_to_remove))\n",
        "    data = data[columns_to_retain]\n",
        "\n",
        "    #Features having very low variance \n",
        "    columns_to_remove = ['Architecture','Audio Jack','GPS','Loudspeaker','Network','Network Support','VoLTE']\n",
        "    columns_to_retain = list(set(data.columns)-set(columns_to_remove))\n",
        "    data = data[columns_to_retain]\n",
        "\n",
        "    # Multivalued:\n",
        "    columns_to_remove = ['Architecture','Launch Date','Audio Jack','GPS','Loudspeaker','Network','Network Support','VoLTE', 'Custom UI']\n",
        "    columns_to_retain = list(set(data.columns)-set(columns_to_remove))\n",
        "    data = data[columns_to_retain]\n",
        "\n",
        "    # Not much important\n",
        "    columns_to_remove = ['Bluetooth', 'Settings','Wi-Fi','Wi-Fi Features']\n",
        "    columns_to_retain = list(set(data.columns)-set(columns_to_remove))\n",
        "    data = data[columns_to_retain]\n",
        "    \n",
        "    return data"
      ],
      "execution_count": 0,
      "outputs": []
    },
    {
      "cell_type": "code",
      "metadata": {
        "id": "y26NW0zN4lJJ",
        "colab_type": "code",
        "colab": {}
      },
      "source": [
        "train = data_clean(train)\n",
        "test = data_clean(test)"
      ],
      "execution_count": 0,
      "outputs": []
    },
    {
      "cell_type": "code",
      "metadata": {
        "id": "5yzCg7JX4oI5",
        "colab_type": "code",
        "colab": {}
      },
      "source": [
        "train = train[(train.isnull().sum(axis=1) <= 15)]\n",
        "# You shouldn't remove data points from test set\n",
        "#test = test[(test.isnull().sum(axis=1) <= 15)]"
      ],
      "execution_count": 0,
      "outputs": []
    },
    {
      "cell_type": "code",
      "metadata": {
        "id": "oCYbgQcF4tg3",
        "colab_type": "code",
        "colab": {}
      },
      "source": [
        "def for_integer(test):\n",
        "    try:\n",
        "        test = test.strip()\n",
        "        return int(test.split(' ')[0])\n",
        "    except IOError:\n",
        "           pass\n",
        "    except ValueError:\n",
        "        pass\n",
        "    except:\n",
        "        pass\n",
        "\n",
        "def for_string(test):\n",
        "    try:\n",
        "        test = test.strip()\n",
        "        return (test.split(' ')[0])\n",
        "    except IOError:\n",
        "        pass\n",
        "    except ValueError:\n",
        "        pass\n",
        "    except:\n",
        "        pass\n",
        "\n",
        "def for_float(test):\n",
        "    try:\n",
        "        test = test.strip()\n",
        "        return float(test.split(' ')[0])\n",
        "    except IOError:\n",
        "        pass\n",
        "    except ValueError:\n",
        "        pass\n",
        "    except:\n",
        "        pass\n",
        "def find_freq(test):\n",
        "    try:\n",
        "        test = test.strip()\n",
        "        test = test.split(' ')\n",
        "        if test[2][0] == '(':\n",
        "            return float(test[2][1:])\n",
        "        return float(test[2])\n",
        "    except IOError:\n",
        "        pass\n",
        "    except ValueError:\n",
        "        pass\n",
        "    except:\n",
        "        pass\n",
        "\n",
        "    \n",
        "def for_Internal_Memory(test):\n",
        "    try:\n",
        "        test = test.strip()\n",
        "        test = test.split(' ')\n",
        "        if test[1] == 'GB':\n",
        "            return int(test[0])\n",
        "        if test[1] == 'MB':\n",
        "#             print(\"here\")\n",
        "            return (int(test[0]) * 0.001)\n",
        "    except IOError:\n",
        "           pass\n",
        "    except ValueError:\n",
        "        pass\n",
        "    except:\n",
        "        pass\n",
        "    \n",
        "def find_freq(test):\n",
        "    try:\n",
        "        test = test.strip()\n",
        "        test = test.split(' ')\n",
        "        if test[2][0] == '(':\n",
        "            return float(test[2][1:])\n",
        "        return float(test[2])\n",
        "    except IOError:\n",
        "        pass\n",
        "    except ValueError:\n",
        "        pass\n",
        "    except:\n",
        "        pass\n"
      ],
      "execution_count": 0,
      "outputs": []
    },
    {
      "cell_type": "code",
      "metadata": {
        "id": "FXAyrnaZ4vTH",
        "colab_type": "code",
        "colab": {}
      },
      "source": [
        "def data_clean_2(x):\n",
        "    data = x.copy()\n",
        "    \n",
        "    data['Capacity'] = data['Capacity'].apply(for_integer)\n",
        "\n",
        "    data['Height'] = data['Height'].apply(for_float)\n",
        "    data['Height'] = data['Height'].fillna(data['Height'].mean())\n",
        "\n",
        "    data['Internal Memory'] = data['Internal Memory'].apply(for_Internal_Memory)\n",
        "\n",
        "    data['Pixel Density'] = data['Pixel Density'].apply(for_integer)\n",
        "\n",
        "    data['Internal Memory'] = data['Internal Memory'].fillna(data['Internal Memory'].median())\n",
        "    data['Internal Memory'] = data['Internal Memory'].astype(int)\n",
        "\n",
        "    data['RAM'] = data['RAM'].apply(for_integer)\n",
        "    data['RAM'] = data['RAM'].fillna(data['RAM'].median())\n",
        "    data['RAM'] = data['RAM'].astype(int)\n",
        "\n",
        "    data['Resolution'] = data['Resolution'].apply(for_integer)\n",
        "    data['Resolution'] = data['Resolution'].fillna(data['Resolution'].median())\n",
        "    data['Resolution'] = data['Resolution'].astype(int)\n",
        "\n",
        "    data['Screen Size'] = data['Screen Size'].apply(for_float)\n",
        "\n",
        "    data['Thickness'] = data['Thickness'].apply(for_float)\n",
        "    data['Thickness'] = data['Thickness'].fillna(data['Thickness'].mean())\n",
        "    data['Thickness'] = data['Thickness'].round(2)\n",
        "\n",
        "    data['Type'] = data['Type'].fillna('Li-Polymer')\n",
        "\n",
        "    data['Screen to Body Ratio (calculated)'] = data['Screen to Body Ratio (calculated)'].apply(for_float)\n",
        "    data['Screen to Body Ratio (calculated)'] = data['Screen to Body Ratio (calculated)'].fillna(data['Screen to Body Ratio (calculated)'].mean())\n",
        "    data['Screen to Body Ratio (calculated)'] = data['Screen to Body Ratio (calculated)'].round(2)\n",
        "\n",
        "    data['Width'] = data['Width'].apply(for_float)\n",
        "    data['Width'] = data['Width'].fillna(data['Width'].mean())\n",
        "    data['Width'] = data['Width'].round(2)\n",
        "\n",
        "    data['Flash'][data['Flash'].isna() == True] = \"Other\"\n",
        "\n",
        "    data['User Replaceable'][data['User Replaceable'].isna() == True] = \"Other\"\n",
        "\n",
        "    data['Num_cores'] = data['Processor'].apply(for_string)\n",
        "    data['Num_cores'][data['Num_cores'].isna() == True] = \"Other\"\n",
        "\n",
        "\n",
        "    data['Processor_frequency'] = data['Processor'].apply(find_freq)\n",
        "    #because there is one entry with 208MHz values, to convert it to GHz\n",
        "    data['Processor_frequency'][data['Processor_frequency'] > 200] = 0.208\n",
        "    data['Processor_frequency'] = data['Processor_frequency'].fillna(data['Processor_frequency'].mean())\n",
        "    data['Processor_frequency'] = data['Processor_frequency'].round(2)\n",
        "\n",
        "    data['Camera Features'][data['Camera Features'].isna() == True] = \"Other\"\n",
        "\n",
        "    #simplifyig Operating System to os_name for simplicity\n",
        "    data['os_name'] = data['Operating System'].apply(for_string)\n",
        "    data['os_name'][data['os_name'].isna() == True] = \"Other\"\n",
        "\n",
        "    data['Sim1'] = data['SIM 1'].apply(for_string)\n",
        "\n",
        "    data['SIM Size'][data['SIM Size'].isna() == True] = \"Other\"\n",
        "\n",
        "    data['Image Resolution'][data['Image Resolution'].isna() == True] = \"Other\"\n",
        "\n",
        "    data['Fingerprint Sensor'][data['Fingerprint Sensor'].isna() == True] = \"Other\"\n",
        "\n",
        "    data['Expandable Memory'][data['Expandable Memory'].isna() == True] = \"No\"\n",
        "\n",
        "    data['Weight'] = data['Weight'].apply(for_integer)\n",
        "    data['Weight'] = data['Weight'].fillna(data['Weight'].mean())\n",
        "    data['Weight'] = data['Weight'].astype(int)\n",
        "\n",
        "    data['SIM 2'] = data['SIM 2'].apply(for_string)\n",
        "    data['SIM 2'][data['SIM 2'].isna() == True] = \"Other\"\n",
        "    \n",
        "    return data"
      ],
      "execution_count": 0,
      "outputs": []
    },
    {
      "cell_type": "code",
      "metadata": {
        "id": "GwXI13ac40lC",
        "colab_type": "code",
        "outputId": "2e34c0f3-ef9c-4bde-e62e-f6b7ed7a3427",
        "colab": {
          "base_uri": "https://localhost:8080/",
          "height": 85
        }
      },
      "source": [
        "train = data_clean_2(train)\n",
        "test = data_clean_2(test)\n",
        "\n",
        "# check the number of features and data points in train\n",
        "print(\"Number of data points in train: %d\" % train.shape[0])\n",
        "print(\"Number of features in train: %d\" % train.shape[1])\n",
        "\n",
        "# check the number of features and data points in test\n",
        "print(\"Number of data points in test: %d\" % test.shape[0])\n",
        "print(\"Number of features in test: %d\" % test.shape[1])\n"
      ],
      "execution_count": 575,
      "outputs": [
        {
          "output_type": "stream",
          "text": [
            "Number of data points in train: 341\n",
            "Number of features in train: 51\n",
            "Number of data points in test: 119\n",
            "Number of features in test: 50\n"
          ],
          "name": "stdout"
        }
      ]
    },
    {
      "cell_type": "code",
      "metadata": {
        "id": "I37eV3AG44VI",
        "colab_type": "code",
        "colab": {}
      },
      "source": [
        "def data_clean_3(x):\n",
        "    \n",
        "    data = x.copy()\n",
        "\n",
        "    columns_to_remove = ['User Available Storage','SIM Size','Chipset','Processor','Autofocus','Aspect Ratio','Touch Screen',\n",
        "                        'Bezel-less display','Operating System','SIM 1','USB Connectivity','Other Sensors','Graphics','FM Radio',\n",
        "                        'NFC','Shooting Modes','Browser','Display Colour' ]\n",
        "\n",
        "    columns_to_retain = list(set(data.columns)-set(columns_to_remove))\n",
        "    data = data[columns_to_retain]\n",
        "\n",
        "\n",
        "    columns_to_remove = [ 'Screen Resolution','User Replaceable','Camera Features',\n",
        "                        'Thickness', 'Display Type']\n",
        "\n",
        "    columns_to_retain = list(set(data.columns)-set(columns_to_remove))\n",
        "    data = data[columns_to_retain]\n",
        "\n",
        "\n",
        "    columns_to_remove = ['Fingerprint Sensor', 'Flash', 'Rating Count', 'Review Count','Image Resolution','Type','Expandable Memory',\\\n",
        "                        'Colours','Width','Model']\n",
        "    columns_to_retain = list(set(data.columns)-set(columns_to_remove))\n",
        "    data = data[columns_to_retain]\n",
        "\n",
        "    return data"
      ],
      "execution_count": 0,
      "outputs": []
    },
    {
      "cell_type": "code",
      "metadata": {
        "id": "r-IMwMwU476s",
        "colab_type": "code",
        "outputId": "ac54a370-439f-4587-e75d-0ebe81371d80",
        "colab": {
          "base_uri": "https://localhost:8080/",
          "height": 408
        }
      },
      "source": [
        "# one hot encoding\n",
        "\n",
        "train_ids = train['PhoneId']\n",
        "test_ids = test['PhoneId']\n",
        "\n",
        "cols = list(test.columns)\n",
        "cols.remove('PhoneId')\n",
        "cols.insert(0, 'PhoneId')\n",
        "\n",
        "combined = pd.concat([train.drop('Rating', axis=1)[cols], test[cols]])\n",
        "print(combined.shape)\n",
        "print(combined.columns)\n",
        "\n",
        "combined = pd.get_dummies(combined)\n",
        "print(combined.shape)\n",
        "print(combined.columns)\n",
        "\n",
        "train_new = combined[combined['PhoneId'].isin(train_ids)]\n",
        "test_new = combined[combined['PhoneId'].isin(test_ids)]\n"
      ],
      "execution_count": 577,
      "outputs": [
        {
          "output_type": "stream",
          "text": [
            "(460, 50)\n",
            "Index(['PhoneId', 'SIM 2', 'Shooting Modes', 'Other Sensors', 'Thickness',\n",
            "       'Rating Count', 'Processor', 'Graphics', 'Colours', 'Internal Memory',\n",
            "       'Model', 'User Replaceable', 'Review Count', 'Brand', 'Height',\n",
            "       'SIM Size', 'Bezel-less display', 'Chipset', 'Display Colour', 'Flash',\n",
            "       'Image Resolution', 'RAM', 'SIM Slot(s)', 'USB Connectivity', 'SIM 1',\n",
            "       'Operating System', 'Fingerprint Sensor', 'Screen Resolution',\n",
            "       'User Available Storage', 'Aspect Ratio', 'Camera Features',\n",
            "       'Display Type', 'Expandable Memory', 'Touch Screen', 'Resolution',\n",
            "       'Type', 'Screen Size', 'Capacity', 'Browser', 'Width', 'FM Radio',\n",
            "       'Weight', 'Autofocus', 'Screen to Body Ratio (calculated)',\n",
            "       'Pixel Density', 'NFC', 'Num_cores', 'Processor_frequency', 'os_name',\n",
            "       'Sim1'],\n",
            "      dtype='object')\n",
            "(460, 1857)\n",
            "Index(['PhoneId', 'Thickness', 'Rating Count', 'Internal Memory',\n",
            "       'Review Count', 'Height', 'RAM', 'Resolution', 'Screen Size',\n",
            "       'Capacity',\n",
            "       ...\n",
            "       'os_name_Android', 'os_name_Blackberry', 'os_name_KAI', 'os_name_Nokia',\n",
            "       'os_name_Other', 'os_name_Tizen', 'os_name_iOS', 'Sim1_2G', 'Sim1_3G',\n",
            "       'Sim1_4G'],\n",
            "      dtype='object', length=1857)\n"
          ],
          "name": "stdout"
        }
      ]
    },
    {
      "cell_type": "code",
      "metadata": {
        "id": "59RXst1D69rV",
        "colab_type": "code",
        "colab": {}
      },
      "source": [
        "train_new = train_new.merge(train[['PhoneId', 'Rating']], on='PhoneId')"
      ],
      "execution_count": 0,
      "outputs": []
    },
    {
      "cell_type": "code",
      "metadata": {
        "id": "3e3uPFyj4-RR",
        "colab_type": "code",
        "outputId": "20e7215d-5dea-43d2-a5bd-dbcaa32b17a0",
        "colab": {
          "base_uri": "https://localhost:8080/",
          "height": 85
        }
      },
      "source": [
        "# check the number of features and data points in train\n",
        "print(\"Number of data points in train: %d\" % train_new.shape[0])\n",
        "print(\"Number of features in train: %d\" % train_new.shape[1])\n",
        "# check the number of features and data points in test\n",
        "print(\"Number of data points in test: %d\" % test_new.shape[0])\n",
        "print(\"Number of features in test: %d\" % test_new.shape[1])"
      ],
      "execution_count": 579,
      "outputs": [
        {
          "output_type": "stream",
          "text": [
            "Number of data points in train: 341\n",
            "Number of features in train: 1858\n",
            "Number of data points in test: 119\n",
            "Number of features in test: 1857\n"
          ],
          "name": "stdout"
        }
      ]
    },
    {
      "cell_type": "code",
      "metadata": {
        "id": "BY_aQAji5E56",
        "colab_type": "code",
        "outputId": "95998efe-b576-46de-f26b-c9db75995f69",
        "colab": {
          "base_uri": "https://localhost:8080/",
          "height": 406
        }
      },
      "source": [
        "train_new.head()"
      ],
      "execution_count": 580,
      "outputs": [
        {
          "output_type": "execute_result",
          "data": {
            "text/html": [
              "<div>\n",
              "<style scoped>\n",
              "    .dataframe tbody tr th:only-of-type {\n",
              "        vertical-align: middle;\n",
              "    }\n",
              "\n",
              "    .dataframe tbody tr th {\n",
              "        vertical-align: top;\n",
              "    }\n",
              "\n",
              "    .dataframe thead th {\n",
              "        text-align: right;\n",
              "    }\n",
              "</style>\n",
              "<table border=\"1\" class=\"dataframe\">\n",
              "  <thead>\n",
              "    <tr style=\"text-align: right;\">\n",
              "      <th></th>\n",
              "      <th>PhoneId</th>\n",
              "      <th>Thickness</th>\n",
              "      <th>Rating Count</th>\n",
              "      <th>Internal Memory</th>\n",
              "      <th>Review Count</th>\n",
              "      <th>Height</th>\n",
              "      <th>RAM</th>\n",
              "      <th>Resolution</th>\n",
              "      <th>Screen Size</th>\n",
              "      <th>Capacity</th>\n",
              "      <th>Width</th>\n",
              "      <th>Weight</th>\n",
              "      <th>Screen to Body Ratio (calculated)</th>\n",
              "      <th>Pixel Density</th>\n",
              "      <th>Processor_frequency</th>\n",
              "      <th>SIM 2_2G</th>\n",
              "      <th>SIM 2_3G</th>\n",
              "      <th>SIM 2_4G</th>\n",
              "      <th>SIM 2_Other</th>\n",
              "      <th>Shooting Modes_Continuos Shooting</th>\n",
              "      <th>Shooting Modes_Continuos Shooting, Burst mode</th>\n",
              "      <th>Shooting Modes_Continuos Shooting, High Dynamic Range mode (HDR)</th>\n",
              "      <th>Shooting Modes_Continuos Shooting, High Dynamic Range mode (HDR), Burst mode</th>\n",
              "      <th>Shooting Modes_High Dynamic Range mode (HDR)</th>\n",
              "      <th>Shooting Modes_High Dynamic Range mode (HDR), Burst mode</th>\n",
              "      <th>Other Sensors_Accelerometer</th>\n",
              "      <th>Other Sensors_Light sensor, Accelerometer</th>\n",
              "      <th>Other Sensors_Light sensor, Accelerometer, Compass, Gyroscope</th>\n",
              "      <th>Other Sensors_Light sensor, Proximity sensor, Accelerometer</th>\n",
              "      <th>Other Sensors_Light sensor, Proximity sensor, Accelerometer, Barometer, Compass, Gyroscope</th>\n",
              "      <th>Other Sensors_Light sensor, Proximity sensor, Accelerometer, Barometer, Gyroscope</th>\n",
              "      <th>Other Sensors_Light sensor, Proximity sensor, Accelerometer, Compass</th>\n",
              "      <th>Other Sensors_Light sensor, Proximity sensor, Accelerometer, Compass, Gyroscope</th>\n",
              "      <th>Other Sensors_Light sensor, Proximity sensor, Accelerometer, Gyroscope</th>\n",
              "      <th>Other Sensors_Light sensor, Proximity sensor, rgbw sensor, Accelerometer, Barometer, Compass, Gyroscope</th>\n",
              "      <th>Other Sensors_Light sensor, Proximity sensor, rgbw sensor, Accelerometer, Compass</th>\n",
              "      <th>Other Sensors_Proximity sensor, Accelerometer</th>\n",
              "      <th>Other Sensors_Proximity sensor, Accelerometer, Compass</th>\n",
              "      <th>Other Sensors_Proximity sensor, Accelerometer, Compass, Gyroscope</th>\n",
              "      <th>Processor_312 MHz</th>\n",
              "      <th>...</th>\n",
              "      <th>FM Radio_Recording option</th>\n",
              "      <th>FM Radio_Recording option, Wireless FM</th>\n",
              "      <th>FM Radio_Stereo FM</th>\n",
              "      <th>FM Radio_Wireless FM</th>\n",
              "      <th>FM Radio_yes</th>\n",
              "      <th>Autofocus_Assist Beam autofocus</th>\n",
              "      <th>Autofocus_Dual Pixel autofocus</th>\n",
              "      <th>Autofocus_Hybrid autofocus</th>\n",
              "      <th>Autofocus_Hybrid autofocus, Phase Detection autofocus</th>\n",
              "      <th>Autofocus_Hybrid autofocus, Phase Detection autofocus, Laser autofocus</th>\n",
              "      <th>Autofocus_Laser autofocus</th>\n",
              "      <th>Autofocus_No</th>\n",
              "      <th>Autofocus_Phase Detection autofocus</th>\n",
              "      <th>Autofocus_Phase Detection autofocus, Continuos autofocus</th>\n",
              "      <th>Autofocus_Phase Detection autofocus, Continuos autofocus, Laser autofocus</th>\n",
              "      <th>Autofocus_Phase Detection autofocus, Dual Pixel autofocus, Laser autofocus</th>\n",
              "      <th>Autofocus_Phase Detection autofocus, Dual Pixel autofocus, Selective Focus autofocus</th>\n",
              "      <th>Autofocus_Phase Detection autofocus, Laser autofocus</th>\n",
              "      <th>Autofocus_yes</th>\n",
              "      <th>NFC_No</th>\n",
              "      <th>NFC_yes</th>\n",
              "      <th>Num_cores_312</th>\n",
              "      <th>Num_cores_Deca</th>\n",
              "      <th>Num_cores_Dual</th>\n",
              "      <th>Num_cores_Hexa</th>\n",
              "      <th>Num_cores_Octa</th>\n",
              "      <th>Num_cores_Other</th>\n",
              "      <th>Num_cores_Quad</th>\n",
              "      <th>Num_cores_Tru-Octa</th>\n",
              "      <th>os_name_Android</th>\n",
              "      <th>os_name_Blackberry</th>\n",
              "      <th>os_name_KAI</th>\n",
              "      <th>os_name_Nokia</th>\n",
              "      <th>os_name_Other</th>\n",
              "      <th>os_name_Tizen</th>\n",
              "      <th>os_name_iOS</th>\n",
              "      <th>Sim1_2G</th>\n",
              "      <th>Sim1_3G</th>\n",
              "      <th>Sim1_4G</th>\n",
              "      <th>Rating</th>\n",
              "    </tr>\n",
              "  </thead>\n",
              "  <tbody>\n",
              "    <tr>\n",
              "      <th>0</th>\n",
              "      <td>0</td>\n",
              "      <td>8.2</td>\n",
              "      <td>172274</td>\n",
              "      <td>64</td>\n",
              "      <td>17138</td>\n",
              "      <td>157.9</td>\n",
              "      <td>4</td>\n",
              "      <td>20</td>\n",
              "      <td>6.26</td>\n",
              "      <td>4000</td>\n",
              "      <td>76.4</td>\n",
              "      <td>182</td>\n",
              "      <td>80.68</td>\n",
              "      <td>403</td>\n",
              "      <td>1.8</td>\n",
              "      <td>0</td>\n",
              "      <td>0</td>\n",
              "      <td>1</td>\n",
              "      <td>0</td>\n",
              "      <td>0</td>\n",
              "      <td>0</td>\n",
              "      <td>0</td>\n",
              "      <td>1</td>\n",
              "      <td>0</td>\n",
              "      <td>0</td>\n",
              "      <td>0</td>\n",
              "      <td>0</td>\n",
              "      <td>0</td>\n",
              "      <td>0</td>\n",
              "      <td>0</td>\n",
              "      <td>0</td>\n",
              "      <td>0</td>\n",
              "      <td>1</td>\n",
              "      <td>0</td>\n",
              "      <td>0</td>\n",
              "      <td>0</td>\n",
              "      <td>0</td>\n",
              "      <td>0</td>\n",
              "      <td>0</td>\n",
              "      <td>0</td>\n",
              "      <td>...</td>\n",
              "      <td>0</td>\n",
              "      <td>0</td>\n",
              "      <td>0</td>\n",
              "      <td>0</td>\n",
              "      <td>0</td>\n",
              "      <td>0</td>\n",
              "      <td>0</td>\n",
              "      <td>0</td>\n",
              "      <td>0</td>\n",
              "      <td>0</td>\n",
              "      <td>0</td>\n",
              "      <td>0</td>\n",
              "      <td>1</td>\n",
              "      <td>0</td>\n",
              "      <td>0</td>\n",
              "      <td>0</td>\n",
              "      <td>0</td>\n",
              "      <td>0</td>\n",
              "      <td>0</td>\n",
              "      <td>0</td>\n",
              "      <td>0</td>\n",
              "      <td>0</td>\n",
              "      <td>0</td>\n",
              "      <td>0</td>\n",
              "      <td>0</td>\n",
              "      <td>1</td>\n",
              "      <td>0</td>\n",
              "      <td>0</td>\n",
              "      <td>0</td>\n",
              "      <td>1</td>\n",
              "      <td>0</td>\n",
              "      <td>0</td>\n",
              "      <td>0</td>\n",
              "      <td>0</td>\n",
              "      <td>0</td>\n",
              "      <td>0</td>\n",
              "      <td>0</td>\n",
              "      <td>0</td>\n",
              "      <td>1</td>\n",
              "      <td>4.5</td>\n",
              "    </tr>\n",
              "    <tr>\n",
              "      <th>1</th>\n",
              "      <td>1</td>\n",
              "      <td>8.2</td>\n",
              "      <td>339447</td>\n",
              "      <td>32</td>\n",
              "      <td>38252</td>\n",
              "      <td>156.2</td>\n",
              "      <td>3</td>\n",
              "      <td>8</td>\n",
              "      <td>6.20</td>\n",
              "      <td>4230</td>\n",
              "      <td>75.6</td>\n",
              "      <td>168</td>\n",
              "      <td>80.85</td>\n",
              "      <td>271</td>\n",
              "      <td>1.8</td>\n",
              "      <td>0</td>\n",
              "      <td>0</td>\n",
              "      <td>1</td>\n",
              "      <td>0</td>\n",
              "      <td>0</td>\n",
              "      <td>0</td>\n",
              "      <td>1</td>\n",
              "      <td>0</td>\n",
              "      <td>0</td>\n",
              "      <td>0</td>\n",
              "      <td>0</td>\n",
              "      <td>0</td>\n",
              "      <td>0</td>\n",
              "      <td>0</td>\n",
              "      <td>0</td>\n",
              "      <td>0</td>\n",
              "      <td>0</td>\n",
              "      <td>1</td>\n",
              "      <td>0</td>\n",
              "      <td>0</td>\n",
              "      <td>0</td>\n",
              "      <td>0</td>\n",
              "      <td>0</td>\n",
              "      <td>0</td>\n",
              "      <td>0</td>\n",
              "      <td>...</td>\n",
              "      <td>0</td>\n",
              "      <td>0</td>\n",
              "      <td>0</td>\n",
              "      <td>0</td>\n",
              "      <td>0</td>\n",
              "      <td>0</td>\n",
              "      <td>0</td>\n",
              "      <td>0</td>\n",
              "      <td>0</td>\n",
              "      <td>0</td>\n",
              "      <td>0</td>\n",
              "      <td>0</td>\n",
              "      <td>1</td>\n",
              "      <td>0</td>\n",
              "      <td>0</td>\n",
              "      <td>0</td>\n",
              "      <td>0</td>\n",
              "      <td>0</td>\n",
              "      <td>0</td>\n",
              "      <td>1</td>\n",
              "      <td>0</td>\n",
              "      <td>0</td>\n",
              "      <td>0</td>\n",
              "      <td>0</td>\n",
              "      <td>0</td>\n",
              "      <td>1</td>\n",
              "      <td>0</td>\n",
              "      <td>0</td>\n",
              "      <td>0</td>\n",
              "      <td>1</td>\n",
              "      <td>0</td>\n",
              "      <td>0</td>\n",
              "      <td>0</td>\n",
              "      <td>0</td>\n",
              "      <td>0</td>\n",
              "      <td>0</td>\n",
              "      <td>0</td>\n",
              "      <td>0</td>\n",
              "      <td>1</td>\n",
              "      <td>4.5</td>\n",
              "    </tr>\n",
              "    <tr>\n",
              "      <th>2</th>\n",
              "      <td>2</td>\n",
              "      <td>8.0</td>\n",
              "      <td>1149</td>\n",
              "      <td>32</td>\n",
              "      <td>1151</td>\n",
              "      <td>157.0</td>\n",
              "      <td>3</td>\n",
              "      <td>25</td>\n",
              "      <td>6.30</td>\n",
              "      <td>3500</td>\n",
              "      <td>74.0</td>\n",
              "      <td>168</td>\n",
              "      <td>83.68</td>\n",
              "      <td>409</td>\n",
              "      <td>2.1</td>\n",
              "      <td>0</td>\n",
              "      <td>0</td>\n",
              "      <td>1</td>\n",
              "      <td>0</td>\n",
              "      <td>0</td>\n",
              "      <td>0</td>\n",
              "      <td>1</td>\n",
              "      <td>0</td>\n",
              "      <td>0</td>\n",
              "      <td>0</td>\n",
              "      <td>0</td>\n",
              "      <td>0</td>\n",
              "      <td>0</td>\n",
              "      <td>1</td>\n",
              "      <td>0</td>\n",
              "      <td>0</td>\n",
              "      <td>0</td>\n",
              "      <td>0</td>\n",
              "      <td>0</td>\n",
              "      <td>0</td>\n",
              "      <td>0</td>\n",
              "      <td>0</td>\n",
              "      <td>0</td>\n",
              "      <td>0</td>\n",
              "      <td>0</td>\n",
              "      <td>...</td>\n",
              "      <td>0</td>\n",
              "      <td>0</td>\n",
              "      <td>0</td>\n",
              "      <td>0</td>\n",
              "      <td>1</td>\n",
              "      <td>0</td>\n",
              "      <td>0</td>\n",
              "      <td>0</td>\n",
              "      <td>0</td>\n",
              "      <td>0</td>\n",
              "      <td>0</td>\n",
              "      <td>0</td>\n",
              "      <td>0</td>\n",
              "      <td>0</td>\n",
              "      <td>0</td>\n",
              "      <td>0</td>\n",
              "      <td>0</td>\n",
              "      <td>0</td>\n",
              "      <td>1</td>\n",
              "      <td>0</td>\n",
              "      <td>0</td>\n",
              "      <td>0</td>\n",
              "      <td>0</td>\n",
              "      <td>0</td>\n",
              "      <td>0</td>\n",
              "      <td>1</td>\n",
              "      <td>0</td>\n",
              "      <td>0</td>\n",
              "      <td>0</td>\n",
              "      <td>1</td>\n",
              "      <td>0</td>\n",
              "      <td>0</td>\n",
              "      <td>0</td>\n",
              "      <td>0</td>\n",
              "      <td>0</td>\n",
              "      <td>0</td>\n",
              "      <td>0</td>\n",
              "      <td>0</td>\n",
              "      <td>1</td>\n",
              "      <td>4.4</td>\n",
              "    </tr>\n",
              "    <tr>\n",
              "      <th>3</th>\n",
              "      <td>4</td>\n",
              "      <td>7.5</td>\n",
              "      <td>6026</td>\n",
              "      <td>64</td>\n",
              "      <td>779</td>\n",
              "      <td>159.8</td>\n",
              "      <td>4</td>\n",
              "      <td>24</td>\n",
              "      <td>6.00</td>\n",
              "      <td>3300</td>\n",
              "      <td>76.8</td>\n",
              "      <td>169</td>\n",
              "      <td>74.78</td>\n",
              "      <td>411</td>\n",
              "      <td>2.2</td>\n",
              "      <td>0</td>\n",
              "      <td>0</td>\n",
              "      <td>1</td>\n",
              "      <td>0</td>\n",
              "      <td>0</td>\n",
              "      <td>0</td>\n",
              "      <td>1</td>\n",
              "      <td>0</td>\n",
              "      <td>0</td>\n",
              "      <td>0</td>\n",
              "      <td>0</td>\n",
              "      <td>0</td>\n",
              "      <td>0</td>\n",
              "      <td>0</td>\n",
              "      <td>0</td>\n",
              "      <td>0</td>\n",
              "      <td>0</td>\n",
              "      <td>0</td>\n",
              "      <td>1</td>\n",
              "      <td>0</td>\n",
              "      <td>0</td>\n",
              "      <td>0</td>\n",
              "      <td>0</td>\n",
              "      <td>0</td>\n",
              "      <td>0</td>\n",
              "      <td>...</td>\n",
              "      <td>0</td>\n",
              "      <td>0</td>\n",
              "      <td>0</td>\n",
              "      <td>0</td>\n",
              "      <td>1</td>\n",
              "      <td>0</td>\n",
              "      <td>0</td>\n",
              "      <td>0</td>\n",
              "      <td>0</td>\n",
              "      <td>0</td>\n",
              "      <td>0</td>\n",
              "      <td>1</td>\n",
              "      <td>0</td>\n",
              "      <td>0</td>\n",
              "      <td>0</td>\n",
              "      <td>0</td>\n",
              "      <td>0</td>\n",
              "      <td>0</td>\n",
              "      <td>0</td>\n",
              "      <td>1</td>\n",
              "      <td>0</td>\n",
              "      <td>0</td>\n",
              "      <td>0</td>\n",
              "      <td>0</td>\n",
              "      <td>0</td>\n",
              "      <td>1</td>\n",
              "      <td>0</td>\n",
              "      <td>0</td>\n",
              "      <td>0</td>\n",
              "      <td>1</td>\n",
              "      <td>0</td>\n",
              "      <td>0</td>\n",
              "      <td>0</td>\n",
              "      <td>0</td>\n",
              "      <td>0</td>\n",
              "      <td>0</td>\n",
              "      <td>0</td>\n",
              "      <td>0</td>\n",
              "      <td>1</td>\n",
              "      <td>4.3</td>\n",
              "    </tr>\n",
              "    <tr>\n",
              "      <th>4</th>\n",
              "      <td>5</td>\n",
              "      <td>7.8</td>\n",
              "      <td>5175</td>\n",
              "      <td>64</td>\n",
              "      <td>5177</td>\n",
              "      <td>160.4</td>\n",
              "      <td>4</td>\n",
              "      <td>16</td>\n",
              "      <td>6.50</td>\n",
              "      <td>3750</td>\n",
              "      <td>76.6</td>\n",
              "      <td>175</td>\n",
              "      <td>84.23</td>\n",
              "      <td>396</td>\n",
              "      <td>2.2</td>\n",
              "      <td>0</td>\n",
              "      <td>0</td>\n",
              "      <td>1</td>\n",
              "      <td>0</td>\n",
              "      <td>0</td>\n",
              "      <td>0</td>\n",
              "      <td>1</td>\n",
              "      <td>0</td>\n",
              "      <td>0</td>\n",
              "      <td>0</td>\n",
              "      <td>0</td>\n",
              "      <td>0</td>\n",
              "      <td>0</td>\n",
              "      <td>0</td>\n",
              "      <td>0</td>\n",
              "      <td>0</td>\n",
              "      <td>0</td>\n",
              "      <td>1</td>\n",
              "      <td>0</td>\n",
              "      <td>0</td>\n",
              "      <td>0</td>\n",
              "      <td>0</td>\n",
              "      <td>0</td>\n",
              "      <td>0</td>\n",
              "      <td>0</td>\n",
              "      <td>...</td>\n",
              "      <td>0</td>\n",
              "      <td>0</td>\n",
              "      <td>0</td>\n",
              "      <td>0</td>\n",
              "      <td>1</td>\n",
              "      <td>0</td>\n",
              "      <td>0</td>\n",
              "      <td>0</td>\n",
              "      <td>0</td>\n",
              "      <td>0</td>\n",
              "      <td>0</td>\n",
              "      <td>0</td>\n",
              "      <td>1</td>\n",
              "      <td>0</td>\n",
              "      <td>0</td>\n",
              "      <td>0</td>\n",
              "      <td>0</td>\n",
              "      <td>0</td>\n",
              "      <td>0</td>\n",
              "      <td>1</td>\n",
              "      <td>0</td>\n",
              "      <td>0</td>\n",
              "      <td>0</td>\n",
              "      <td>0</td>\n",
              "      <td>0</td>\n",
              "      <td>1</td>\n",
              "      <td>0</td>\n",
              "      <td>0</td>\n",
              "      <td>0</td>\n",
              "      <td>1</td>\n",
              "      <td>0</td>\n",
              "      <td>0</td>\n",
              "      <td>0</td>\n",
              "      <td>0</td>\n",
              "      <td>0</td>\n",
              "      <td>0</td>\n",
              "      <td>0</td>\n",
              "      <td>0</td>\n",
              "      <td>1</td>\n",
              "      <td>4.4</td>\n",
              "    </tr>\n",
              "  </tbody>\n",
              "</table>\n",
              "<p>5 rows × 1858 columns</p>\n",
              "</div>"
            ],
            "text/plain": [
              "   PhoneId  Thickness  Rating Count  ...  Sim1_3G  Sim1_4G  Rating\n",
              "0        0        8.2        172274  ...        0        1     4.5\n",
              "1        1        8.2        339447  ...        0        1     4.5\n",
              "2        2        8.0          1149  ...        0        1     4.4\n",
              "3        4        7.5          6026  ...        0        1     4.3\n",
              "4        5        7.8          5175  ...        0        1     4.4\n",
              "\n",
              "[5 rows x 1858 columns]"
            ]
          },
          "metadata": {
            "tags": []
          },
          "execution_count": 580
        }
      ]
    },
    {
      "cell_type": "code",
      "metadata": {
        "id": "ZCE601iB7i8u",
        "colab_type": "code",
        "outputId": "c8a7f50d-0abf-4113-f76a-ca877ea3febd",
        "colab": {
          "base_uri": "https://localhost:8080/",
          "height": 34
        }
      },
      "source": [
        "X = train_new.drop('Rating', axis=1)\n",
        "Y =train_new['Rating'].values\n",
        "print(Y.shape)"
      ],
      "execution_count": 581,
      "outputs": [
        {
          "output_type": "stream",
          "text": [
            "(341,)\n"
          ],
          "name": "stdout"
        }
      ]
    },
    {
      "cell_type": "code",
      "metadata": {
        "id": "urqIUXxV8Dzi",
        "colab_type": "code",
        "colab": {}
      },
      "source": [
        "train_new['class'] = (train_new['Rating']>= THRESHOLD).astype(np.int64)"
      ],
      "execution_count": 0,
      "outputs": []
    },
    {
      "cell_type": "code",
      "metadata": {
        "id": "btxrxbUb8nXK",
        "colab_type": "code",
        "outputId": "42bacf5f-d355-4129-928d-b9c490cf3bc3",
        "colab": {
          "base_uri": "https://localhost:8080/",
          "height": 221
        }
      },
      "source": [
        "train_new['class']"
      ],
      "execution_count": 583,
      "outputs": [
        {
          "output_type": "execute_result",
          "data": {
            "text/plain": [
              "0      0\n",
              "1      0\n",
              "2      0\n",
              "3      0\n",
              "4      0\n",
              "      ..\n",
              "336    0\n",
              "337    0\n",
              "338    0\n",
              "339    0\n",
              "340    0\n",
              "Name: class, Length: 341, dtype: int64"
            ]
          },
          "metadata": {
            "tags": []
          },
          "execution_count": 583
        }
      ]
    },
    {
      "cell_type": "code",
      "metadata": {
        "id": "Mwa0YO0n-eIZ",
        "colab_type": "code",
        "outputId": "7fecd195-fa51-4f2b-e592-4201f27e07ee",
        "colab": {
          "base_uri": "https://localhost:8080/",
          "height": 68
        }
      },
      "source": [
        "train_new['class'].value_counts(normalize=True)"
      ],
      "execution_count": 584,
      "outputs": [
        {
          "output_type": "execute_result",
          "data": {
            "text/plain": [
              "0    0.994135\n",
              "1    0.005865\n",
              "Name: class, dtype: float64"
            ]
          },
          "metadata": {
            "tags": []
          },
          "execution_count": 584
        }
      ]
    },
    {
      "cell_type": "code",
      "metadata": {
        "id": "hlGsxTJE_Tqd",
        "colab_type": "code",
        "colab": {}
      },
      "source": [
        "Y_binarized = train_new['class'].values"
      ],
      "execution_count": 0,
      "outputs": []
    },
    {
      "cell_type": "markdown",
      "metadata": {
        "id": "Haw8iSoQ_gIS",
        "colab_type": "text"
      },
      "source": [
        "3 main dataframes:\n",
        "1: X which contains the train data\n",
        "2: Y = real ratings\n",
        "3: Y_binarized = binarized ratings."
      ]
    },
    {
      "cell_type": "markdown",
      "metadata": {
        "id": "FtySxxxFAPDe",
        "colab_type": "text"
      },
      "source": [
        "#Satandardisation"
      ]
    },
    {
      "cell_type": "code",
      "metadata": {
        "id": "LtuIV6fO_fnf",
        "colab_type": "code",
        "colab": {}
      },
      "source": [
        "\n",
        "from sklearn.model_selection import train_test_split"
      ],
      "execution_count": 0,
      "outputs": []
    },
    {
      "cell_type": "code",
      "metadata": {
        "id": "qSDBjB-mIr1a",
        "colab_type": "code",
        "colab": {}
      },
      "source": [
        "X_train, X_test, Y_train, Y_test = train_test_split(train_new,Y,random_state=0,stratify=Y_binarized)"
      ],
      "execution_count": 0,
      "outputs": []
    },
    {
      "cell_type": "code",
      "metadata": {
        "id": "AIp3TFNrI9MC",
        "colab_type": "code",
        "outputId": "747a863b-8baf-429b-9539-0252c9b634ce",
        "colab": {
          "base_uri": "https://localhost:8080/",
          "height": 34
        }
      },
      "source": [
        "print(X_train.shape, X_test.shape,Y_train.shape,Y_test.shape)"
      ],
      "execution_count": 588,
      "outputs": [
        {
          "output_type": "stream",
          "text": [
            "(255, 1859) (86, 1859) (255,) (86,)\n"
          ],
          "name": "stdout"
        }
      ]
    },
    {
      "cell_type": "code",
      "metadata": {
        "id": "JrBxqIg0KKUZ",
        "colab_type": "code",
        "colab": {}
      },
      "source": [
        "scalar = StandardScaler()\n",
        "X_scaled_train=scalar.fit_transform(X_train)\n",
        "X_scaled_test =scalar.transform(X_test)"
      ],
      "execution_count": 0,
      "outputs": []
    },
    {
      "cell_type": "code",
      "metadata": {
        "id": "ADYrE_fwQCy4",
        "colab_type": "code",
        "colab": {}
      },
      "source": [
        "minmaxScalar = MinMaxScaler()\n"
      ],
      "execution_count": 0,
      "outputs": []
    },
    {
      "cell_type": "code",
      "metadata": {
        "id": "LinKC3iMRExe",
        "colab_type": "code",
        "colab": {}
      },
      "source": [
        "Y_scaled_train = minmaxScalar.fit_transform(Y_train.reshape(-1,1))\n",
        "Y_scaled_test = minmaxScalar.transform(Y_test.reshape(-1,1))"
      ],
      "execution_count": 0,
      "outputs": []
    },
    {
      "cell_type": "code",
      "metadata": {
        "id": "SmIKNp0YSncr",
        "colab_type": "code",
        "outputId": "3f6a1aaa-30e8-4139-af35-fce9497ed157",
        "colab": {
          "base_uri": "https://localhost:8080/",
          "height": 34
        }
      },
      "source": [
        "scaled_threshold = list(minmaxScalar.transform(np.array([THRESHOLD]).reshape(-1,1)))[0][0]\n",
        "print(scaled_threshold)"
      ],
      "execution_count": 592,
      "outputs": [
        {
          "output_type": "stream",
          "text": [
            "1.0\n"
          ],
          "name": "stdout"
        }
      ]
    },
    {
      "cell_type": "code",
      "metadata": {
        "id": "MSYEyU1rTr7N",
        "colab_type": "code",
        "outputId": "2932a059-d14e-4053-c616-4e05f41b233d",
        "colab": {
          "base_uri": "https://localhost:8080/",
          "height": 51
        }
      },
      "source": [
        "Y_binarized_train = (Y_scaled_train>=scaled_threshold).astype(int).ravel()\n",
        "Y_binarized_test = (Y_scaled_test>=scaled_threshold).astype(int).ravel()\n",
        "print(Y_binarized_train.shape)\n",
        "print(Y_binarized_test.shape)"
      ],
      "execution_count": 593,
      "outputs": [
        {
          "output_type": "stream",
          "text": [
            "(255,)\n",
            "(86,)\n"
          ],
          "name": "stdout"
        }
      ]
    },
    {
      "cell_type": "markdown",
      "metadata": {
        "id": "sR-D5G0B4xHn",
        "colab_type": "text"
      },
      "source": [
        "# Applying Fit function"
      ]
    },
    {
      "cell_type": "code",
      "metadata": {
        "id": "qtkAN3D2VPL2",
        "colab_type": "code",
        "colab": {}
      },
      "source": [
        "sn = SigmoidNeuron()"
      ],
      "execution_count": 0,
      "outputs": []
    },
    {
      "cell_type": "code",
      "metadata": {
        "id": "NiK-i3JsVl1Z",
        "colab_type": "code",
        "colab": {
          "base_uri": "https://localhost:8080/",
          "height": 328,
          "referenced_widgets": [
            "d13116998dca4842941bc10069990140",
            "da01cc0093e0404cb7804051dcc453ec",
            "9276ddd426e04e658de9df4de8ab8738",
            "19c1a84d44a648aeaac58a1f74a900e1",
            "12e36ae8a0584c0291a2c686536dd1de",
            "cdb7d3f284da4a5fb4e1b3e75af37677",
            "088e3ffce7a0445c9b1cbfc862c26707",
            "5ad3970f66564bb8a163a995daf86e32"
          ]
        },
        "outputId": "8386642f-552a-434d-c840-da32d611e0d0"
      },
      "source": [
        "sn.fit(X_scaled_train,Y_scaled_train,epochs=1000,learning_rate=1.5,loss_plot=True)"
      ],
      "execution_count": 595,
      "outputs": [
        {
          "output_type": "display_data",
          "data": {
            "application/vnd.jupyter.widget-view+json": {
              "model_id": "d13116998dca4842941bc10069990140",
              "version_minor": 0,
              "version_major": 2
            },
            "text/plain": [
              "HBox(children=(FloatProgress(value=0.0, max=1000.0), HTML(value='')))"
            ]
          },
          "metadata": {
            "tags": []
          }
        },
        {
          "output_type": "stream",
          "text": [
            "\n"
          ],
          "name": "stdout"
        },
        {
          "output_type": "display_data",
          "data": {
            "image/png": "[encoded data removed]",
            "text/plain": [
              "<Figure size 432x288 with 1 Axes>"
            ]
          },
          "metadata": {
            "tags": [],
            "needs_background": "light"
          }
        }
      ]
    },
    {
      "cell_type": "code",
      "metadata": {
        "id": "lLeZhBBRWEba",
        "colab_type": "code",
        "colab": {
          "base_uri": "https://localhost:8080/",
          "height": 34
        },
        "outputId": "2ba26259-aa95-4dba-ccaf-8c62a81f80a5"
      },
      "source": [
        "Y_pred_train = sn.predict(X_scaled_train)\n",
        "Y_pred_test = sn.predict(X_scaled_test)\n",
        "print(Y_pred_train.shape)"
      ],
      "execution_count": 596,
      "outputs": [
        {
          "output_type": "stream",
          "text": [
            "(255, 1)\n"
          ],
          "name": "stdout"
        }
      ]
    },
    {
      "cell_type": "code",
      "metadata": {
        "id": "viU3HWOMX9JH",
        "colab_type": "code",
        "colab": {
          "base_uri": "https://localhost:8080/",
          "height": 34
        },
        "outputId": "16dd31a5-fde9-4db2-9136-7dfba2153b17"
      },
      "source": [
        "Y_pred_binarized_train = (Y_pred_train>scaled_threshold).astype(int)\n",
        "Y_pred_binarized_test = (Y_pred_test>scaled_threshold).astype(int)\n",
        "print(Y_pred_binarized_train.shape, Y_binarized_train.shape)"
      ],
      "execution_count": 597,
      "outputs": [
        {
          "output_type": "stream",
          "text": [
            "(255, 1) (255,)\n"
          ],
          "name": "stdout"
        }
      ]
    },
    {
      "cell_type": "code",
      "metadata": {
        "id": "RHK6F7oVYY_K",
        "colab_type": "code",
        "colab": {
          "base_uri": "https://localhost:8080/",
          "height": 51
        },
        "outputId": "e6337c60-dc58-4802-a7fe-258908ff25bc"
      },
      "source": [
        "accuracy_train = accuracy_score(Y_pred_binarized_train,Y_binarized_train)\n",
        "print(accuracy_train)\n",
        "accuracy_test = accuracy_score(Y_pred_binarized_test,Y_binarized_test)\n",
        "print(accuracy_test)"
      ],
      "execution_count": 598,
      "outputs": [
        {
          "output_type": "stream",
          "text": [
            "0.996078431372549\n",
            "0.9883720930232558\n"
          ],
          "name": "stdout"
        }
      ]
    },
    {
      "cell_type": "markdown",
      "metadata": {
        "id": "6ep-gLQ4wgB7",
        "colab_type": "text"
      },
      "source": [
        "## changing Thershold\n",
        "<table >\n",
        "<th>NO</th>\n",
        "<th>THRESHOLD</th>\n",
        "\n",
        "<th>Accuracy of training data</th>\n",
        "<th>Accuracy of testing data</th>\n",
        "<tr>\n",
        "<td>1</td>\n",
        "<td>3.5</td>\n",
        "<td>55.55</td>\n",
        "<td>59.88</td>\n",
        "</tr>\n",
        "<tr>\n",
        "<td>2</td>\n",
        "<td>4</td>\n",
        "<td>66.33</td>\n",
        "<td>70.04</td>\n",
        "</tr>\n",
        "<tr>\n",
        "<td>3</td>\n",
        "<td>4.2</td>\n",
        "<td>73.33</td>\n",
        "<td>86.88</td>\n",
        "</tr>\n",
        "<tr>\n",
        "<td>4</td>\n",
        "<td>4.4</td>\n",
        "<td>56.13</td>\n",
        "<td>66.674</td>\n",
        "</tr>\n",
        "<tr>\n",
        "<td>5</td>\n",
        "<td>5</td>\n",
        "<td>99</td>\n",
        "<td>98</td>\n",
        "<td>lolz XD</td>\n",
        "</tr>\n",
        "</table>\n",
        "\n",
        "\n",
        "\n",
        "## Changing Hyper-Parameter\n",
        "<table >\n",
        "<th>NO</th>\n",
        "<th>Epochs</th>\n",
        "<th>Leanring Rate</th>\n",
        "<th>MSE</th>\n",
        "<th>Accuracy of training data</th>\n",
        "<th>Accuracy of testing data</th>\n",
        "<tr>\n",
        "<td>1</td>\n",
        "<td>1000</td>\n",
        "<td>1.5</td>\n",
        "<td>0.25</td>\n",
        "<td>71.76</td>\n",
        "<td>84.88</td>\n",
        "</tr>\n",
        "<tr>\n",
        "<td>2</td>\n",
        "<td>3000</td>\n",
        "<td>1.5</td>\n",
        "<td>0.1987</td>\n",
        "<td>73.33</td>\n",
        "<td>86.04</td>\n",
        "</tr>\n",
        "<tr>\n",
        "<td>3</td>\n",
        "<td>5000</td>\n",
        "<td>1.25</td>\n",
        "<td>0.23</td>\n",
        "<td>74.33</td>\n",
        "<td>84.88</td>\n",
        "</tr>\n",
        "<tr>\n",
        "<td>4</td>\n",
        "<td>10000</td>\n",
        "<td>0.01</td>\n",
        "<td>0.22</td>\n",
        "<td>56.13</td>\n",
        "<td>66.674</td>\n",
        "</tr>\n",
        "<tr>\n",
        "<td>5</td>\n",
        "<td>10000</td>\n",
        "<td>1.5</td>\n",
        "<td>0.27</td>\n",
        "<td>73.33</td>\n",
        "<td>84.88</td>\n",
        "</tr>\n",
        "</table>"
      ]
    }
  ]
}