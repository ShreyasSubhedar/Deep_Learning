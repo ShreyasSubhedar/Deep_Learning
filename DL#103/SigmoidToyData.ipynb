{
  "nbformat": 4,
  "nbformat_minor": 0,
  "metadata": {
    "colab": {
      "name": "SigmoidToyData.ipynb",
      "provenance": [],
      "authorship_tag": "ABX9TyNhKmf7T+Dd8tZjzsSHSUkL",
      "include_colab_link": true
    },
    "kernelspec": {
      "name": "python3",
      "display_name": "Python 3"
    }
  },
  "cells": [
    {
      "cell_type": "markdown",
      "metadata": {
        "id": "view-in-github",
        "colab_type": "text"
      },
      "source": [
        "<a href=\"https://colab.research.google.com/github/ShreyasSubhedar/Deep_Learning/blob/master/DL%23103/SigmoidToyData.ipynb\" target=\"_parent\"><img src=\"https://colab.research.google.com/assets/colab-badge.svg\" alt=\"Open In Colab\"/></a>"
      ]
    },
    {
      "cell_type": "markdown",
      "metadata": {
        "id": "SbSr7PSGExD6",
        "colab_type": "text"
      },
      "source": [
        "#Class for Sigmoid Neruon"
      ]
    },
    {
      "cell_type": "code",
      "metadata": {
        "id": "DjbM-rF2H4l8",
        "colab_type": "code",
        "colab": {}
      },
      "source": [
        "import numpy as np\n",
        "import matplotlib.pyplot as plt\n",
        "import matplotlib.colors\n",
        "import matplotlib.animation as animation\n",
        "import os as os\n",
        "my_cmap = matplotlib.colors.LinearSegmentedColormap.from_list(\"\", [\"red\",\"yellow\",\"green\"])"
      ],
      "execution_count": 0,
      "outputs": []
    },
    {
      "cell_type": "code",
      "metadata": {
        "id": "Fw7EfReFEi4W",
        "colab_type": "code",
        "colab": {}
      },
      "source": [
        "class SigmoidNeuron:\n",
        "  \n",
        "  def __init__(self):\n",
        "    self.w = None\n",
        "    self.b = None\n",
        "    \n",
        "  def perceptron(self, x):\n",
        "    return np.dot(x, self.w.T) + self.b\n",
        "  \n",
        "  def sigmoid(self, x):\n",
        "    return 1.0/(1.0 + np.exp(-x))\n",
        "  \n",
        "  def grad_w(self, x, y):\n",
        "    y_pred = self.sigmoid(self.perceptron(x))\n",
        "    return (y_pred - y) * y_pred * (1 - y_pred) * x\n",
        "  \n",
        "  def grad_b(self, x, y):\n",
        "    y_pred = self.sigmoid(self.perceptron(x))\n",
        "    return (y_pred - y) * y_pred * (1 - y_pred)\n",
        "  \n",
        "  def fit(self, X, Y, epochs=1, learning_rate=1, initialise=True):\n",
        "    \n",
        "    # initialise w, b\n",
        "    if initialise:\n",
        "      self.w = np.random.randn(1, X.shape[1])\n",
        "      self.b = 0\n",
        "    \n",
        "    for i in range(epochs):\n",
        "      dw = 0\n",
        "      db = 0\n",
        "      for x, y in zip(X, Y):\n",
        "        dw += self.grad_w(x, y)\n",
        "        db += self.grad_b(x, y)       \n",
        "      self.w -= learning_rate * dw\n",
        "      self.b -= learning_rate * db"
      ],
      "execution_count": 0,
      "outputs": []
    },
    {
      "cell_type": "markdown",
      "metadata": {
        "id": "wvH77RuWG_fT",
        "colab_type": "text"
      },
      "source": [
        "#Fit for Toy Data"
      ]
    },
    {
      "cell_type": "code",
      "metadata": {
        "id": "4JmdFl6JG6zI",
        "colab_type": "code",
        "colab": {}
      },
      "source": [
        "X = np.asarray([[2.5, 2.5], [4, -1], [1, -4], [-3, 1.25], [-2, -4], [1, 5]])\n",
        "Y = [1, 1, 1, 0, 0, 0]"
      ],
      "execution_count": 0,
      "outputs": []
    },
    {
      "cell_type": "code",
      "metadata": {
        "id": "N3PgdWLeHYDq",
        "colab_type": "code",
        "outputId": "c363b78a-8224-43e6-a07e-13f74e97f4b5",
        "colab": {
          "base_uri": "https://localhost:8080/",
          "height": 357
        }
      },
      "source": [
        "sn = SigmoidNeuron()\n",
        "sn.fit(X,Y,1,0.25,True)\n",
        "for i in range(20):\n",
        "  print(sn.w,sn.b)\n",
        "  sn.fit(X,Y,1,0.5,False)"
      ],
      "execution_count": 0,
      "outputs": [
        {
          "output_type": "stream",
          "text": [
            "[[ 0.30666322 -1.01970691]] [0.01633922]\n",
            "[[ 0.49792094 -0.84073839]] [0.05495539]\n",
            "[[ 0.76442038 -0.52576786]] [0.09284678]\n",
            "[[ 1.00296297 -0.18839583]] [0.0469917]\n",
            "[[ 1.00300133 -0.45674991]] [-0.02573923]\n",
            "[[ 1.14170595 -0.2878851 ]] [-0.08081469]\n",
            "[[ 1.15263248 -0.45556389]] [-0.140157]\n",
            "[[ 1.24419842 -0.36810449]] [-0.18563824]\n",
            "[[ 1.26982407 -0.44957955]] [-0.23131746]\n",
            "[[ 1.32668609 -0.42695734]] [-0.2691785]\n",
            "[[ 1.36096019 -0.45700205]] [-0.30535279]\n",
            "[[ 1.40064849 -0.46211206]] [-0.33771885]\n",
            "[[ 1.43458013 -0.47543033]] [-0.367889]\n",
            "[[ 1.46724046 -0.48525   ]] [-0.39574559]\n",
            "[[ 1.49766739 -0.49511978]] [-0.42168369]\n",
            "[[ 1.52636844 -0.50429326]] [-0.44589309]\n",
            "[[ 1.55347713 -0.51297742]] [-0.46856844]\n",
            "[[ 1.57915925 -0.52120383]] [-0.48987059]\n",
            "[[ 1.60355115 -0.52901789]] [-0.50993877]\n",
            "[[ 1.62677151 -0.5364575 ]] [-0.52889338]\n"
          ],
          "name": "stdout"
        }
      ]
    },
    {
      "cell_type": "code",
      "metadata": {
        "id": "8_tW9js1RFEq",
        "colab_type": "code",
        "colab": {}
      },
      "source": [
        "\n",
        "\n",
        "\n",
        "def plot_sn(X, Y, sn, plt):\n",
        "  X1 = np.linspace(-10, 10, 100)\n",
        "  X2 = np.linspace(-10, 10, 100)\n",
        "  XX1, XX2 = np.meshgrid(X1, X2)\n",
        "  YY = np.zeros(XX1.shape)\n",
        "  for i in range(X2.size):\n",
        "    for j in range(X1.size):\n",
        "      val = np.asarray([X1[j], X2[i]])\n",
        "      YY[i, j] = sn.sigmoid(sn.perceptron(val))\n",
        "  plt.contourf(XX1, XX2, YY, cmap=my_cmap, alpha=0.6)\n",
        "  plt.scatter(X[:,0], X[:,1],c=Y, cmap=my_cmap)\n",
        "  plt.plot()\n",
        "  "
      ],
      "execution_count": 0,
      "outputs": []
    },
    {
      "cell_type": "code",
      "metadata": {
        "id": "foCErcLNSM2U",
        "colab_type": "code",
        "colab": {}
      },
      "source": [
        "sn.fit(X, Y, 1, 0.05, True)\n",
        "N = 30\n",
        "fig= plt.figure()\n",
        "for i in range(N):\n",
        "  # print(sn.w, sn.b)\n",
        "  # ax = plt.subplot(N, 1, i + 1)\n",
        "  plot_sn(X, Y, sn, plt)\n",
        "  plt.savefig(f'full_figure{i}.png')\n",
        "  plt.close()\n",
        "  # fig.savefig(f'full_figure{i}.png')\n",
        "  sn.fit(X, Y, 1, 0.5, False)\n",
        "  \n"
      ],
      "execution_count": 0,
      "outputs": []
    },
    {
      "cell_type": "code",
      "metadata": {
        "id": "deLS3Xgn3t1a",
        "colab_type": "code",
        "colab": {}
      },
      "source": [
        "# !rm full_figure*.png\n"
      ],
      "execution_count": 0,
      "outputs": []
    },
    {
      "cell_type": "code",
      "metadata": {
        "id": "ajZrxVvnfA-o",
        "colab_type": "code",
        "outputId": "17856809-bedf-4202-9df0-e2c10679103f",
        "colab": {
          "base_uri": "https://localhost:8080/",
          "height": 34
        }
      },
      "source": [
        "    os.system(\"ffmpeg -r 1 -i full_figure%01d.png -vcodec mpeg4 -y movie.mp4\")"
      ],
      "execution_count": 0,
      "outputs": [
        {
          "output_type": "execute_result",
          "data": {
            "text/plain": [
              "0"
            ]
          },
          "metadata": {
            "tags": []
          },
          "execution_count": 179
        }
      ]
    },
    {
      "cell_type": "code",
      "metadata": {
        "id": "sim27CdLz0So",
        "colab_type": "code",
        "outputId": "2f923814-6d27-47cb-d98e-5aeb5b98485b",
        "colab": {
          "base_uri": "https://localhost:8080/",
          "height": 1000
        }
      },
      "source": [
        "!ffmpeg -i movie.mp4 -r 16 -filter:v \"setpts=0.7*PTS\" movie1.mp4\n"
      ],
      "execution_count": 0,
      "outputs": [
        {
          "output_type": "stream",
          "text": [
            "ffmpeg version 3.4.6-0ubuntu0.18.04.1 Copyright (c) 2000-2019 the FFmpeg developers\n",
            "  built with gcc 7 (Ubuntu 7.3.0-16ubuntu3)\n",
            "  configuration: --prefix=/usr --extra-version=0ubuntu0.18.04.1 --toolchain=hardened --libdir=/usr/lib/x86_64-linux-gnu --incdir=/usr/include/x86_64-linux-gnu --enable-gpl --disable-stripping --enable-avresample --enable-avisynth --enable-gnutls --enable-ladspa --enable-libass --enable-libbluray --enable-libbs2b --enable-libcaca --enable-libcdio --enable-libflite --enable-libfontconfig --enable-libfreetype --enable-libfribidi --enable-libgme --enable-libgsm --enable-libmp3lame --enable-libmysofa --enable-libopenjpeg --enable-libopenmpt --enable-libopus --enable-libpulse --enable-librubberband --enable-librsvg --enable-libshine --enable-libsnappy --enable-libsoxr --enable-libspeex --enable-libssh --enable-libtheora --enable-libtwolame --enable-libvorbis --enable-libvpx --enable-libwavpack --enable-libwebp --enable-libx265 --enable-libxml2 --enable-libxvid --enable-libzmq --enable-libzvbi --enable-omx --enable-openal --enable-opengl --enable-sdl2 --enable-libdc1394 --enable-libdrm --enable-libiec61883 --enable-chromaprint --enable-frei0r --enable-libopencv --enable-libx264 --enable-shared\n",
            "  libavutil      55. 78.100 / 55. 78.100\n",
            "  libavcodec     57.107.100 / 57.107.100\n",
            "  libavformat    57. 83.100 / 57. 83.100\n",
            "  libavdevice    57. 10.100 / 57. 10.100\n",
            "  libavfilter     6.107.100 /  6.107.100\n",
            "  libavresample   3.  7.  0 /  3.  7.  0\n",
            "  libswscale      4.  8.100 /  4.  8.100\n",
            "  libswresample   2.  9.100 /  2.  9.100\n",
            "  libpostproc    54.  7.100 / 54.  7.100\n",
            "Input #0, mov,mp4,m4a,3gp,3g2,mj2, from 'movie.mp4':\n",
            "  Metadata:\n",
            "    major_brand     : isom\n",
            "    minor_version   : 512\n",
            "    compatible_brands: isomiso2mp41\n",
            "    encoder         : Lavf57.83.100\n",
            "  Duration: 00:00:30.00, start: 0.000000, bitrate: 35 kb/s\n",
            "    Stream #0:0(und): Video: mpeg4 (Simple Profile) (mp4v / 0x7634706D), yuv420p, 432x288 [SAR 1:1 DAR 3:2], 35 kb/s, 1 fps, 1 tbr, 16384 tbn, 1 tbc (default)\n",
            "    Metadata:\n",
            "      handler_name    : VideoHandler\n",
            "File 'movie1.mp4' already exists. Overwrite ? [y/N] y\n",
            "Stream mapping:\n",
            "  Stream #0:0 -> #0:0 (mpeg4 (native) -> h264 (libx264))\n",
            "Press [q] to stop, [?] for help\n",
            "\u001b[1;36m[libx264 @ 0x563379e35900] \u001b[0musing SAR=1/1\n",
            "\u001b[1;36m[libx264 @ 0x563379e35900] \u001b[0musing cpu capabilities: MMX2 SSE2Fast SSSE3 SSE4.2 AVX FMA3 BMI2 AVX2\n",
            "\u001b[1;36m[libx264 @ 0x563379e35900] \u001b[0mprofile High, level 2.1\n",
            "\u001b[1;36m[libx264 @ 0x563379e35900] \u001b[0m264 - core 152 r2854 e9a5903 - H.264/MPEG-4 AVC codec - Copyleft 2003-2017 - http://www.videolan.org/x264.html - options: cabac=1 ref=3 deblock=1:0:0 analyse=0x3:0x113 me=hex subme=7 psy=1 psy_rd=1.00:0.00 mixed_ref=1 me_range=16 chroma_me=1 trellis=1 8x8dct=1 cqm=0 deadzone=21,11 fast_pskip=1 chroma_qp_offset=-2 threads=3 lookahead_threads=1 sliced_threads=0 nr=0 decimate=1 interlaced=0 bluray_compat=0 constrained_intra=0 bframes=3 b_pyramid=2 b_adapt=1 b_bias=0 direct=1 weightb=1 open_gop=0 weightp=2 keyint=250 keyint_min=16 scenecut=40 intra_refresh=0 rc_lookahead=40 rc=crf mbtree=1 crf=23.0 qcomp=0.60 qpmin=0 qpmax=69 qpstep=4 ip_ratio=1.40 aq=1:1.00\n",
            "Output #0, mp4, to 'movie1.mp4':\n",
            "  Metadata:\n",
            "    major_brand     : isom\n",
            "    minor_version   : 512\n",
            "    compatible_brands: isomiso2mp41\n",
            "    encoder         : Lavf57.83.100\n",
            "    Stream #0:0(und): Video: h264 (libx264) (avc1 / 0x31637661), yuv420p, 432x288 [SAR 1:1 DAR 3:2], q=-1--1, 16 fps, 16384 tbn, 16 tbc (default)\n",
            "    Metadata:\n",
            "      handler_name    : VideoHandler\n",
            "      encoder         : Lavc57.107.100 libx264\n",
            "    Side data:\n",
            "      cpb: bitrate max/min/avg: 0/0/0 buffer size: 0 vbv_delay: -1\n",
            "frame=  336 fps=0.0 q=-1.0 Lsize=      79kB time=00:00:20.81 bitrate=  31.0kbits/s dup=306 drop=0 speed=25.8x    \n",
            "video:74kB audio:0kB subtitle:0kB other streams:0kB global headers:0kB muxing overhead: 6.449993%\n",
            "\u001b[1;36m[libx264 @ 0x563379e35900] \u001b[0mframe I:2     Avg QP:15.12  size:  9212\n",
            "\u001b[1;36m[libx264 @ 0x563379e35900] \u001b[0mframe P:85    Avg QP:15.96  size:   528\n",
            "\u001b[1;36m[libx264 @ 0x563379e35900] \u001b[0mframe B:249   Avg QP:11.84  size:    47\n",
            "\u001b[1;36m[libx264 @ 0x563379e35900] \u001b[0mconsecutive B-frames:  1.2%  0.0%  0.0% 98.8%\n",
            "\u001b[1;36m[libx264 @ 0x563379e35900] \u001b[0mmb I  I16..4: 31.1% 52.1% 16.9%\n",
            "\u001b[1;36m[libx264 @ 0x563379e35900] \u001b[0mmb P  I16..4:  0.2%  0.4%  0.3%  P16..4:  2.9%  1.3%  1.2%  0.0%  0.0%    skip:93.7%\n",
            "\u001b[1;36m[libx264 @ 0x563379e35900] \u001b[0mmb B  I16..4:  0.1%  0.0%  0.0%  B16..8:  5.1%  0.0%  0.0%  direct: 0.0%  skip:94.8%  L0:61.2% L1:38.8% BI: 0.1%\n",
            "\u001b[1;36m[libx264 @ 0x563379e35900] \u001b[0m8x8 transform intra:46.7% inter:24.0%\n",
            "\u001b[1;36m[libx264 @ 0x563379e35900] \u001b[0mcoded y,uvDC,uvAC intra: 23.9% 31.1% 28.5% inter: 0.5% 1.0% 0.5%\n",
            "\u001b[1;36m[libx264 @ 0x563379e35900] \u001b[0mi16 v,h,dc,p: 53% 32% 14%  0%\n",
            "\u001b[1;36m[libx264 @ 0x563379e35900] \u001b[0mi8 v,h,dc,ddl,ddr,vr,hd,vl,hu: 40%  4% 42%  7%  0%  0%  0%  5%  1%\n",
            "\u001b[1;36m[libx264 @ 0x563379e35900] \u001b[0mi4 v,h,dc,ddl,ddr,vr,hd,vl,hu: 26% 15% 25% 14%  2%  2%  2% 11%  2%\n",
            "\u001b[1;36m[libx264 @ 0x563379e35900] \u001b[0mi8c dc,h,v,p: 58% 18% 13% 12%\n",
            "\u001b[1;36m[libx264 @ 0x563379e35900] \u001b[0mWeighted P-Frames: Y:0.0% UV:0.0%\n",
            "\u001b[1;36m[libx264 @ 0x563379e35900] \u001b[0mref P L0: 83.6%  5.2%  9.6%  1.5%\n",
            "\u001b[1;36m[libx264 @ 0x563379e35900] \u001b[0mref B L0: 52.8% 47.1%  0.1%\n",
            "\u001b[1;36m[libx264 @ 0x563379e35900] \u001b[0mref B L1: 99.3%  0.7%\n",
            "\u001b[1;36m[libx264 @ 0x563379e35900] \u001b[0mkb/s:28.56\n"
          ],
          "name": "stdout"
        }
      ]
    }
  ]
}