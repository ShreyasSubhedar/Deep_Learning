{
  "nbformat": 4,
  "nbformat_minor": 0,
  "metadata": {
    "colab": {
      "name": "ContourPlot.ipynb",
      "provenance": [],
      "collapsed_sections": []
    },
    "kernelspec": {
      "name": "python3",
      "display_name": "Python 3"
    }
  },
  "cells": [
    {
      "cell_type": "markdown",
      "metadata": {
        "id": "7WAFRig17UmE",
        "colab_type": "text"
      },
      "source": [
        "#Contour Plotting "
      ]
    },
    {
      "cell_type": "code",
      "metadata": {
        "id": "tVrbqILW31KX",
        "colab_type": "code",
        "colab": {}
      },
      "source": [
        "import numpy as np\n",
        "import matplotlib.pyplot as plt\n"
      ],
      "execution_count": 0,
      "outputs": []
    },
    {
      "cell_type": "code",
      "metadata": {
        "id": "S1WGEooS4gzI",
        "colab_type": "code",
        "colab": {}
      },
      "source": [
        "def sigmoidFunction(w1,w2,x1,x2,b):\n",
        "  return (1/(1+np.exp(-(w1*x1+w2*x2+b))))"
      ],
      "execution_count": 0,
      "outputs": []
    },
    {
      "cell_type": "code",
      "metadata": {
        "id": "GRbQqtGo4tCS",
        "colab_type": "code",
        "colab": {}
      },
      "source": [
        "w1 =0.5\n",
        "w2=0.5\n",
        "b= 0\n",
        "X1=np.linspace(-10,10,100)\n",
        "X2=np.linspace(-10,10,100)\n",
        "XX1,XX2= np.meshgrid(X1,X2)"
      ],
      "execution_count": 0,
      "outputs": []
    },
    {
      "cell_type": "code",
      "metadata": {
        "id": "LsL7bnOg5smK",
        "colab_type": "code",
        "colab": {
          "base_uri": "https://localhost:8080/",
          "height": 269
        },
        "outputId": "d0edaf2f-21b9-41c3-bc19-e785b61d78dc"
      },
      "source": [
        "Y = sigmoidFunction(w1,w2,XX1,XX2,b)\n",
        "plt.contourf(XX1,XX2,Y,alpha=0.9)\n",
        "plt.show()\n"
      ],
      "execution_count": 30,
      "outputs": [
        {
          "output_type": "display_data",
          "data": {
            "image/png": "[encoded data removed]",
            "text/plain": [
              "<Figure size 432x288 with 1 Axes>"
            ]
          },
          "metadata": {
            "tags": [],
            "needs_background": "light"
          }
        }
      ]
    },
    {
      "cell_type": "markdown",
      "metadata": {
        "id": "frAazq5A7QWB",
        "colab_type": "text"
      },
      "source": [
        "#Conclusion\n",
        "Contour plot helps to visualize the regression on the basis of statistics (Probability | Proterties)"
      ]
    }
  ]
}