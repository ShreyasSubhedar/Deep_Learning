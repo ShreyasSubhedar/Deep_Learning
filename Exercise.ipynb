{
  "nbformat": 4,
  "nbformat_minor": 0,
  "metadata": {
    "colab": {
      "name": "Exercise.ipynb",
      "provenance": [],
      "collapsed_sections": [],
      "authorship_tag": "ABX9TyNV2S6EI/6zwQzV33HZFxie",
      "include_colab_link": true
    },
    "kernelspec": {
      "name": "python3",
      "display_name": "Python 3"
    }
  },
  "cells": [
    {
      "cell_type": "markdown",
      "metadata": {
        "id": "view-in-github",
        "colab_type": "text"
      },
      "source": [
        "<a href=\"https://colab.research.google.com/github/ShreyasSubhedar/Deep_Learning/blob/master/Exercise.ipynb\" target=\"_parent\"><img src=\"https://colab.research.google.com/assets/colab-badge.svg\" alt=\"Open In Colab\"/></a>"
      ]
    },
    {
      "cell_type": "code",
      "metadata": {
        "id": "xTPJxetjiEvE",
        "colab_type": "code",
        "colab": {}
      },
      "source": [
        "#importing dataset of breast cancer\n",
        "import sklearn.datasets\n",
        "# importing numpy\n",
        "import numpy as np\n",
        "# importing pandas as pd\n",
        "import pandas as pd\n",
        "# import matplotlib for plotting graphs\n",
        "import matplotlib.pyplot as plt\n",
        "#imporing seaborn to give neet look \n",
        "import seaborn as sns\n",
        "# importing metrics \n",
        "from sklearn.metrics import accuracy_score\n",
        "#importing the train_test \n",
        "from sklearn.model_selection import train_test_split\n",
        "#importing the different libraries to get video animation task done\n",
        "%matplotlib inline\n",
        "from matplotlib import animation, rc\n",
        "from IPython.display import HTML\n"
      ],
      "execution_count": 0,
      "outputs": []
    },
    {
      "cell_type": "markdown",
      "metadata": {
        "id": "gowTbmSFl_Gj",
        "colab_type": "text"
      },
      "source": [
        "Class MPNeuron\n"
      ]
    },
    {
      "cell_type": "code",
      "metadata": {
        "id": "JftB5LclmBn4",
        "colab_type": "code",
        "colab": {}
      },
      "source": [
        "class MPNeuron:\n",
        "\n",
        "  def __init__(self):\n",
        "    self.b = None\n",
        "\n",
        "  def model(self,x):\n",
        "    return (sum(x) >= self.b)\n",
        "\n",
        "  def predict(self,X):\n",
        "    Y = []\n",
        "    for x in X:\n",
        "      result = self.model(x)\n",
        "      Y.append(result)\n",
        "    return np.array(Y)\n",
        "\n",
        "  def accuracy(self, Y_pred, Y_test):\n",
        "    print('Highest accuracy for testing data  is ', accuracy_score(Y_pred,Y_test)*100)\n",
        "\n",
        "  def fit(self,X,Y):\n",
        "    accuracy ={}\n",
        "\n",
        "    for b in range(X.shape[1]+1):\n",
        "      self.b = b\n",
        "      Y_pred = self.predict(X)\n",
        "      accuracy[b] = accuracy_score(Y_pred,Y) \n",
        "    \n",
        "    best_b = max(accuracy, key=accuracy.get)\n",
        "    self.b = best_b\n",
        "    \n",
        "    print('Optical value of b is',best_b)\n",
        "    print('Highest accuracy for training data is ', accuracy[best_b]*100)\n",
        "    w=[]\n",
        "    for q,p in accuracy.items():\n",
        "      w.append(p)\n",
        "    plt.plot(np.asarray(w))\n",
        "    plt.xlim(1,30)\n",
        "    plt.ylim(0,1)\n",
        "    plt.title('ANS:- exercise 3')\n",
        "    plt.show()\n",
        "    return b\n"
      ],
      "execution_count": 0,
      "outputs": []
    },
    {
      "cell_type": "markdown",
      "metadata": {
        "id": "Riq7-MxAl3tj",
        "colab_type": "text"
      },
      "source": [
        "Class : Perceptron\n",
        "Exxercise 4:\n",
        "The weight initialization is changed to np.random with np.radom.seed(0)  to reproduce the output"
      ]
    },
    {
      "cell_type": "code",
      "metadata": {
        "id": "Yg8g2mXslawz",
        "colab_type": "code",
        "colab": {}
      },
      "source": [
        "class Perceptron:\n",
        "  def __init__(self):    #this contains parameters\n",
        "    self.w = None\n",
        "    self.b= None\n",
        "\n",
        "  def model(self,x):    # this contain model defination \n",
        "    return 1 if (np.dot(self.w,x)>=self.b) else 0\n",
        "  \n",
        "  def predict(self,X):     # this will invoke the model (mainly used when we have the right paramters)\n",
        "    Y=[]\n",
        "    for x in X:\n",
        "      result = self.model(x)\n",
        "      Y.append(result)\n",
        "    return np.array(Y)\n",
        "\n",
        "  def fit(self,X,Y,epoch=1,learningRate=1):    # the learning algorithm \n",
        "    # self.w= np.ones(X.shape[1]) here it is not a good practice to write an algorithum by starting the initialisation of variables with 1\n",
        "    np.random.seed(0)\n",
        "    self.w = np.random.randint(1, size = X.shape[1])\n",
        "    self.b = 0\n",
        "    accuracy = {}\n",
        "    maxAccuracy=0\n",
        "    weightMatrix=[]\n",
        "    for i in range(epoch):\n",
        "      for x,y in zip(X,Y):\n",
        "        Y_pred = self.model(x)\n",
        "        if y==1 and Y_pred == 0:\n",
        "          self.w = self.w + learningRate*x\n",
        "          self.b = self.b + learningRate*1\n",
        "        elif y==0 and Y_pred == 1:\n",
        "          self.w = self.w - learningRate*x\n",
        "          self.b = self.b - learningRate*1\n",
        "      weightMatrix.append(self.w)\n",
        "      accuracy[i] = accuracy_score(self.predict(X),Y)\n",
        "      if(maxAccuracy<accuracy[i]):\n",
        "        maxAccuracy = accuracy[i]\n",
        "        checkPointW = self.w;\n",
        "        checkPointB = self.b; \n",
        "    self.w = checkPointW\n",
        "    self.b= checkPointB\n",
        "    a = np.asarray(list(accuracy.values()))\n",
        "    plt.plot(a)\n",
        "    plt.show()\n",
        "    return np.array(weightMatrix)"
      ],
      "execution_count": 0,
      "outputs": []
    },
    {
      "cell_type": "markdown",
      "metadata": {
        "id": "qKOLCFvHmU4m",
        "colab_type": "text"
      },
      "source": [
        "Preprocessing data (initial)"
      ]
    },
    {
      "cell_type": "code",
      "metadata": {
        "id": "Taewo8JHmaYp",
        "colab_type": "code",
        "colab": {}
      },
      "source": [
        "# Getting data to the varialble\n",
        "breast_cancer = sklearn.datasets.load_breast_cancer()\n",
        "# Creating data frame\n",
        "data = pd.DataFrame(breast_cancer.data,columns= breast_cancer.feature_names)\n",
        "Y = breast_cancer.target\n",
        "# 1st parameter = data dataframe\n",
        "# 2nd parameter = target dataframe\n",
        "# 3rd parameter = 90% ttraining split 10% test split\n",
        "# 4th parameter = deterministic split always give same o/p  \n",
        "X_train, X_test, Y_train, Y_test = train_test_split(data,Y,test_size=0.1, stratify = Y ,random_state=1)\n",
        "\n",
        "#convert the dataframe to numpy arrays for calulation\n",
        "X_test =X_test.values       # for Perceptron\n",
        "X_train = X_train.values     #for Perceptron "
      ],
      "execution_count": 0,
      "outputs": []
    },
    {
      "cell_type": "markdown",
      "metadata": {
        "id": "oNNIGrihoI86",
        "colab_type": "text"
      },
      "source": [
        "Exercise 1: Play with test-train split and check the change in accurancy."
      ]
    },
    {
      "cell_type": "code",
      "metadata": {
        "id": "JiNHKaOjoieU",
        "colab_type": "code",
        "outputId": "8bb2bd81-4196-477b-a3b1-cf266e441e74",
        "colab": {
          "base_uri": "https://localhost:8080/",
          "height": 282
        }
      },
      "source": [
        "perceptron = Perceptron()\n",
        "weightMatrix = perceptron.fit(X_train,Y_train,100,0.5)\n",
        "print('Accuracy of Perceptron model after changing the train-test split ',accuracy_score(perceptron.predict(X_test),Y_test)*100)"
      ],
      "execution_count": 68,
      "outputs": [
        {
          "output_type": "display_data",
          "data": {
            "image/png": "[encoded data removed]",
            "text/plain": [
              "<Figure size 432x288 with 1 Axes>"
            ]
          },
          "metadata": {
            "tags": [],
            "needs_background": "light"
          }
        },
        {
          "output_type": "stream",
          "text": [
            "Accuracy of Perceptron model after changing the train-test split  90.05847953216374\n"
          ],
          "name": "stdout"
        }
      ]
    },
    {
      "cell_type": "markdown",
      "metadata": {
        "id": "uDHwDD5tCF8r",
        "colab_type": "text"
      },
      "source": [
        "---------------------------------------------------------------------------------"
      ]
    },
    {
      "cell_type": "markdown",
      "metadata": {
        "id": "ZrW-6eS_pkmQ",
        "colab_type": "text"
      },
      "source": [
        "**ANS** Exercise 1:\n",
        "$\n",
        "accurancy \\ \\alpha$\t$sizeof(dataset)$\t\n",
        "\n",
        "If dataset is smaller the accuracy will be lower.\n",
        "\n"
      ]
    },
    {
      "cell_type": "markdown",
      "metadata": {
        "id": "fIVvkTeHB5ZB",
        "colab_type": "text"
      },
      "source": [
        "---------------------------------------------------------------------------------"
      ]
    },
    {
      "cell_type": "markdown",
      "metadata": {
        "id": "Y71q0ulJsbch",
        "colab_type": "text"
      },
      "source": [
        "Exercise 2: Use different types of binarisation"
      ]
    },
    {
      "cell_type": "code",
      "metadata": {
        "id": "0eR5np02slYP",
        "colab_type": "code",
        "colab": {}
      },
      "source": [
        "# Getting data to the varialble\n",
        "breast_cancer1 = sklearn.datasets.load_breast_cancer()\n",
        "# Creating data frame\n",
        "data1 = pd.DataFrame(breast_cancer1.data,columns= breast_cancer1.feature_names)\n",
        "Y1 = breast_cancer.target\n",
        "\n",
        "# using mean value binarisation technique to check whether accuracy will decrease or increase.\n",
        "for i in data1.columns:\n",
        "  data1[i]= (data1[i]< data1[i].mean()).astype(int)\n",
        "# 1st parameter = data dataframe\n",
        "# 2nd parameter = target dataframe\n",
        "# 3rd parameter = 90% ttraining split 10% test split\n",
        "# 4th parameter = deterministic split always give same o/p  \n",
        "X_train1, X_test1, Y_train1, Y_test1 = train_test_split(data1,Y1,test_size=0.1, stratify = Y ,random_state=1)\n",
        "#convertind dataframes to numpy\n",
        "X_train1 =X_train1.values\n",
        "X_test1 =X_test1.values"
      ],
      "execution_count": 0,
      "outputs": []
    },
    {
      "cell_type": "code",
      "metadata": {
        "id": "bU8zGTk91bY_",
        "colab_type": "code",
        "outputId": "138d9b07-5901-48b6-c570-9c824c0f9e53",
        "colab": {
          "base_uri": "https://localhost:8080/",
          "height": 332
        }
      },
      "source": [
        "mpneuron = MPNeuron()\n",
        "mpneuron.fit(X_train1,Y_train1)\n",
        "mpneuron.accuracy(mpneuron.predict(X_test1),Y_test1)"
      ],
      "execution_count": 72,
      "outputs": [
        {
          "output_type": "stream",
          "text": [
            "Optical value of b is 15\n",
            "Highest accuracy for training data is  90.625\n"
          ],
          "name": "stdout"
        },
        {
          "output_type": "display_data",
          "data": {
            "image/png": "[encoded data removed]",
            "text/plain": [
              "<Figure size 432x288 with 1 Axes>"
            ]
          },
          "metadata": {
            "tags": [],
            "needs_background": "light"
          }
        },
        {
          "output_type": "stream",
          "text": [
            "Highest accuracy for testing data  is  89.47368421052632\n"
          ],
          "name": "stdout"
        }
      ]
    },
    {
      "cell_type": "markdown",
      "metadata": {
        "id": "6cvndaQxCBMx",
        "colab_type": "text"
      },
      "source": [
        "--------------------------------------------------------------------------------"
      ]
    },
    {
      "cell_type": "markdown",
      "metadata": {
        "id": "27lwT7MX7P59",
        "colab_type": "text"
      },
      "source": [
        "**ANS** Exercise 2:\n",
        "accuracy of MPNeuron model is increased by 14 % in training dataset and 12% in testing data set by proper binarisation."
      ]
    },
    {
      "cell_type": "markdown",
      "metadata": {
        "id": "UIRwSqjIB89R",
        "colab_type": "text"
      },
      "source": [
        "--------------------------------------------------------------------------------"
      ]
    },
    {
      "cell_type": "markdown",
      "metadata": {
        "id": "cXF9fYMtEdrS",
        "colab_type": "text"
      },
      "source": [
        "Exercise 3: See the variation of accuracy over b in MPNeuron (training and testing) "
      ]
    },
    {
      "cell_type": "markdown",
      "metadata": {
        "id": "OplrCNzhIFKF",
        "colab_type": "text"
      },
      "source": [
        "**ANS** Exercise 3:"
      ]
    },
    {
      "cell_type": "code",
      "metadata": {
        "id": "Htw4hyI_B_0E",
        "colab_type": "code",
        "colab": {
          "base_uri": "https://localhost:8080/",
          "height": 664
        },
        "outputId": "741140c8-206c-43f4-856e-5b8a5bbb4032"
      },
      "source": [
        "\n",
        "print('Training accuracy:-')\n",
        "mpneuron.fit(X_train1,Y_train1)\n",
        "print('Test accuracy:-')\n",
        "mpneuron.fit(X_test1,Y_test1)\n"
      ],
      "execution_count": 73,
      "outputs": [
        {
          "output_type": "stream",
          "text": [
            "Training accuracy:-\n",
            "Optical value of b is 15\n",
            "Highest accuracy for training data is  90.625\n"
          ],
          "name": "stdout"
        },
        {
          "output_type": "display_data",
          "data": {
            "image/png": "[encoded data removed]",
            "text/plain": [
              "<Figure size 432x288 with 1 Axes>"
            ]
          },
          "metadata": {
            "tags": [],
            "needs_background": "light"
          }
        },
        {
          "output_type": "stream",
          "text": [
            "Test accuracy:-\n",
            "Optical value of b is 15\n",
            "Highest accuracy for training data is  89.47368421052632\n"
          ],
          "name": "stdout"
        },
        {
          "output_type": "display_data",
          "data": {
            "image/png": "[encoded data removed]",
            "text/plain": [
              "<Figure size 432x288 with 1 Axes>"
            ]
          },
          "metadata": {
            "tags": [],
            "needs_background": "light"
          }
        },
        {
          "output_type": "execute_result",
          "data": {
            "text/plain": [
              "30"
            ]
          },
          "metadata": {
            "tags": []
          },
          "execution_count": 73
        }
      ]
    },
    {
      "cell_type": "markdown",
      "metadata": {
        "id": "Q2f_glbcFrXa",
        "colab_type": "text"
      },
      "source": [
        "Exercise 4: Playing with hyperparameter of perceptron and come up with some colclusion."
      ]
    },
    {
      "cell_type": "code",
      "metadata": {
        "id": "_EjPogpfGLY0",
        "colab_type": "code",
        "colab": {
          "base_uri": "https://localhost:8080/",
          "height": 863
        },
        "outputId": "ba3fcf9b-30f8-4799-aac2-1fe1c509c909"
      },
      "source": [
        "print('when epoch =1')\n",
        "weightMatrix = perceptron.fit(X_train,Y_train,1,0.5)\n",
        "print('Accuracy of Perceptron model after changing the epoch ',accuracy_score(perceptron.predict(X_train),Y_train)*100)\n",
        "print('when epoch =1000')\n",
        "weightMatrix = perceptron.fit(X_train,Y_train,1000,0.5)\n",
        "print('Accuracy of Perceptron model after changing the epoch ',accuracy_score(perceptron.predict(X_train),Y_train)*100)\n",
        "print('when epoch =10000')\n",
        "weightMatrix = perceptron.fit(X_train,Y_train,10000,0.5)\n",
        "print('Accuracy of Perceptron model after changing the epoch ',accuracy_score(perceptron.predict(X_train),Y_train)*100)"
      ],
      "execution_count": 74,
      "outputs": [
        {
          "output_type": "stream",
          "text": [
            "when epoch =1\n"
          ],
          "name": "stdout"
        },
        {
          "output_type": "display_data",
          "data": {
            "image/png": "[encoded data removed]",
            "text/plain": [
              "<Figure size 432x288 with 1 Axes>"
            ]
          },
          "metadata": {
            "tags": [],
            "needs_background": "light"
          }
        },
        {
          "output_type": "stream",
          "text": [
            "Accuracy of Perceptron model after changing the epoch  37.3046875\n",
            "when epoch =1000\n"
          ],
          "name": "stdout"
        },
        {
          "output_type": "display_data",
          "data": {
            "image/png": "[encoded data removed]",
            "text/plain": [
              "<Figure size 432x288 with 1 Axes>"
            ]
          },
          "metadata": {
            "tags": [],
            "needs_background": "light"
          }
        },
        {
          "output_type": "stream",
          "text": [
            "Accuracy of Perceptron model after changing the epoch  93.75\n",
            "when epoch =100000\n"
          ],
          "name": "stdout"
        },
        {
          "output_type": "display_data",
          "data": {
            "image/png": "[encoded data removed]",
            "text/plain": [
              "<Figure size 432x288 with 1 Axes>"
            ]
          },
          "metadata": {
            "tags": [],
            "needs_background": "light"
          }
        },
        {
          "output_type": "stream",
          "text": [
            "Accuracy of Perceptron model after changing the epoch  94.7265625\n"
          ],
          "name": "stdout"
        }
      ]
    },
    {
      "cell_type": "code",
      "metadata": {
        "id": "K64iHwZrI1m5",
        "colab_type": "code",
        "colab": {
          "base_uri": "https://localhost:8080/",
          "height": 269
        },
        "outputId": "43a74a34-4922-40e0-d909-3ebb95607e07"
      },
      "source": [
        "# First set up the figure, the axis, and the plot element we want to animate\n",
        "fig, ax = plt.subplots()\n",
        "\n",
        "ax.set_xlim(( 0, weightMatrix.shape[1]))\n",
        "ax.set_ylim((-15000, 25000))\n",
        "\n",
        "line, = ax.plot([], [], lw=2)"
      ],
      "execution_count": 58,
      "outputs": [
        {
          "output_type": "display_data",
          "data": {
            "image/png": "[encoded data removed]",
            "text/plain": [
              "<Figure size 432x288 with 1 Axes>"
            ]
          },
          "metadata": {
            "tags": [],
            "needs_background": "light"
          }
        }
      ]
    },
    {
      "cell_type": "code",
      "metadata": {
        "id": "OAoXxs0hJBog",
        "colab_type": "code",
        "colab": {}
      },
      "source": [
        "# animation function. This is called sequentially\n",
        "def animate(i):\n",
        "    x = np.array(list(range(weightMatrix.shape[1])))\n",
        "    y = weightMatrix[i, :]\n",
        "    line.set_data(x, y)\n",
        "    return (line,)"
      ],
      "execution_count": 0,
      "outputs": []
    },
    {
      "cell_type": "code",
      "metadata": {
        "id": "s3CCF1dQJFSj",
        "colab_type": "code",
        "colab": {}
      },
      "source": [
        "# call the animator. blit=True means only re-draw the parts that have changed.\n",
        "anim = animation.FuncAnimation(fig, animate, frames=100, interval=20, blit=True)"
      ],
      "execution_count": 0,
      "outputs": []
    },
    {
      "cell_type": "code",
      "metadata": {
        "id": "i9N1o8_4JGSY",
        "colab_type": "code",
        "colab": {
          "base_uri": "https://localhost:8080/",
          "height": 309
        },
        "outputId": "4c515a9e-b720-41fb-b5b5-b403ba09face"
      },
      "source": [
        "#converting the whole prcoess to the html5video\n",
        "HTML(anim.to_html5_video())\n"
      ],
      "execution_count": 65,
      "outputs": [
        {
          "output_type": "execute_result",
          "data": {
            "text/html": [
              "<video width=\"432\" height=\"288\" controls autoplay loop>\n",
              "  <source type=\"video/mp4\" src=\"data:video/mp4;base64,AAAAHGZ0eXBNNFYgAAACAGlzb21pc28yYXZjMQAAAAhmcmVlAAA7QG1kYXQAAAKuBgX//6rcRem9\n",
              "5tlIt5Ys2CDZI+7veDI2NCAtIGNvcmUgMTUyIHIyODU0IGU5YTU5MDMgLSBILjI2NC9NUEVHLTQg\n",
              "QVZDIGNvZGVjIC0gQ29weWxlZnQgMjAwMy0yMDE3IC0gaHR0cDovL3d3dy52aWRlb2xhbi5vcmcv\n",
              "eDI2NC5odG1sIC0gb3B0aW9uczogY2FiYWM9MSByZWY9MyBkZWJsb2NrPTE6MDowIGFuYWx5c2U9\n",
              "MHgzOjB4MTEzIG1lPWhleCBzdWJtZT03IHBzeT0xIHBzeV9yZD0xLjAwOjAuMDAgbWl4ZWRfcmVm\n",
              "PTEgbWVfcmFuZ2U9MTYgY2hyb21hX21lPTEgdHJlbGxpcz0xIDh4OGRjdD0xIGNxbT0wIGRlYWR6\n",
              "b25lPTIxLDExIGZhc3RfcHNraXA9MSBjaHJvbWFfcXBfb2Zmc2V0PS0yIHRocmVhZHM9MyBsb29r\n",
              "YWhlYWRfdGhyZWFkcz0xIHNsaWNlZF90aHJlYWRzPTAgbnI9MCBkZWNpbWF0ZT0xIGludGVybGFj\n",
              "ZWQ9MCBibHVyYXlfY29tcGF0PTAgY29uc3RyYWluZWRfaW50cmE9MCBiZnJhbWVzPTMgYl9weXJh\n",
              "bWlkPTIgYl9hZGFwdD0xIGJfYmlhcz0wIGRpcmVjdD0xIHdlaWdodGI9MSBvcGVuX2dvcD0wIHdl\n",
              "aWdodHA9MiBrZXlpbnQ9MjUwIGtleWludF9taW49MjUgc2NlbmVjdXQ9NDAgaW50cmFfcmVmcmVz\n",
              "aD0wIHJjX2xvb2thaGVhZD00MCByYz1jcmYgbWJ0cmVlPTEgY3JmPTIzLjAgcWNvbXA9MC42MCBx\n",
              "cG1pbj0wIHFwbWF4PTY5IHFwc3RlcD00IGlwX3JhdGlvPTEuNDAgYXE9MToxLjAwAIAAAAzrZYiE\n",
              "AC///vau/MsrRwuVLh1Ze7NR8uhJcv2IMH1oAAADAADXFXg4X1UBAikPp7THqgE3uHmiOoXGq2dj\n",
              "60ycB2Lk4BPTR4J1eSbezHKrke+mT142ZuBsYg3CIRhHDjrRt6TUP1GuqBvZKY+cfnKUGXVWTx3v\n",
              "YtMM4oxRKN04AAADALCkfGWs5jhU0nkQYZY78uv1pYFQnNdmuOqwDfSs8G+rhE4ey/5yBafGxLdI\n",
              "MWYGu+0EOlMT7VX0ECEz39b0F+PB0ZEcNZiUG/1hHGLE7Q9x5NS0JKVuWNwVt6x8i096WNk5wddS\n",
              "at2EU6Qe4kOkxEuwXFv00sdH+XUxFhkkoK7gW/v1wDiJQEsQfoUMVd+m5WVGlvXdI3qq6KqoD6HV\n",
              "N82uaV2AwVyQRcoHu6/5v5Klocz899lrqYTyLjQ7vwnZBqjsN1joKXRhHvQgu6BFzAIUBRrMLFty\n",
              "kDCgbE4EbnJQnrrW1QKrAKrDsyke3Fe/cW8FqnBvWt8611XcD8CVRG1KfjqFf/9b2Oc/ashwq1yy\n",
              "SjKf+lrgPRQn6nHrbCPm754uj5SPWUVx7EfT34iYR/bv2VF/UhExdk1ebVSVWz8Ex39M7xDowQwT\n",
              "tGFSRPBlDb48ckWh8FoIDI48E+GC9b5D6BP8E8po4KDL//e8jd4cdhqcrbcSlxmLndsJVgLPaPOw\n",
              "LKVuw0YAu3jAirlaNU0QYyf41gAZg7Y/+coDuLxM2Kkzb6W/U+g7CZ1xjD+3mQ6rLMmdbvX1nHCd\n",
              "DdobcGMHqJebeF3G0ffLX3bS7Jqr3C8S8vu8dXtQjJ8EQAwohVtiutL7zWImV8zHTpn/MykLuIeC\n",
              "4ACMmWyX9ytAi32dLSdYx0/NHEovZywVwjJWe6qBFMBr4f2/Q/dCE5VxFEQt1fEzHmtVBXH598+t\n",
              "SYyCUa35h9QyKRljSXWw1Y62uIasa3Tt3GJY0/bl8T1cW70fEBmDRwHjvxMViiHeohz/sCdgVfaP\n",
              "Ecgsyry1zwBUmRf9faol0f6uI7E/BBvDh4IGk9i5y5i0qx20rLlSPnGYrqjy0Akr+RNrWM/71faO\n",
              "OOPuRr1fwhT3IeyceT/ieGbn//1N3aXSAzd3rT9xIY+k3p5kOoB3vnXoFNo0c7BMkYAAF0S6pAAZ\n",
              "TXDW+H2AigENrqfnINI/dgTLCg9G0Z2Pj6ShlVj3Xdp3qvpR/AOfYxcj3GrW4P72DwHjfDEoar3+\n",
              "TF9O2zEDlu41IdqTf4GWhfpsRW30RXMPZ6CYEtkHkrgPV8MhI2DIt63hq398UngBojGlelJe4nvF\n",
              "EkDy8UYXAzLF0qT+WmsC3kXEtMftWAV8BX2+aS3YYF/sXRPiztbmYT3IAgqa0HBuHI0XMVkbn5f2\n",
              "6mvgA8cYf0qRK7HcpoU+MO9hGpUt+u1q6sVrD+MiXn6/wHMD0gFPKl6RyG+VzJTlrSufrLjddIai\n",
              "Najmt+jX5JHjwgFbmh0EXBoio+ukU7wL+zK/wC5ns1vka+Nj4CoeuvLbnBOouDa8cbkaMx/cFlAU\n",
              "OSt8/Hv8iboWtg2AjJa5REka3pxw1ksmNtv8BOFnV8/fBLQ2jyNCnyqyxTlsIuKoNTh0rijekueK\n",
              "tIy1xCfragoPkBPEnqG0BNBZ2jEJtO6tQHXgNtZRO0A0/M+l27yruNIm2PEsfUpCdM4iGSRExNSJ\n",
              "DjlXZCl8pHzC5R/g4nK7qn01lcos34XG7bU047bcuOEXGS+Ys15vhBz6/c0py9kG3j66aQRn9aXw\n",
              "4X60elxQRfNzvplcpGjur7uv4NahnGennFccv6L2dxnCfM0YD52nY7w+huF8I7eJVre4OHLgDS6l\n",
              "7xer/JsKrQAxq0X+iuEm5Mi557skfndZzOGPKCI0oZC9Ck7Ou2lbyNT3ytS77ur6Vb4gYxKDaLY8\n",
              "1tSceKXknOd/9WLl1nX3RRkIaON/FL5aYrVpmvOB/Nkmh7JxPGYLsNstzHN1iHfgbZulesYSXLeC\n",
              "zRFyyRPNbKp77hi4OX4yv9J29XcmkF5em4Hd0hx3Wh/cV6SHcrp2MeuHswTqJvZPHvgfl1SspJkP\n",
              "HyV5T6ojH7Bihm2oujE7fRu1jv6uD8b1DhKui+RZiJ+aXkRYrBg9IVgqIxQ3Z7Uev2v+ITJbh2F0\n",
              "CqTP4tfySI59TFraLBeySAryn7/DM+0aA/m6ZC///91DioToorEbhUv4e7rYCJAS1BOCRQC5WkY7\n",
              "pdLA599wxg8EAmcFZlSSrUiEJFRDYBC6Zfueplr+wRfyEo6FXDp70WTGhUyKXMaRHHOPknWgRoAI\n",
              "v+etWsIaQfnQGiqYDFQ31YAVhfbFQ/+v8Yp7tC/FoMed3b0GkPsHivFpRJjISet/ThQxWXp6+HuP\n",
              "JuCyik4bgEkThc10sW06beXKqPt61HmW1Xd2FkbesorT4BrbIOFAIhdBiqf4Jv9lrTB8wqbFSVK/\n",
              "5J/ODxnInRB9+EEwC/ylCVGx4BQia4BmoISM5q2brlKxvxG6MVlmEbaxQjJN71mRVXFf7HG9BSmQ\n",
              "rO4U/BhoF2qUvcnfmYgi77mge8lOIxAQSCa5gXmXX+/OVqLXOmXmmSTmaLWCTJfS2miqqHKANs2M\n",
              "PJmhlh+IWd+R8izUDHWQXDNMRNjpSFvTWLM+Ypi/DG1+5raDiQiyUeuIwgY9WEJjc2fzMJo6DoHr\n",
              "H8Rny7dSEDbA1sl4eXYUkQyulHNJXdlwhP8r5DXheaOD6Ckn4WZnBsoAj5z0UqtvlQ/yEI7vWeqV\n",
              "XvQFqcPd4s+HsB4H/s/dCQ+zLp6gUnKVP3Xuo9G+7WhA5y8QVT44uE91xmcPoqbfl747NQAM10T7\n",
              "MJQzjXgryhW3EHR5M0sehC7xk7igSOXo+ruPIyKrEduv3YH9Hltfsu6CYCiwDeLE9gm3vcu3AanR\n",
              "TJ02dtMBlmGmR11/AWQkxv94npSMBmf+9aLk9pWSWRdWTFRD/AHIBt/CKXJF9FQOXLucHSEo0SKq\n",
              "m9iRvmO2n4D/iwa1kAAGZZwEVBCOEweuYUAbwbY8ayhttd8Pme06/huXdXins+8a672/s36bMRpg\n",
              "pvqC3f31I1kRAtiMI1Qs8YQoooCQ6/Wv5goQIyohF9CVsSgx5VQAdYNM4BvofB8kechhHWCK0mf1\n",
              "VR9/Z3acuaf8KsDR08PeCCwL6mU51/keZTSa534vTqVgVztD1vK05Pm3D3VkduQlnQHxDycgGefk\n",
              "PS5hfTnSHS6sgYMADzBYoArSz9M7TE5OWQ0fNukMpRmEADauj0dKkv4eMvpbV7KWrIUVqfhePhCI\n",
              "wNQpkDgdLvffgcqcpp3PsclcJsRWQ8peWpcwSSbZSDC3n4k0Vp1+1g7XgWfaWVAoaHHV0qFXiBCf\n",
              "3l6mtRl5qoUaKWqCjmu3xnJ3mA4MnyTjacx++dwTcEfz63gh5t4U2Y2gFUcXeLYwcnF9dWutBl41\n",
              "SPUSWcWLWXh0pIhaAQi8XXgttGZNZKs9Pju5gLspaffX2g23Sa9C+x+aU278NzRNDcdVHIqamgkT\n",
              "gTH9L0bWAFrOzVV8WxQRqn0eocPC/eWFEZNy1SFfq+TZ4O9SRwb6bXLvebwsyKlbtNOA+WwuCzz9\n",
              "sjaHEpz6EcNcdy3dtOMDaOsEpJMeXYtWTQe3zHius8t393mItoQc4kY5c0WctWRhm/xzIM/uOpD3\n",
              "dnFZuQNyicoofD44SOSImNwolbvecCphcjAxOjN0T6n9jBpxBTm5eZFOUKzn/lOAy06sYtJtbuQv\n",
              "uwCwZX2e9z+X2/F/mHwGD18/5DQplvhDHJXbskBUaiuqrdeOMB1tCfOMVPv9eAh6DY4brXjLrOKG\n",
              "YpyC2URJwy4wZ6w5Q7PbSjTf2Qdjb/RkaPXUUbgFK58ZsOSzrDUdA7ul5y3D1tlTKYpHIzKdJEmJ\n",
              "93wszjC+fntPBLLTkw5dRBt/tBKMW1g73B25llMmXDmO10R4Z6bAbqCME1j4rtKAYTA1tVJuLNV+\n",
              "FwhAAXEg/CkDFJgNKoAjoVO/q3jqwvrJ/KeB487qzbfejHs6u+oL+NcfAeY0/IHAo3YggC0NwxJx\n",
              "QYDWg4AmFePe/PqPFoy9vK5lhCgO8nD8NC2lTkJ5VdZ1R7TuzJasIpa1nk3pYoN2WxsCs0EJd2ei\n",
              "U36ly3UFHBShDL0lnxRtZRSCyuTah2B1xRe3lvU2RKLZnxXgHZ211EdcL4bKl/VHc69CFuPXVFEk\n",
              "ItvOrf4lr9z2NfKaGWhrsIxucY/Jf4RQzKAkA30uMRFaChNRzYX7+AFOniIHhYbYKu1XaOp+U8DY\n",
              "lXi9KTEzIaROSnx75jGj9zrOxSRkpW6yucZf86UktEz7AyUlRQBSqi5FfdKLVhc1WDA5Yh1j8m83\n",
              "veH2LCDvGmzR75Z+CmWXIW2GRVExumwFtszXOcJNGXG8tnyis7iie6gKGwsgAARF4gAGmACfgQAA\n",
              "AnFBmiFsQv/+jLCE4nJznwA9kmHaypyCQ6+AAAcP1FCnqREcXi0MLRMvVBgGu3PmvT2043IxSRJn\n",
              "bOkxA0RT08IC1w2KkJLi7uKuQ4fImOZWfjyNg+tfyzdxptqWOOGaOaNgcynPYFY4DNglGqsvoIaj\n",
              "prBcHsCTyNBWitpY3gEZ6NxsMy6Pk3drh3bj9q2X/rCXVwOlURGqLbsTde+Y9R649qQSn2xaknP/\n",
              "d0M3YmlHv9negv+aEG5P6Yt8hGuqvOqoyv9dxdwiMH4EC2vh8dPcegVDLaXXdQUdJIRzc83mysq2\n",
              "eFXFzkn6Qrz3tgc1uXrWxeNEJMv1O4xQOpgLSJQOfJuJy29w6LALjnpuCNW/3jAp0nE+Z/khh8jd\n",
              "QAc0pF2JUxIRGZ9zlkLFxTtYL8IU6xYkPrPjQsaDihnakDzctWNjh+WMGnjJASPCBnpPXwkj5aWk\n",
              "oKaNZ2GEig6k7GPGZNtKtXyB7/XW71UrHIANBNDtNke+Xm0w+DQau/hWhoWxwKotHoL65V1YNdgj\n",
              "OaycjpuHL2AiVK/N8t23ZvEQKGln27bpYH6Iyi+Hkg7Vjs3gvudvNr2MFlGuTxwtSemZTRnpPUeq\n",
              "/H6PH59n+JNIoqE9142I90bC30YAM6TZdzWDxxjQHV+GOATZKKZf1Y27choWJiOiTy/90+nrXNUt\n",
              "+p6SbeUsuPdI2Qk1L0/45VVVqe5EXc0YxXqH+S/+Bn/BAj7xxJZsBBixX/odCeqsgQ9WU78Mm03/\n",
              "ppmM4WUYAmo/zddi+bWEiKNjeOYlAaCtb+4/86nsGgqd74eJ2/ki+da5HP0+nmN0MkwXTa+UVPC4\n",
              "AAACUEGaQzwhkymEM//+nhAK/0auIP2WM6StPiAHFpWADVTz3jB5wW4RmO7f8xbV700lbKENqdoo\n",
              "yl8Pa81o9LzkOVhApWKBfjSVKmJIUN0kvikyrb46/pLFh/lIdOKRnJ4RaNNHeaTe8C1S0tk1Rkh7\n",
              "++Zn/XKm5RARkMYHfqNfnjIFbnMdlzzxVYXZsW59S4bzA9VC35ktDBlJegDt7MX81sCUL3JVQvs8\n",
              "TC1lFriwBCCKyGCSjgJZXYUAiF1ZR/gJG1gd9sDIczWxy8y4KmSCjkRz7wpq9JRW8f4seMWwZmtF\n",
              "1vjfgkSLcI9rkQ2YgY27cAk9Wao0rOQDnOELoWg3My85pui9M79RxFTl56CAHcVRGc633QwVwhKF\n",
              "k6Y3D16ekSydnsIhzaowqLaBR3+AM6LQ8DvopDG1Et6K/lHwaJbYmUi0XZ8TjT0gB7vN7RTufR6g\n",
              "M95YtIFz6cAyIdYKtEWrfHFYbJSnBRNcqy3zT6/umtUJMOZf/+WGlGWaOri2BeNwRf6JFcLRdDtV\n",
              "prcZag66IdSOLxhL3qlbLF3iRKqYVDOGpfOQHTO5zgb6LA0gwtwozaGUK4iqvFIHQn33MifhiY9U\n",
              "Fw+NqbtkSLwg0DaOPnfyHFSy69XEuYnAIfJ9TzVvOseqBCaH6E2OECmybt85Nv42TPxWCTVSlg7j\n",
              "RVLOVidaq2W9Ckk3fZYYAeXv5/ilXaieiQItv2Q0sxCcroXUSMou0aEGYfdjumTOZtpbOVCC4Gqh\n",
              "pLm7cp/9P2K/9kPKJBu9JbhxQzXWEOFGdOEAAABhAZ5iakf/A/Obq62HfKn9UhT1yaK+vD8dUw5P\n",
              "IbDlGA3p5YEjxop6ueUv46nW4A+WmIAVm3ALdwDQZwdzIoD5NDvcU9X0WH3JhCmgd1sR8b0CEvVv\n",
              "2CdzUBdRh3NCDyVTuwAAAflBmmdJ4Q8mUwIX//6MsAANQMmduJAVLy9aQA+x8mpeai+v/rT52RC7\n",
              "KyzP9Eo9EB5wldS2IiFQdH9L7738eXjsr/C/OGrH176c2GAiIB35ajyqsT1oNyn9sCCQhOM4Gw8I\n",
              "cdJGQ9Rmp3rEG57CcUcN+BTuzK/R8q3b6Q7Va1np31wY9SFOwk6xyMGzRQBT3dx5TZ3wG28OtpDp\n",
              "rr6gsBGtWQpUJmRlLtDo9yiK51ihRkc6cApWAT52EDb+9G5xBYX/5EFFhjjSicjaRJm+Bz5umAoe\n",
              "Qef35wDIH3IxjM+T2fWqii8CMa+HHhFibRmToTG4CIIwZVGIMBsnHbZvMDhmPpqfz5Rjvv9icLqo\n",
              "Vh2dlyHfl7xHpFqkDLpCdNUKokGZqwNgXS7EHGi8DBj378djTJFPVpo1rbSB1h4bqg7viGljrbCm\n",
              "UbEgY0ZClzcmIqYl+ZGq9Z/SnPNLPqt3CI+N2ABYwby6M4+Ix6P1J1Jlav/amqP5QMIUOCxgLiJ6\n",
              "4XFraKB2rcZar9s0+L6T2jP7Vs7ytRZ0l+q5DCJGpuqBntWOKEddKb0HSFMLSCtc2kg77Dzo8g/r\n",
              "PdqUMKA/x4U9GOWx6fOEIIB0bxz6vhbxwvPkFhXErVQKEXduPTCGrFA8S1AKxvdzZITkLiemipoN\n",
              "SXkX1sXyr2pBAAAAW0GehUURPCP/ACRKyeEP+lR2tdjZj1aGVKNQrebWr1WkWKmY2nRWnv3fZaOI\n",
              "L9gtHEZ+0AWz40SqK45dydHB4qyDesUzMmsnfaHYLNKB4/u3JFxNzozltzo039EAAAAxAZ6kdEf/\n",
              "ADnxTn/UpNjLhlyMpjjcXSOAaagl5I7KBCb+U6hPrYRIZDLZnqvJhVyrcQAAACkBnqZqR/8AOhAD\n",
              "8s9UMc4s4boBuBtm1vApuNwb2eiiUadpe5GkO6YD1wAAAXVBmqpJqEFomUwIZ//+nhAAGlkEe9wB\n",
              "PMaqkOmiAZfgi/4HaUjcY9FHeZnTYF6O55SFivsecA5C3kij52V+bVqdhzYJAtRlNEvWVapBWpEL\n",
              "8MYJB5mHA0qRLvyqYDo5/EfTUhVTrIvSbGSyct28QvsZTkhYHyhR8Qim+FpvXXRlOWG+W6A/7ufZ\n",
              "2uznud3Tvsx9nJdCorRAAh7VcwDEMJp0LWkUy4utlq2YPmsmR9hMxz6/mLfWgRcwUwZ6bzzuFomp\n",
              "8mndsdGDBAaqgYmHEjHcwxpQdQhc950bHBj8WswWpPL2HApIy0NG23AECgKS6MdpGssCm7AIqWDZ\n",
              "DKzYHY7nbQx6mnwDEhxn0WJ/BszHZkiGJa0jU2G1Bw9PBewvQiK2223FwxKrX/455NK9YzEDw54i\n",
              "nLJUuikwAGaYwCqV/dKrDGGOUcjz+RXZH05OkTDB/27f9Gv7aYLBw8IYE7pIP78GXBMQKLWEVkgd\n",
              "zkbjyhIQvJmAAAAAP0GeyEURLCP/ACTFQPjACGdY/n9Mer3+Iu51LNpw6DyeCEEPLLAAcjVaG27F\n",
              "rDo9F6WNfKsxLUqrZETFo09DGgAAAC0BnulqR/8AOhAD8f71Kd9WEa4q1fJdauOGU4nkE+BLdB25\n",
              "odq2wZy3OALeFFEAAAF4QZruSahBbJlMCGf//p4QABpxuof3ADdlNrLE0eqbj+oaF5OfGXLFnrqM\n",
              "uzwJoGOcav51+IRm5X+EUyws4MMzAwIHJ7ohJ2EpW1r/gF9vtL9Zoite8zVN7y6o44tJ6J2Y1zeM\n",
              "HnDiRQqkwjOWWsUevKP2bdIzS5F825RTLGkcU0oPg0oY6SRyTkmmFLh6+ATl+T7FHjJJka6UcRdr\n",
              "KgZOe9ZUNi24N8zAwFqe9XfQ9mv5LywwgDcyrUfNaQqqXkNAK2nBFQduMv8uV/EWX1ewmy7E6ngs\n",
              "Ms24J0/RdCxoCICB2OAjc7otAAU9qkv/MOaVc2kWaLM0SGXy3VlGX32B3NSl2vnJ0Zy5siuyrhnH\n",
              "r0ese9qywMznM5tw0nTYgxOssfBO1J+E0MAjXP68qQKRZI7v+m+rczwQBQm0nj7UNR5wQk/2HJC5\n",
              "YcI8MuaSxCqYy8OD+6oSS1COLuaeyWewkSnf9OedjRn7NajPW7D8wFv3brNyFemNwAAAAEZBnwxF\n",
              "FSwj/wAkxUD4F4grEESdCI3NkqhJTDrxTAcFNHIJmTm9Lja/qHYzjdWWA0s1Mc5b015VQnQTL5j8\n",
              "on3IKe4HXfuAAAAAKwGfK3RH/wA58VC1OECB8LjqiGM/UP+zMlwCzKhGsXVZ71DelOQc6SA4Y2MA\n",
              "AAAcAZ8takf/ADoQA/IKSGu9WEcBp5dV+15AFpM9QQAAAVhBmzJJqEFsmUwIZ//+nhAAGnIwO2e5\n",
              "QArXPFPKUCiV6PS4VVRX/Ors93VnbPyQJI1DGxarMGkrWCNTAoFD4Sv+y+GfNQcZEAxHN5J7+6nT\n",
              "YoU3rKQm39uud/kGMExgPs9qOWyHo2FsvD9PUSJlYUrXO0kXUNAZKmaKa0cSwzwMgkvemajF06yU\n",
              "Wo51ZQjvi3G+uZ262TDdK9zr+ReZwMkbMESKLbQ7xaroPeVXv3nZ7WkWyW23aMSMz8x2Fh9JTJHi\n",
              "N7T7sO6ZEBFY8yOj1JJtO9yWYz3mMJlf2P3EBCqUAvsVZwI749JZmDZBGEeSPqJpDv6Dm5L6u2cg\n",
              "ZtrYPrZS34odFfDjuroWRXJkv2dwZcCnHUJjN34d26omhvGiZyDYMtu2o4yiky7b9uSGgqFytby/\n",
              "adK4JOM8EZ6TcCAzlpnfDcs1CYN34n5enLCfc0ioBeiDinPDkQAAADRBn1BFFSwj/wAkxUD4F5Tj\n",
              "pJampKQLlEaalCbp+V258DRn33Yhj1DfPHH15x5gL7x5ssGAAAAAIgGfb3RH/wA58VCvqm5YVSmH\n",
              "D1YkPCe4adeIUwfCz4H7c1gAAAAjAZ9xakf/ADoQA+xjz90QDumqR4d+YB310OD3TaSvuAUVs6EA\n",
              "AAFcQZt2SahBbJlMCGf//p4QABpyMDrWIAAsK65DHbTE2CnEFXitv+r9t+OjcAbN8XnWgGGE+5Gy\n",
              "W60HKXiyDPaLECf6pyg2y564BXITNfDdtjzVWcKkHJ1rrP0zY9LaDPKZYKrlKhVrNyyPfnWoZjY1\n",
              "ktc73yTMq+Xl5E7lfkbaj71/TvZreNuYcOwdkmdBiqORvGJ6moQShnbmzw9FESNnYs1ZwgtTlByc\n",
              "LxjNm7dfiWS/AZPc9Bpot7l3YX0XkIO85Th0DllgmHbVfyIXOAQRV4XvviCUpUmS+JXPr6LJrU7a\n",
              "S2cldyLdvh7a0QilGB7E7QN8t/S8zinVDMKqKj9ys3WKCtV+XLJ/NLadINFj5qkpqBCAon2czIPX\n",
              "T7HzzJPSZPVMBXy65RoEMJ7SFLYGIPerQ/zuLxxh7f3doCWZrQZuALiK9NvfieGVtT8lXH+k7p35\n",
              "x2it2FmX6ERMAAAAMkGflEUVLCP/ACTFQe2AD5+DGUDk1t2jIBxBOiX3iQnCTJBMhpvU+eAmDI9M\n",
              "TTvnwNiAAAAAHgGfs3RH/wA58VCx0b+D+8kF0GZ7k0Qds/ImBI/RoQAAACABn7VqR/8AOhAHxZ6o\n",
              "aX+VUq1Qt2aBUfEkFZ8CQSkKyAAAAUxBm7pJqEFsmUwIZ//+nhAAGnIsYE9WACrkVoZEREqxbQho\n",
              "qeghRD9D3W+FlIu4/xHxegAHn//4tSZljH4qxaJSdeW0J21/k3PJswfzpeWOgWQMBjLYh9b0zXRb\n",
              "nlh9Hu9bwmjastLGB2fNNicvIpyqtIBA0OhOPC/T+qJUaeyRreYeQGu1OiPRAK7HFuxLMnUmo45U\n",
              "v/+liAvjLvSjkzfqq1eRaTuWaXlwTVUfP50AowCpN1nJWyqhfmsmu2Q2y18RnnCAW+kEde/XIsTQ\n",
              "m8qfAR67jK2hXXZqgiRVz+8vmRDXAXbYSxkx/Z5Vk0J7HZHYer3bvL3aeFmDwiZHBw9u5zyWoWO2\n",
              "QwTZ0Guo8zeRqCRVqkdVk6tLdRfHKjqQIOesGmoyYziLzpASrjxdxyuZBuaf7TosZk1dPt7zR32E\n",
              "7HWcU+o6E3J/vlN+pwAAADZBn9hFFSwj/wAkxUHt6uK2yO8PHF85yWpQVn7i6/4YrYRhKfZ0LHgW\n",
              "J6lGP2DpBlRFs86OQf8AAAAeAZ/3dEf/ADnxVRIhPnPVuzT23bKiEsQkLP6AGZGnAAAAIgGf+WpH\n",
              "/wA6EAfFnqhphidzY0gAu4+g/lWmBRJuhIWEQ9sAAAE8QZv+SahBbJlMCGf//p4QADSx+GlID5C6\n",
              "OhxzsrVV3ZkLukprHNaIBLXXzGsWNssy4vxUPup9R2DGcYIAyH/LfZXeFiulHkoLI+dTRROIYzM0\n",
              "5PpEemDEn2So9qKhmkaGd3vm0gaH40Y5WMuBFO4iOmXTOtPH+xtcwu3OM3Q9f7JKFJwzhMrcrpbJ\n",
              "fs6tk44XgJQbWkMZoMo2LUzVebonOOsoKdWAHRKYrkw2EB0Z9/sea12G27t9RJH35tZnz6PJgTmn\n",
              "K05TqPEd1XU28tZpxmlGAkBpjX527jJ7G4fJBXLSBVqKHjc5O3rn4Fe7FwLzfKX0ADZtgB1g0UGW\n",
              "YPA9+qnTDIzaFbLuMS15P2OFeQG8Jq8if9GBpTtzNaCbP5uyRMFwjBbOPbBI1H9zPI1zejINdlgH\n",
              "OIoA+lBhGAAAADFBnhxFFSwj/wAkxUHtpN5hnC6YP+W3u/8hWZyhqIlRQUY/llvtzYry69zlCwE3\n",
              "IgOnAAAAKAGeO3RH/wA58VTY/iq/ojgBk/bhOzmZRaUseEW3TYrQULW7MN2Q7oEAAAAbAZ49akf/\n",
              "ADoQB8Zj2Ke0BCSe+c2s0TzA6DJ0AAABMEGaIkmoQWyZTAhn//6eEAA0ozl0L+qAQhb6RA3gssnL\n",
              "D7uik8UHw7vMJ9xAy2fJFynxcgXWxvbwwrSigeZuhkEtMRa9M+4KKf46BIiq9FUujZZ80Jl26AOf\n",
              "nX0tu7O2K03Ygm/2epVsX4tv031uaQZaVZRqDYMnHS2WwJLOxBIr/42AjIsBjC6YRAyhBR9nTrAk\n",
              "a32pYxwC/E5xyc/FNGyGGajtFjaiskb4dNg1f9H4WDsfocQGrDMWtG+iDc9JlucxX9F1S5fpBRyH\n",
              "rB/xgHSdiZMh7E1WELgJPf4FNL5IslnrSHHgrPyB/6HTkofU8VvNWzn+Z6Tm5b3OoBq0aA/1CsFB\n",
              "1z7GDIBnYyi4o8Fz8w+0EJmzS7nSGPkAaNCTnWG4heT2TjgDMQ3SSN7JkWAAAAA2QZ5ARRUsI/8A\n",
              "JMVB7aSBGXpVmb/rLJZVnlb0UhPPU5rkhzKokKRVuXz8uYhVXAqMg1OJ11FxAAAAIAGef3RH/wA5\n",
              "8VUaeEBF/uvlKkAH1i7UzsohUrSBK+u8AAAAHAGeYWpH/wA6EAWRiUX8GrisSfW5bwPfsHP4j4EA\n",
              "AAE7QZpmSahBbJlMCGf//p4QADSyI/kACYjxGoK5CAQjEpzRKP/yzWDvxkCqH55f/zE2T5WCoKyi\n",
              "f4VPcjzaB+Vrk8gwhWErUvWqhCFnVLUfm5glZ6jPxaMVsspLKDs7N8xHSk9OFlows/c5enxCOYiU\n",
              "hEsXhj6hN5qfqd48oKCdWxcwdhU+5slTKjXNVvvfGcAaa4KeDIK3xAHj9c1Bg0RVdXhl3oYj92Tc\n",
              "4eADS/1xlskaCcNAEEV0vJnLo0g8XpgaPpG4C1rNcX/1izAOOhJEjOUp2yPAu3g/rpnNE9O/LDlS\n",
              "uOTzm6qsw30XKQBYo4C8j3lKyzrPXz/6v00qgCIiDkRMNrfCrpaJnRhdgKA7Vucnx9Z1CTEZV2KG\n",
              "J7wtGwO7QXWxZYpeOwSotmd87zC9RqeP63vSZCfHWjacAAAAN0GehEUVLCP/ACTFQe01zfT9zxNF\n",
              "qHSQtUzy51rKR3k9azuQyFB1y/46MeQkhuwKiE/pFPxMouEAAAAYAZ6jdEf/ADnxTQb4XdFd5ynY\n",
              "yRCJIH1hAAAAHwGepWpH/wA6EAeZmns9F3/O6gs4CDKejuv6VJMMGdEAAAFOQZqqSahBbJlMCGf/\n",
              "/p4QADTjfP5AAkwusWAXkyIfkQ0LgMlVMSuFQL/eMvBV6azQRnasoz5+7qTgyGrXqnOcsZM0ejbk\n",
              "v8l8gvtSrtPJfDApYRyz3QTp0es24LPF6e+56GOx/VUi+U6/r/nT6bsgXADVbwuNspf2DmjrmLDO\n",
              "0QCgjHeCo5fLIWe+OmDSvq3qNUTXHT8vuZUIxNCCjxOayZF2L3N7R7Xc1MYIa8rk72Cw4+nNPXAU\n",
              "RMqdlfmvQnvaSvqX87/tZhUJ7X/Z2zfs6gH4aRvCqKzzNxltrxynycvGKt5T3JbjgRqf+cg8IDNR\n",
              "7p7Cod6x+LzCo7u0WZBkaPzcTmFwv8gBwE3v7dsHHQIU16fVthSFOTN2B8xSpwt6zRQ3XoMuLfZq\n",
              "m8IyEhRtx+kiJbmAUZS8p8EbeTQC/42XG4M6Cvj91kKZPmEQoQAAADhBnshFFSwj/wAkxUHtNged\n",
              "JEtlWZe22pCYvrjpKFrdULRe/iVRGrkcC0mcZzHQUB2ezM55Z+jB6QAAACcBnud0R/8AOfFU0iJB\n",
              "5mqfjEfeM8J/wlwDBIRFAASkUMSgbnNIO6AAAAAfAZ7pakf/ADoQB5mfIv1s2YdjLXiIdTEeeXDk\n",
              "Cui7gQAAAPVBmu5JqEFsmUwIZ//+nhAANOR4g4qQobTNoBMsxXfCotMmoOYg4KrAmS5XdcgXU6LZ\n",
              "XNpaLuC5uAdomlLAUPSXFUffiNPeq9evlhOsIHENlUWH7lW7rGtHztYlZo2b05Gz/1GDUxsli4WJ\n",
              "D5q2SwhAlrlwvKOgEgZ469vnVNLFK/BuEiZHVEX3sksKd78avt3zadNnjLB67axthjXiuRTMYQhA\n",
              "HOsJoRHZaUj5VfmJ3RUf1sQpu5GVO3RctngZeuF1Pv9il4FLaSDMNgR03DM7io+JEzENuIPx5LQa\n",
              "Sj/olaxb6vc8JgnKMK8rFNbBFg/pdWF1oAAAADRBnwxFFSwj/wAkxUHtMrrukqcRCPWo96gpCw7Z\n",
              "BVvPr6i1BF1bgWpo9SG/HHYJHVwnKGDAAAAAHwGfK3RH/wA58VTSF/w9JFAq5q0KwUWE/rTqD3x+\n",
              "C7kAAAAkAZ8takf/ADoQB8QxGzuwOdFl01eJOYq4HYl22EnTHd+N8JyBAAABAkGbMkmoQWyZTAhn\n",
              "//6eEAA05HiD1dQBgA1VkRs95XZVRv3VLIe4WBa461HskOnxaes3Efuvr8/nU6eofHAtc9JrrC4q\n",
              "XlUxlvXaFzvjQL3NjMrKh7cskqB6YUM2SI6itBDoCr/dhWEwAb5wolB4y2d2qST2pBHJpw/pMfnO\n",
              "9wUi1GcQGsMssa9ArEmOfAZGfkmU5BCnVAaPMB17YHJB1uo47hDkmjtBniv6ZlaKFXJFj4v1bm4s\n",
              "2TAUuN+y81KUZ5bdqmg7kHVGxVr/uSpK9r2TdmXgQNrux0Cag+bW31ByAfEhZMnPsgoveQY6bfuo\n",
              "4OcDD6qfQhMba+9TA9bQENRmQQAAADFBn1BFFSwj/wAkxUHtM+cOkruSLd4WU+dJiGQjbUHBWbSn\n",
              "JOxiZ8WYZyOtTZ9kUJ6AAAAAKQGfb3RH/wA58VUZ2M7vyRO/4hQMFldq6IFH+ZpPQrTD/5fRT3vF\n",
              "LNOAAAAAIwGfcWpH/wA6EAeaD0SmJf250LpPXZHhb7vXsgqeAi0WlK+BAAABD0GbdkmoQWyZTAhn\n",
              "//6eEAA05IfIXoA0Doz5IU+PYg8QdxpZcXwOuNHpDQcLPIyBnd1nPx4pdrKjKEX436WxsJTtWajV\n",
              "sYnrgs+E6rVLXFrT2NaCkdJ6O0ga2LtxTzrZIEkBfgvtUcXWsrTSKFmMz19AykR8XWo69IvTn5a2\n",
              "UOYZFOxAbp35gxv7L190pEyqvJZPA8hXjhJyf9Kr4348U+/R5+bLeBuNCjBYNJfP0v7Un+Mfir3F\n",
              "kwRNG6B3kaa7u/rQZPk3KWg29V8IevKG/b9lQHLnxb8++UL13QdZ6X2S9gkO7FtNMjxGolTsHztt\n",
              "DsKJfUiFqN24OvCnRxWHxGVYDnGZJE6Lqfhp5tawG+4AAAA1QZ+URRUsI/8AJMVB7TqOcbgI3k28\n",
              "DkrqeLbyWkIwWcy47jmed9zOuzD+VjqmJUfgeqH1h5QAAAAkAZ+zdEf/ADnxUn8y6o4iRGw7OCF3\n",
              "0uT5WI8b9W9ogD85CwL/AAAAKgGftWpH/wA6EAWRUGHh7xoXjDjMvMXHMJvKMfUMRJJYHoSsdrzV\n",
              "wGqGHAAAAUJBm7pJqEFsmUwIZ//+nhAANLI8d4AKLXoMosjUgOICnzxklVmNgvQctfy+NX1/n+Hq\n",
              "QkurPWlnfVPDAhke2sPfTIKOUg0zJa1wttkMiLaXn0gJpBEQx8VphBGIjx7sEeLlCwAk7sfe8URb\n",
              "SGonXI924c5Bw825qt3tCBZjLSRiB3qyk1TWX8f97vo61GInQcwDYNSAB0iUl65u1m5GKNbnRnrI\n",
              "a0v2nYR7pvg9BxbIsE2RPhgom68iLN1XNIs7/2HoHMsaUJo3AoPpBoWtgJKJ6w2szfUXTMte+6d6\n",
              "j4RdgxZxhDKG0buoJ9+t7MZ2VlsiwYfd2Vq5ZlNmDcY4ksrXpyoi6GyDoXcKKyUGaKvHCi3zk6gP\n",
              "tKZe+hKMArRBx9DL3IYcGguHrL0fKad3YtmrmSxZW3XFLuSSwgYIRC2j+lB7AAAAMEGf2EUVLCP/\n",
              "ACTFQe0hXD3GgzIMYlUZIgqpRc42mNVtEETz4XpdXcpYfBaVbbDFgQAAACQBn/d0R/8AOfFSUnhn\n",
              "xbfOpeOXfuUnT05Caky8X8YAobEN8asAAAAZAZ/5akf/ADoQBW8I6p4KZZga9wf7mDCz4QAAARtB\n",
              "m/5JqEFsmUwIZ//+nhAANOSHyKNAEOSJ3lBlLyrf46mTv7xOOa0vxdqFnZ20MB1/XTT0q8WXv8ty\n",
              "L/acIBeLK/dfGSx9CUYGzA4IiriLu409E+hsBLdpLfQFJiX6ZUYcoJRNuO2/4a4NCxPaQQlqS5W1\n",
              "aZZTA44AYSfrmMEAuIcrGOkzjLDAezX3blJXQARtm6yBJ1duacJJjIfIyGshbVkEWw/DIwnjZ2KZ\n",
              "C/T+rTL6v2NVa6ZCwrsniii00hD2buxUqc0zoAaZT6sAKvx8Af5khkbyNtwV1n3Foc6R0Ap+II/6\n",
              "HxZoEoyonjkmEgQP8DtQPO3ObSsr3OqUXrJS/IJkOzJhJ9vgVaQcp3O/2LuJukUpityqGEz4AAAA\n",
              "KkGeHEUVLCP/ACTFQe062U6wEr70CzJERFaedlr4IUizq4HEeONj3BQY0QAAACUBnjt0R/8AOfFU\n",
              "2P0+m7rQ0WHUutujXpKfDI9VYtE+CKA1CF/BAAAAIQGePWpH/wA6EAVvDfNknLWp3Q8krTZExHri\n",
              "+EBCzuliXgAAAQBBmiJJqEFsmUwIZ//+nhAAaW6qo4cgaFAEHdO08pf8JP1t+G7Q39cwyOAmsY5r\n",
              "TCok6+cdcIgl/V7YJSQTWL9DjIxRu/+kNCRY7QIDFlTIIJ0wa67cItsmK8aC5MbnpKTH412Vxcug\n",
              "NjVcZJcDW4hG++kEpEcbLcttHdH+qJDv2L8YAqPBXBmqgEXCITou66zMEIj9/+sW+0kwqQ87x55y\n",
              "stZXf6/TW11V6JW+BJik+f4x4eO4XMdRSfuXhjTNmBDyB6dj+k1//2txrN3ZncKxVFavbcg5awLe\n",
              "76xHCg7bSjiFxcazdMMu5vMeBtSj1aLakdo8Auw5TmX2baGPxMg4AAAAKEGeQEUVLCP/ACTFTVq0\n",
              "6zsTiQqw/1rX7AgawxkRl1aFhhabYCkMQRcAAAAoAZ5/dEf/ADnxkPZ/Ue5c4LMBapImzzB+R09I\n",
              "30Ep+Pn7jdmywnIuoAAAACUBnmFqR/8AOhAHliR7ozVV/E7prd077IJs938uDZnVQdGD1CXhAAAA\n",
              "20GaZkmoQWyZTAhn//6eEABpbAdRVQANUARaisRX+NbKwgF14TBDV4KgGBnLJShcxoBtDMz6cLqj\n",
              "twJuPrFiAixqsJ0vMVt0bm/8icXNSgkW2mBIP2uanf6GPK8A9o9BBGnRuwQ6N7l7RDcTdt3Ngbsc\n",
              "ghTCvtgEliW3DBJwt0nNRjOPP+ex8xy0PijGf1rFJkEcfGci57w/005FGw50PicT8ODGHlZ2T00V\n",
              "54T7QYUTEMdmZ1DBsDKWKrekUATBPVvIrV15qApRP1ni8BIlcs1dGgR2vogd22BZgAAAADlBnoRF\n",
              "FSwj/wAkxU1+qEu8aR+0PKfPqUvLgGGbMxhp7dZ+ToGHmv2VnP4olZ6tS0ormHh4d/w8FNEAAAAh\n",
              "AZ6jdEf/ADnxkKMvp2eiN4xsqtO8JnKZh8VogkRXX1IPAAAAIQGepWpH/wA6EDM8WJJsDhZu/lNQ\n",
              "G9cVIM8y0Q2sWREN2QAAAO9BmqpJqEFsmUwIZ//+nhAAaWR28cpBjtcl22wAFdQJOk/qb9ocrBK0\n",
              "Gt5r9Q1uaXNnEg4uddMAVv3uSpxCKDoyy+U2XrmHGwYTg2rTq1sTRxLX0m2eWUrBSAM+mFYAF/Zt\n",
              "6vAhdzz1LCnBQpqcU1UQH2kTEQ2s7wxs4FJI+a7CbCT6qLdG33R3/YEB71Sk79nMtpise6Sl8l8y\n",
              "TNB/gAnTELrS9txXVoMuOjM5bCZ+38TJ5Y56H3ryfl6xzNb3MwfoiDu2o/9ZINMDeSgpdcLtOGn+\n",
              "N/y7LMpkBfQ/hpzcDekxiqeKZyH7a0oGwBluLwAAACtBnshFFSwj/wAkxUFg0OE1RZtlGf4FPyP5\n",
              "+VNPvnNXsqcSCxmTiprh5GnAAAAAJQGe53RH/wA58VJ/FvzEjfkk+OGavwtKPCXBbk6gfkYmfzZj\n",
              "CTgAAAAoAZ7pakf/ADoQN8KzxZ5K/dSJqRTmutAgXJZp+G87Quw9ZrjH6FCHpQAAANhBmu5JqEFs\n",
              "mUwIZ//+nhAAaW6zqSoA+MsRvyyMTBCZUjpezU1JcTOuqS/tLmUNDIvC2JYfML3YDkAa25XToeyI\n",
              "d8Xrw5wPGlyN7wPv32QrXqKTd0sgcnfLp60Xu5/gfuX3h4l9uX8aZyQpk8Eblu2txfdRzzelhmDu\n",
              "kb+f62dQeWLaGQ41r+sHZo7+pck/A8cLxOHLFP+zqZNMvloN7aFOZ/4Yqgz269oiXOH/YHONz2b9\n",
              "Lpjv2eShcAYK9g/rHx6mOz+yub7dyfTkVtaB3MRXsAsIeAEMVTQAAAAyQZ8MRRUsI/8AJMVNewI3\n",
              "7BxqnNeGhjZTfjApSrt9FvBGMjEcmxTaFixg2Rv+D6+vgpoAAAAjAZ8rdEf/ADnxUJEQpiVjAt8Z\n",
              "BYntkEUCdofDBiIRE4eQzYEAAAAbAZ8takf/ADoQAY7Cl5CjkqzThH0HduACnCrhAAAAxkGbMkmo\n",
              "QWyZTAhf//6MsABqJT6vCfAlvTJEMOrCQBt/aHdV9Pr/sQ4Am4HeFzrI9jry0MT7c6FXTrjPbBlW\n",
              "mGpxDtN1Rd5AWRyynEg0eVh61173shzfKPcicMX7FrRdzORcaaxOU9f41MZn1xvhLnjB6ETuNNqc\n",
              "XBKDi7XSo+Xy9Ue273YHat17V1uykoAzSvTmuuUN/Ht9awVx9nPelD6M0JD07BLBXVMTW2fvlZCB\n",
              "L3t22/goRY80e5TZM52zwdgsTcBLwQAAACpBn1BFFSwj/wAkxU2OYIK7TYznrXjQkjYIMGEfe8sN\n",
              "XdQjLswERhwQl4AAAAAbAZ9vdEf/ADnxTe6eFXAvmCAPyCDyetqoMKKaAAAAHAGfcWpH/wA6EAH9\n",
              "5012mRf8Bw4mIwjOCmyShZUAAACoQZt2SahBbJlMCF///oywAGowFC+pV8NAIAi4GkJTNc5LUK9T\n",
              "cbcLsrKX1ceomiP0TpVAngGh92HhHS7ZE+4x5f2SWLSAlPNsR/UrY1YsAqYVaOy7gFUbekDjB+dz\n",
              "NuWPYhBHhDWsachvQ5xymWvGluAEtrgVRwmDku4zWcBfmFB6s/+N85p9JDLDeH3maMznZROVyR8o\n",
              "tv9LmzxgyxdJqxEMyrVbEek2AAAAKEGflEUVLCP/ACTFQWC9k50jfs/3S+7X6cZHl+tMIyLRUlTY\n",
              "C3z/oZcAAAAaAZ+zdEf/ADnxTe6eNbg+52B5vCvt37BThL0AAAAlAZ+1akf/ADoQN8LhxkEvlk2u\n",
              "F1RKKtl51Ufb4M4LHArnDqDegAAAAItBm7pJqEFsmUwIX//+jLAAaoffHrGUzdt0NWx0NuwwTkAO\n",
              "NjbZr++hNPJZPhR/87wFRLPJ7ovFU9cu1Lw2tA3SKy57+s03Ve7c6KRzJp58Zfcblmo43uDHyCRl\n",
              "9Rgj4RS1AcVNOg82BXDKvZvoBC7LutPrlAJB+TwuQRxgyZqjI0PXiZek7k00ZzunAAAAM0Gf2EUV\n",
              "LCP/ACTFTZ6kD8xzgYJADSJCGWe2kunwnPmRZ432PhMIzYKppQULOSEZl6ZEwQAAAB4Bn/d0R/8A\n",
              "OfFN7p8G24EaUO03U7oCXYK05HBSxuwAAAAeAZ/5akf/ADoQAY7ChR4KaG5ciJmsnRb7hqChMRHx\n",
              "AAAAZEGb/kmoQWyZTAhX//44QAGdGL+pIf1N2UdSX4AHFp1MozSLoED2kAVvofu309dsMZp3M+Sd\n",
              "XerJHSg/LNlMmQbBaVUMdGexvSshPLebPFA93EWvjZ9a4jheIHcs8BL/sQjMI2YAAAA2QZ4cRRUs\n",
              "I/8AJMVB7NdsIqTw/i8Lht9AGMTng2m4LcQ29zK74uhQat+cNc/T4pQ5uQkM4QGZAAAAIQGeO3RH\n",
              "/wA58VCU707iml35NEwRYnBNjvmarZaxsBZh1QAAACEBnj1qR/8AOhAB/Yo29wwK2L4xnNDG957p\n",
              "w6vHyEgdQf0AAABTQZoiSahBbJlMCEf//eEABkWgJ+iqX0HZlICF2ksOoABbhTak57y0yR4vSL/B\n",
              "LmeioIDggioxSzU4LcnjqUxGn+glHTnghUHpQqB3gvgeDXElqcAAAAAyQZ5ARRUsI/8AJMVBYC2p\n",
              "Nf6vat9WQvw3WgcIOVKDDdUy4vvr51ZMGY5fJpCiM6Ug2YEAAAApAZ5/dEf/ADnxVRH8Wnhi7pjG\n",
              "ToUcsRv16baLyo9IbueQtlrRnYDpIeAAAAAjAZ5hakf/ADoQAse6UZXEHLpC8n7gd9kMTXOCi1NF\n",
              "egUsZMEAAAAhQZpjSahBbJlMCP/8hAAL61Du9SGcNsBaa/ITPv41xwxwAAAHzm1vb3YAAABsbXZo\n",
              "ZAAAAAAAAAAAAAAAAAAAA+gAAAfQAAEAAAEAAAAAAAAAAAAAAAABAAAAAAAAAAAAAAAAAAAAAQAA\n",
              "AAAAAAAAAAAAAAAAQAAAAAAAAAAAAAAAAAAAAAAAAAAAAAAAAAAAAAAAAAIAAAb4dHJhawAAAFx0\n",
              "a2hkAAAAAwAAAAAAAAAAAAAAAQAAAAAAAAfQAAAAAAAAAAAAAAAAAAAAAAABAAAAAAAAAAAAAAAA\n",
              "AAAAAQAAAAAAAAAAAAAAAAAAQAAAAAGwAAABIAAAAAAAJGVkdHMAAAAcZWxzdAAAAAAAAAABAAAH\n",
              "0AAAAgAAAQAAAAAGcG1kaWEAAAAgbWRoZAAAAAAAAAAAAAAAAAAAMgAAAGQAVcQAAAAAAC1oZGxy\n",
              "AAAAAAAAAAB2aWRlAAAAAAAAAAAAAAAAVmlkZW9IYW5kbGVyAAAABhttaW5mAAAAFHZtaGQAAAAB\n",
              "AAAAAAAAAAAAAAAkZGluZgAAABxkcmVmAAAAAAAAAAEAAAAMdXJsIAAAAAEAAAXbc3RibAAAALNz\n",
              "dHNkAAAAAAAAAAEAAACjYXZjMQAAAAAAAAABAAAAAAAAAAAAAAAAAAAAAAGwASAASAAAAEgAAAAA\n",
              "AAAAAQAAAAAAAAAAAAAAAAAAAAAAAAAAAAAAAAAAAAAAAAAAABj//wAAADFhdmNDAWQAHv/hABhn\n",
              "ZAAerNlBsJaEAAADAAQAAAMBkDxYtlgBAAZo6+PLIsAAAAAcdXVpZGtoQPJfJE/FujmlG88DI/MA\n",
              "AAAAAAAAGHN0dHMAAAAAAAAAAQAAAGQAAAEAAAAAFHN0c3MAAAAAAAAAAQAAAAEAAAMgY3R0cwAA\n",
              "AAAAAABiAAAAAgAAAgAAAAABAAADAAAAAAEAAAEAAAAAAQAABQAAAAABAAACAAAAAAEAAAAAAAAA\n",
              "AQAAAQAAAAABAAAEAAAAAAIAAAEAAAAAAQAABQAAAAABAAACAAAAAAEAAAAAAAAAAQAAAQAAAAAB\n",
              "AAAFAAAAAAEAAAIAAAAAAQAAAAAAAAABAAABAAAAAAEAAAUAAAAAAQAAAgAAAAABAAAAAAAAAAEA\n",
              "AAEAAAAAAQAABQAAAAABAAACAAAAAAEAAAAAAAAAAQAAAQAAAAABAAAFAAAAAAEAAAIAAAAAAQAA\n",
              "AAAAAAABAAABAAAAAAEAAAUAAAAAAQAAAgAAAAABAAAAAAAAAAEAAAEAAAAAAQAABQAAAAABAAAC\n",
              "AAAAAAEAAAAAAAAAAQAAAQAAAAABAAAFAAAAAAEAAAIAAAAAAQAAAAAAAAABAAABAAAAAAEAAAUA\n",
              "AAAAAQAAAgAAAAABAAAAAAAAAAEAAAEAAAAAAQAABQAAAAABAAACAAAAAAEAAAAAAAAAAQAAAQAA\n",
              "AAABAAAFAAAAAAEAAAIAAAAAAQAAAAAAAAABAAABAAAAAAEAAAUAAAAAAQAAAgAAAAABAAAAAAAA\n",
              "AAEAAAEAAAAAAQAABQAAAAABAAACAAAAAAEAAAAAAAAAAQAAAQAAAAABAAAFAAAAAAEAAAIAAAAA\n",
              "AQAAAAAAAAABAAABAAAAAAEAAAUAAAAAAQAAAgAAAAABAAAAAAAAAAEAAAEAAAAAAQAABQAAAAAB\n",
              "AAACAAAAAAEAAAAAAAAAAQAAAQAAAAABAAAFAAAAAAEAAAIAAAAAAQAAAAAAAAABAAABAAAAAAEA\n",
              "AAUAAAAAAQAAAgAAAAABAAAAAAAAAAEAAAEAAAAAAQAABQAAAAABAAACAAAAAAEAAAAAAAAAAQAA\n",
              "AQAAAAABAAAFAAAAAAEAAAIAAAAAAQAAAAAAAAABAAABAAAAAAEAAAUAAAAAAQAAAgAAAAABAAAA\n",
              "AAAAAAEAAAEAAAAAAQAABQAAAAABAAACAAAAAAEAAAAAAAAAAQAAAQAAAAABAAACAAAAABxzdHNj\n",
              "AAAAAAAAAAEAAAABAAAAZAAAAAEAAAGkc3RzegAAAAAAAAAAAAAAZAAAD6EAAAJ1AAACVAAAAGUA\n",
              "AAH9AAAAXwAAADUAAAAtAAABeQAAAEMAAAAxAAABfAAAAEoAAAAvAAAAIAAAAVwAAAA4AAAAJgAA\n",
              "ACcAAAFgAAAANgAAACIAAAAkAAABUAAAADoAAAAiAAAAJgAAAUAAAAA1AAAALAAAAB8AAAE0AAAA\n",
              "OgAAACQAAAAgAAABPwAAADsAAAAcAAAAIwAAAVIAAAA8AAAAKwAAACMAAAD5AAAAOAAAACMAAAAo\n",
              "AAABBgAAADUAAAAtAAAAJwAAARMAAAA5AAAAKAAAAC4AAAFGAAAANAAAACgAAAAdAAABHwAAAC4A\n",
              "AAApAAAAJQAAAQQAAAAsAAAALAAAACkAAADfAAAAPQAAACUAAAAlAAAA8wAAAC8AAAApAAAALAAA\n",
              "ANwAAAA2AAAAJwAAAB8AAADKAAAALgAAAB8AAAAgAAAArAAAACwAAAAeAAAAKQAAAI8AAAA3AAAA\n",
              "IgAAACIAAABoAAAAOgAAACUAAAAlAAAAVwAAADYAAAAtAAAAJwAAACUAAAAUc3RjbwAAAAAAAAAB\n",
              "AAAALAAAAGJ1ZHRhAAAAWm1ldGEAAAAAAAAAIWhkbHIAAAAAAAAAAG1kaXJhcHBsAAAAAAAAAAAA\n",
              "AAAALWlsc3QAAAAlqXRvbwAAAB1kYXRhAAAAAQAAAABMYXZmNTcuODMuMTAw\n",
              "\">\n",
              "  Your browser does not support the video tag.\n",
              "</video>"
            ],
            "text/plain": [
              "<IPython.core.display.HTML object>"
            ]
          },
          "metadata": {
            "tags": []
          },
          "execution_count": 65
        }
      ]
    },
    {
      "cell_type": "code",
      "metadata": {
        "id": "cTu1dVxBK55C",
        "colab_type": "code",
        "colab": {
          "base_uri": "https://localhost:8080/",
          "height": 863
        },
        "outputId": "bc99809b-822c-4952-a51d-7fb19798d099"
      },
      "source": [
        "print('when learning rate =1')\n",
        "weightMatrix = perceptron.fit(X_train,Y_train,1000,)\n",
        "print('Accuracy of Perceptron model after changing the epoch ',accuracy_score(perceptron.predict(X_train),Y_train)*100)\n",
        "print('when learning rate = 0.5')\n",
        "weightMatrix = perceptron.fit(X_train,Y_train,1000,0.5)\n",
        "print('Accuracy of Perceptron model after changing the epoch ',accuracy_score(perceptron.predict(X_train),Y_train)*100)\n",
        "print('when learning rate =10000')\n",
        "weightMatrix = perceptron.fit(X_train,Y_train,1000,10000)\n",
        "print('Accuracy of Perceptron model after changing the epoch ',accuracy_score(perceptron.predict(X_train),Y_train)*100)"
      ],
      "execution_count": 62,
      "outputs": [
        {
          "output_type": "stream",
          "text": [
            "when learning rate =1\n"
          ],
          "name": "stdout"
        },
        {
          "output_type": "display_data",
          "data": {
            "image/png": "[encoded data removed]",
            "text/plain": [
              "<Figure size 432x288 with 1 Axes>"
            ]
          },
          "metadata": {
            "tags": [],
            "needs_background": "light"
          }
        },
        {
          "output_type": "stream",
          "text": [
            "Accuracy of Perceptron model after changing the epoch  93.75\n",
            "when learning rate = 0.5\n"
          ],
          "name": "stdout"
        },
        {
          "output_type": "display_data",
          "data": {
            "image/png": "[encoded data removed]",
            "text/plain": [
              "<Figure size 432x288 with 1 Axes>"
            ]
          },
          "metadata": {
            "tags": [],
            "needs_background": "light"
          }
        },
        {
          "output_type": "stream",
          "text": [
            "Accuracy of Perceptron model after changing the epoch  93.75\n",
            "when learning rate =10000\n"
          ],
          "name": "stdout"
        },
        {
          "output_type": "display_data",
          "data": {
            "image/png": "[encoded data removed]",
            "text/plain": [
              "<Figure size 432x288 with 1 Axes>"
            ]
          },
          "metadata": {
            "tags": [],
            "needs_background": "light"
          }
        },
        {
          "output_type": "stream",
          "text": [
            "Accuracy of Perceptron model after changing the epoch  93.75\n"
          ],
          "name": "stdout"
        }
      ]
    },
    {
      "cell_type": "code",
      "metadata": {
        "colab_type": "code",
        "outputId": "4806fcb7-918c-43ac-8177-69608dafbaa8",
        "id": "R-yfnRNlM567",
        "colab": {
          "base_uri": "https://localhost:8080/",
          "height": 309
        }
      },
      "source": [
        "#converting the whole prcoess to the html5video\n",
        "HTML(anim.to_html5_video())\n"
      ],
      "execution_count": 66,
      "outputs": [
        {
          "output_type": "execute_result",
          "data": {
            "text/html": [
              "<video width=\"432\" height=\"288\" controls autoplay loop>\n",
              "  <source type=\"video/mp4\" src=\"data:video/mp4;base64,AAAAHGZ0eXBNNFYgAAACAGlzb21pc28yYXZjMQAAAAhmcmVlAAA7QG1kYXQAAAKuBgX//6rcRem9\n",
              "5tlIt5Ys2CDZI+7veDI2NCAtIGNvcmUgMTUyIHIyODU0IGU5YTU5MDMgLSBILjI2NC9NUEVHLTQg\n",
              "QVZDIGNvZGVjIC0gQ29weWxlZnQgMjAwMy0yMDE3IC0gaHR0cDovL3d3dy52aWRlb2xhbi5vcmcv\n",
              "eDI2NC5odG1sIC0gb3B0aW9uczogY2FiYWM9MSByZWY9MyBkZWJsb2NrPTE6MDowIGFuYWx5c2U9\n",
              "MHgzOjB4MTEzIG1lPWhleCBzdWJtZT03IHBzeT0xIHBzeV9yZD0xLjAwOjAuMDAgbWl4ZWRfcmVm\n",
              "PTEgbWVfcmFuZ2U9MTYgY2hyb21hX21lPTEgdHJlbGxpcz0xIDh4OGRjdD0xIGNxbT0wIGRlYWR6\n",
              "b25lPTIxLDExIGZhc3RfcHNraXA9MSBjaHJvbWFfcXBfb2Zmc2V0PS0yIHRocmVhZHM9MyBsb29r\n",
              "YWhlYWRfdGhyZWFkcz0xIHNsaWNlZF90aHJlYWRzPTAgbnI9MCBkZWNpbWF0ZT0xIGludGVybGFj\n",
              "ZWQ9MCBibHVyYXlfY29tcGF0PTAgY29uc3RyYWluZWRfaW50cmE9MCBiZnJhbWVzPTMgYl9weXJh\n",
              "bWlkPTIgYl9hZGFwdD0xIGJfYmlhcz0wIGRpcmVjdD0xIHdlaWdodGI9MSBvcGVuX2dvcD0wIHdl\n",
              "aWdodHA9MiBrZXlpbnQ9MjUwIGtleWludF9taW49MjUgc2NlbmVjdXQ9NDAgaW50cmFfcmVmcmVz\n",
              "aD0wIHJjX2xvb2thaGVhZD00MCByYz1jcmYgbWJ0cmVlPTEgY3JmPTIzLjAgcWNvbXA9MC42MCBx\n",
              "cG1pbj0wIHFwbWF4PTY5IHFwc3RlcD00IGlwX3JhdGlvPTEuNDAgYXE9MToxLjAwAIAAAAzrZYiE\n",
              "AC///vau/MsrRwuVLh1Ze7NR8uhJcv2IMH1oAAADAADXFXg4X1UBAikPp7THqgE3uHmiOoXGq2dj\n",
              "60ycB2Lk4BPTR4J1eSbezHKrke+mT142ZuBsYg3CIRhHDjrRt6TUP1GuqBvZKY+cfnKUGXVWTx3v\n",
              "YtMM4oxRKN04AAADALCkfGWs5jhU0nkQYZY78uv1pYFQnNdmuOqwDfSs8G+rhE4ey/5yBafGxLdI\n",
              "MWYGu+0EOlMT7VX0ECEz39b0F+PB0ZEcNZiUG/1hHGLE7Q9x5NS0JKVuWNwVt6x8i096WNk5wddS\n",
              "at2EU6Qe4kOkxEuwXFv00sdH+XUxFhkkoK7gW/v1wDiJQEsQfoUMVd+m5WVGlvXdI3qq6KqoD6HV\n",
              "N82uaV2AwVyQRcoHu6/5v5Klocz899lrqYTyLjQ7vwnZBqjsN1joKXRhHvQgu6BFzAIUBRrMLFty\n",
              "kDCgbE4EbnJQnrrW1QKrAKrDsyke3Fe/cW8FqnBvWt8611XcD8CVRG1KfjqFf/9b2Oc/ashwq1yy\n",
              "SjKf+lrgPRQn6nHrbCPm754uj5SPWUVx7EfT34iYR/bv2VF/UhExdk1ebVSVWz8Ex39M7xDowQwT\n",
              "tGFSRPBlDb48ckWh8FoIDI48E+GC9b5D6BP8E8po4KDL//e8jd4cdhqcrbcSlxmLndsJVgLPaPOw\n",
              "LKVuw0YAu3jAirlaNU0QYyf41gAZg7Y/+coDuLxM2Kkzb6W/U+g7CZ1xjD+3mQ6rLMmdbvX1nHCd\n",
              "DdobcGMHqJebeF3G0ffLX3bS7Jqr3C8S8vu8dXtQjJ8EQAwohVtiutL7zWImV8zHTpn/MykLuIeC\n",
              "4ACMmWyX9ytAi32dLSdYx0/NHEovZywVwjJWe6qBFMBr4f2/Q/dCE5VxFEQt1fEzHmtVBXH598+t\n",
              "SYyCUa35h9QyKRljSXWw1Y62uIasa3Tt3GJY0/bl8T1cW70fEBmDRwHjvxMViiHeohz/sCdgVfaP\n",
              "Ecgsyry1zwBUmRf9faol0f6uI7E/BBvDh4IGk9i5y5i0qx20rLlSPnGYrqjy0Akr+RNrWM/71faO\n",
              "OOPuRr1fwhT3IeyceT/ieGbn//1N3aXSAzd3rT9xIY+k3p5kOoB3vnXoFNo0c7BMkYAAF0S6pAAZ\n",
              "TXDW+H2AigENrqfnINI/dgTLCg9G0Z2Pj6ShlVj3Xdp3qvpR/AOfYxcj3GrW4P72DwHjfDEoar3+\n",
              "TF9O2zEDlu41IdqTf4GWhfpsRW30RXMPZ6CYEtkHkrgPV8MhI2DIt63hq398UngBojGlelJe4nvF\n",
              "EkDy8UYXAzLF0qT+WmsC3kXEtMftWAV8BX2+aS3YYF/sXRPiztbmYT3IAgqa0HBuHI0XMVkbn5f2\n",
              "6mvgA8cYf0qRK7HcpoU+MO9hGpUt+u1q6sVrD+MiXn6/wHMD0gFPKl6RyG+VzJTlrSufrLjddIai\n",
              "Najmt+jX5JHjwgFbmh0EXBoio+ukU7wL+zK/wC5ns1vka+Nj4CoeuvLbnBOouDa8cbkaMx/cFlAU\n",
              "OSt8/Hv8iboWtg2AjJa5REka3pxw1ksmNtv8BOFnV8/fBLQ2jyNCnyqyxTlsIuKoNTh0rijekueK\n",
              "tIy1xCfragoPkBPEnqG0BNBZ2jEJtO6tQHXgNtZRO0A0/M+l27yruNIm2PEsfUpCdM4iGSRExNSJ\n",
              "DjlXZCl8pHzC5R/g4nK7qn01lcos34XG7bU047bcuOEXGS+Ys15vhBz6/c0py9kG3j66aQRn9aXw\n",
              "4X60elxQRfNzvplcpGjur7uv4NahnGennFccv6L2dxnCfM0YD52nY7w+huF8I7eJVre4OHLgDS6l\n",
              "7xer/JsKrQAxq0X+iuEm5Mi557skfndZzOGPKCI0oZC9Ck7Ou2lbyNT3ytS77ur6Vb4gYxKDaLY8\n",
              "1tSceKXknOd/9WLl1nX3RRkIaON/FL5aYrVpmvOB/Nkmh7JxPGYLsNstzHN1iHfgbZulesYSXLeC\n",
              "zRFyyRPNbKp77hi4OX4yv9J29XcmkF5em4Hd0hx3Wh/cV6SHcrp2MeuHswTqJvZPHvgfl1SspJkP\n",
              "HyV5T6ojH7Bihm2oujE7fRu1jv6uD8b1DhKui+RZiJ+aXkRYrBg9IVgqIxQ3Z7Uev2v+ITJbh2F0\n",
              "CqTP4tfySI59TFraLBeySAryn7/DM+0aA/m6ZC///91DioToorEbhUv4e7rYCJAS1BOCRQC5WkY7\n",
              "pdLA599wxg8EAmcFZlSSrUiEJFRDYBC6Zfueplr+wRfyEo6FXDp70WTGhUyKXMaRHHOPknWgRoAI\n",
              "v+etWsIaQfnQGiqYDFQ31YAVhfbFQ/+v8Yp7tC/FoMed3b0GkPsHivFpRJjISet/ThQxWXp6+HuP\n",
              "JuCyik4bgEkThc10sW06beXKqPt61HmW1Xd2FkbesorT4BrbIOFAIhdBiqf4Jv9lrTB8wqbFSVK/\n",
              "5J/ODxnInRB9+EEwC/ylCVGx4BQia4BmoISM5q2brlKxvxG6MVlmEbaxQjJN71mRVXFf7HG9BSmQ\n",
              "rO4U/BhoF2qUvcnfmYgi77mge8lOIxAQSCa5gXmXX+/OVqLXOmXmmSTmaLWCTJfS2miqqHKANs2M\n",
              "PJmhlh+IWd+R8izUDHWQXDNMRNjpSFvTWLM+Ypi/DG1+5raDiQiyUeuIwgY9WEJjc2fzMJo6DoHr\n",
              "H8Rny7dSEDbA1sl4eXYUkQyulHNJXdlwhP8r5DXheaOD6Ckn4WZnBsoAj5z0UqtvlQ/yEI7vWeqV\n",
              "XvQFqcPd4s+HsB4H/s/dCQ+zLp6gUnKVP3Xuo9G+7WhA5y8QVT44uE91xmcPoqbfl747NQAM10T7\n",
              "MJQzjXgryhW3EHR5M0sehC7xk7igSOXo+ruPIyKrEduv3YH9Hltfsu6CYCiwDeLE9gm3vcu3AanR\n",
              "TJ02dtMBlmGmR11/AWQkxv94npSMBmf+9aLk9pWSWRdWTFRD/AHIBt/CKXJF9FQOXLucHSEo0SKq\n",
              "m9iRvmO2n4D/iwa1kAAGZZwEVBCOEweuYUAbwbY8ayhttd8Pme06/huXdXins+8a672/s36bMRpg\n",
              "pvqC3f31I1kRAtiMI1Qs8YQoooCQ6/Wv5goQIyohF9CVsSgx5VQAdYNM4BvofB8kechhHWCK0mf1\n",
              "VR9/Z3acuaf8KsDR08PeCCwL6mU51/keZTSa534vTqVgVztD1vK05Pm3D3VkduQlnQHxDycgGefk\n",
              "PS5hfTnSHS6sgYMADzBYoArSz9M7TE5OWQ0fNukMpRmEADauj0dKkv4eMvpbV7KWrIUVqfhePhCI\n",
              "wNQpkDgdLvffgcqcpp3PsclcJsRWQ8peWpcwSSbZSDC3n4k0Vp1+1g7XgWfaWVAoaHHV0qFXiBCf\n",
              "3l6mtRl5qoUaKWqCjmu3xnJ3mA4MnyTjacx++dwTcEfz63gh5t4U2Y2gFUcXeLYwcnF9dWutBl41\n",
              "SPUSWcWLWXh0pIhaAQi8XXgttGZNZKs9Pju5gLspaffX2g23Sa9C+x+aU278NzRNDcdVHIqamgkT\n",
              "gTH9L0bWAFrOzVV8WxQRqn0eocPC/eWFEZNy1SFfq+TZ4O9SRwb6bXLvebwsyKlbtNOA+WwuCzz9\n",
              "sjaHEpz6EcNcdy3dtOMDaOsEpJMeXYtWTQe3zHius8t393mItoQc4kY5c0WctWRhm/xzIM/uOpD3\n",
              "dnFZuQNyicoofD44SOSImNwolbvecCphcjAxOjN0T6n9jBpxBTm5eZFOUKzn/lOAy06sYtJtbuQv\n",
              "uwCwZX2e9z+X2/F/mHwGD18/5DQplvhDHJXbskBUaiuqrdeOMB1tCfOMVPv9eAh6DY4brXjLrOKG\n",
              "YpyC2URJwy4wZ6w5Q7PbSjTf2Qdjb/RkaPXUUbgFK58ZsOSzrDUdA7ul5y3D1tlTKYpHIzKdJEmJ\n",
              "93wszjC+fntPBLLTkw5dRBt/tBKMW1g73B25llMmXDmO10R4Z6bAbqCME1j4rtKAYTA1tVJuLNV+\n",
              "FwhAAXEg/CkDFJgNKoAjoVO/q3jqwvrJ/KeB487qzbfejHs6u+oL+NcfAeY0/IHAo3YggC0NwxJx\n",
              "QYDWg4AmFePe/PqPFoy9vK5lhCgO8nD8NC2lTkJ5VdZ1R7TuzJasIpa1nk3pYoN2WxsCs0EJd2ei\n",
              "U36ly3UFHBShDL0lnxRtZRSCyuTah2B1xRe3lvU2RKLZnxXgHZ211EdcL4bKl/VHc69CFuPXVFEk\n",
              "ItvOrf4lr9z2NfKaGWhrsIxucY/Jf4RQzKAkA30uMRFaChNRzYX7+AFOniIHhYbYKu1XaOp+U8DY\n",
              "lXi9KTEzIaROSnx75jGj9zrOxSRkpW6yucZf86UktEz7AyUlRQBSqi5FfdKLVhc1WDA5Yh1j8m83\n",
              "veH2LCDvGmzR75Z+CmWXIW2GRVExumwFtszXOcJNGXG8tnyis7iie6gKGwsgAARF4gAGmACfgQAA\n",
              "AnFBmiFsQv/+jLCE4nJznwA9kmHaypyCQ6+AAAcP1FCnqREcXi0MLRMvVBgGu3PmvT2043IxSRJn\n",
              "bOkxA0RT08IC1w2KkJLi7uKuQ4fImOZWfjyNg+tfyzdxptqWOOGaOaNgcynPYFY4DNglGqsvoIaj\n",
              "prBcHsCTyNBWitpY3gEZ6NxsMy6Pk3drh3bj9q2X/rCXVwOlURGqLbsTde+Y9R649qQSn2xaknP/\n",
              "d0M3YmlHv9negv+aEG5P6Yt8hGuqvOqoyv9dxdwiMH4EC2vh8dPcegVDLaXXdQUdJIRzc83mysq2\n",
              "eFXFzkn6Qrz3tgc1uXrWxeNEJMv1O4xQOpgLSJQOfJuJy29w6LALjnpuCNW/3jAp0nE+Z/khh8jd\n",
              "QAc0pF2JUxIRGZ9zlkLFxTtYL8IU6xYkPrPjQsaDihnakDzctWNjh+WMGnjJASPCBnpPXwkj5aWk\n",
              "oKaNZ2GEig6k7GPGZNtKtXyB7/XW71UrHIANBNDtNke+Xm0w+DQau/hWhoWxwKotHoL65V1YNdgj\n",
              "OaycjpuHL2AiVK/N8t23ZvEQKGln27bpYH6Iyi+Hkg7Vjs3gvudvNr2MFlGuTxwtSemZTRnpPUeq\n",
              "/H6PH59n+JNIoqE9142I90bC30YAM6TZdzWDxxjQHV+GOATZKKZf1Y27choWJiOiTy/90+nrXNUt\n",
              "+p6SbeUsuPdI2Qk1L0/45VVVqe5EXc0YxXqH+S/+Bn/BAj7xxJZsBBixX/odCeqsgQ9WU78Mm03/\n",
              "ppmM4WUYAmo/zddi+bWEiKNjeOYlAaCtb+4/86nsGgqd74eJ2/ki+da5HP0+nmN0MkwXTa+UVPC4\n",
              "AAACUEGaQzwhkymEM//+nhAK/0auIP2WM6StPiAHFpWADVTz3jB5wW4RmO7f8xbV700lbKENqdoo\n",
              "yl8Pa81o9LzkOVhApWKBfjSVKmJIUN0kvikyrb46/pLFh/lIdOKRnJ4RaNNHeaTe8C1S0tk1Rkh7\n",
              "++Zn/XKm5RARkMYHfqNfnjIFbnMdlzzxVYXZsW59S4bzA9VC35ktDBlJegDt7MX81sCUL3JVQvs8\n",
              "TC1lFriwBCCKyGCSjgJZXYUAiF1ZR/gJG1gd9sDIczWxy8y4KmSCjkRz7wpq9JRW8f4seMWwZmtF\n",
              "1vjfgkSLcI9rkQ2YgY27cAk9Wao0rOQDnOELoWg3My85pui9M79RxFTl56CAHcVRGc633QwVwhKF\n",
              "k6Y3D16ekSydnsIhzaowqLaBR3+AM6LQ8DvopDG1Et6K/lHwaJbYmUi0XZ8TjT0gB7vN7RTufR6g\n",
              "M95YtIFz6cAyIdYKtEWrfHFYbJSnBRNcqy3zT6/umtUJMOZf/+WGlGWaOri2BeNwRf6JFcLRdDtV\n",
              "prcZag66IdSOLxhL3qlbLF3iRKqYVDOGpfOQHTO5zgb6LA0gwtwozaGUK4iqvFIHQn33MifhiY9U\n",
              "Fw+NqbtkSLwg0DaOPnfyHFSy69XEuYnAIfJ9TzVvOseqBCaH6E2OECmybt85Nv42TPxWCTVSlg7j\n",
              "RVLOVidaq2W9Ckk3fZYYAeXv5/ilXaieiQItv2Q0sxCcroXUSMou0aEGYfdjumTOZtpbOVCC4Gqh\n",
              "pLm7cp/9P2K/9kPKJBu9JbhxQzXWEOFGdOEAAABhAZ5iakf/A/Obq62HfKn9UhT1yaK+vD8dUw5P\n",
              "IbDlGA3p5YEjxop6ueUv46nW4A+WmIAVm3ALdwDQZwdzIoD5NDvcU9X0WH3JhCmgd1sR8b0CEvVv\n",
              "2CdzUBdRh3NCDyVTuwAAAflBmmdJ4Q8mUwIX//6MsAANQMmduJAVLy9aQA+x8mpeai+v/rT52RC7\n",
              "KyzP9Eo9EB5wldS2IiFQdH9L7738eXjsr/C/OGrH176c2GAiIB35ajyqsT1oNyn9sCCQhOM4Gw8I\n",
              "cdJGQ9Rmp3rEG57CcUcN+BTuzK/R8q3b6Q7Va1np31wY9SFOwk6xyMGzRQBT3dx5TZ3wG28OtpDp\n",
              "rr6gsBGtWQpUJmRlLtDo9yiK51ihRkc6cApWAT52EDb+9G5xBYX/5EFFhjjSicjaRJm+Bz5umAoe\n",
              "Qef35wDIH3IxjM+T2fWqii8CMa+HHhFibRmToTG4CIIwZVGIMBsnHbZvMDhmPpqfz5Rjvv9icLqo\n",
              "Vh2dlyHfl7xHpFqkDLpCdNUKokGZqwNgXS7EHGi8DBj378djTJFPVpo1rbSB1h4bqg7viGljrbCm\n",
              "UbEgY0ZClzcmIqYl+ZGq9Z/SnPNLPqt3CI+N2ABYwby6M4+Ix6P1J1Jlav/amqP5QMIUOCxgLiJ6\n",
              "4XFraKB2rcZar9s0+L6T2jP7Vs7ytRZ0l+q5DCJGpuqBntWOKEddKb0HSFMLSCtc2kg77Dzo8g/r\n",
              "PdqUMKA/x4U9GOWx6fOEIIB0bxz6vhbxwvPkFhXErVQKEXduPTCGrFA8S1AKxvdzZITkLiemipoN\n",
              "SXkX1sXyr2pBAAAAW0GehUURPCP/ACRKyeEP+lR2tdjZj1aGVKNQrebWr1WkWKmY2nRWnv3fZaOI\n",
              "L9gtHEZ+0AWz40SqK45dydHB4qyDesUzMmsnfaHYLNKB4/u3JFxNzozltzo039EAAAAxAZ6kdEf/\n",
              "ADnxTn/UpNjLhlyMpjjcXSOAaagl5I7KBCb+U6hPrYRIZDLZnqvJhVyrcQAAACkBnqZqR/8AOhAD\n",
              "8s9UMc4s4boBuBtm1vApuNwb2eiiUadpe5GkO6YD1wAAAXVBmqpJqEFomUwIZ//+nhAAGlkEe9wB\n",
              "PMaqkOmiAZfgi/4HaUjcY9FHeZnTYF6O55SFivsecA5C3kij52V+bVqdhzYJAtRlNEvWVapBWpEL\n",
              "8MYJB5mHA0qRLvyqYDo5/EfTUhVTrIvSbGSyct28QvsZTkhYHyhR8Qim+FpvXXRlOWG+W6A/7ufZ\n",
              "2uznud3Tvsx9nJdCorRAAh7VcwDEMJp0LWkUy4utlq2YPmsmR9hMxz6/mLfWgRcwUwZ6bzzuFomp\n",
              "8mndsdGDBAaqgYmHEjHcwxpQdQhc950bHBj8WswWpPL2HApIy0NG23AECgKS6MdpGssCm7AIqWDZ\n",
              "DKzYHY7nbQx6mnwDEhxn0WJ/BszHZkiGJa0jU2G1Bw9PBewvQiK2223FwxKrX/455NK9YzEDw54i\n",
              "nLJUuikwAGaYwCqV/dKrDGGOUcjz+RXZH05OkTDB/27f9Gv7aYLBw8IYE7pIP78GXBMQKLWEVkgd\n",
              "zkbjyhIQvJmAAAAAP0GeyEURLCP/ACTFQPjACGdY/n9Mer3+Iu51LNpw6DyeCEEPLLAAcjVaG27F\n",
              "rDo9F6WNfKsxLUqrZETFo09DGgAAAC0BnulqR/8AOhAD8f71Kd9WEa4q1fJdauOGU4nkE+BLdB25\n",
              "odq2wZy3OALeFFEAAAF4QZruSahBbJlMCGf//p4QABpxuof3ADdlNrLE0eqbj+oaF5OfGXLFnrqM\n",
              "uzwJoGOcav51+IRm5X+EUyws4MMzAwIHJ7ohJ2EpW1r/gF9vtL9Zoite8zVN7y6o44tJ6J2Y1zeM\n",
              "HnDiRQqkwjOWWsUevKP2bdIzS5F825RTLGkcU0oPg0oY6SRyTkmmFLh6+ATl+T7FHjJJka6UcRdr\n",
              "KgZOe9ZUNi24N8zAwFqe9XfQ9mv5LywwgDcyrUfNaQqqXkNAK2nBFQduMv8uV/EWX1ewmy7E6ngs\n",
              "Ms24J0/RdCxoCICB2OAjc7otAAU9qkv/MOaVc2kWaLM0SGXy3VlGX32B3NSl2vnJ0Zy5siuyrhnH\n",
              "r0ese9qywMznM5tw0nTYgxOssfBO1J+E0MAjXP68qQKRZI7v+m+rczwQBQm0nj7UNR5wQk/2HJC5\n",
              "YcI8MuaSxCqYy8OD+6oSS1COLuaeyWewkSnf9OedjRn7NajPW7D8wFv3brNyFemNwAAAAEZBnwxF\n",
              "FSwj/wAkxUD4F4grEESdCI3NkqhJTDrxTAcFNHIJmTm9Lja/qHYzjdWWA0s1Mc5b015VQnQTL5j8\n",
              "on3IKe4HXfuAAAAAKwGfK3RH/wA58VC1OECB8LjqiGM/UP+zMlwCzKhGsXVZ71DelOQc6SA4Y2MA\n",
              "AAAcAZ8takf/ADoQA/IKSGu9WEcBp5dV+15AFpM9QQAAAVhBmzJJqEFsmUwIZ//+nhAAGnIwO2e5\n",
              "QArXPFPKUCiV6PS4VVRX/Ors93VnbPyQJI1DGxarMGkrWCNTAoFD4Sv+y+GfNQcZEAxHN5J7+6nT\n",
              "YoU3rKQm39uud/kGMExgPs9qOWyHo2FsvD9PUSJlYUrXO0kXUNAZKmaKa0cSwzwMgkvemajF06yU\n",
              "Wo51ZQjvi3G+uZ262TDdK9zr+ReZwMkbMESKLbQ7xaroPeVXv3nZ7WkWyW23aMSMz8x2Fh9JTJHi\n",
              "N7T7sO6ZEBFY8yOj1JJtO9yWYz3mMJlf2P3EBCqUAvsVZwI749JZmDZBGEeSPqJpDv6Dm5L6u2cg\n",
              "ZtrYPrZS34odFfDjuroWRXJkv2dwZcCnHUJjN34d26omhvGiZyDYMtu2o4yiky7b9uSGgqFytby/\n",
              "adK4JOM8EZ6TcCAzlpnfDcs1CYN34n5enLCfc0ioBeiDinPDkQAAADRBn1BFFSwj/wAkxUD4F5Tj\n",
              "pJampKQLlEaalCbp+V258DRn33Yhj1DfPHH15x5gL7x5ssGAAAAAIgGfb3RH/wA58VCvqm5YVSmH\n",
              "D1YkPCe4adeIUwfCz4H7c1gAAAAjAZ9xakf/ADoQA+xjz90QDumqR4d+YB310OD3TaSvuAUVs6EA\n",
              "AAFcQZt2SahBbJlMCGf//p4QABpyMDrWIAAsK65DHbTE2CnEFXitv+r9t+OjcAbN8XnWgGGE+5Gy\n",
              "W60HKXiyDPaLECf6pyg2y564BXITNfDdtjzVWcKkHJ1rrP0zY9LaDPKZYKrlKhVrNyyPfnWoZjY1\n",
              "ktc73yTMq+Xl5E7lfkbaj71/TvZreNuYcOwdkmdBiqORvGJ6moQShnbmzw9FESNnYs1ZwgtTlByc\n",
              "LxjNm7dfiWS/AZPc9Bpot7l3YX0XkIO85Th0DllgmHbVfyIXOAQRV4XvviCUpUmS+JXPr6LJrU7a\n",
              "S2cldyLdvh7a0QilGB7E7QN8t/S8zinVDMKqKj9ys3WKCtV+XLJ/NLadINFj5qkpqBCAon2czIPX\n",
              "T7HzzJPSZPVMBXy65RoEMJ7SFLYGIPerQ/zuLxxh7f3doCWZrQZuALiK9NvfieGVtT8lXH+k7p35\n",
              "x2it2FmX6ERMAAAAMkGflEUVLCP/ACTFQe2AD5+DGUDk1t2jIBxBOiX3iQnCTJBMhpvU+eAmDI9M\n",
              "TTvnwNiAAAAAHgGfs3RH/wA58VCx0b+D+8kF0GZ7k0Qds/ImBI/RoQAAACABn7VqR/8AOhAHxZ6o\n",
              "aX+VUq1Qt2aBUfEkFZ8CQSkKyAAAAUxBm7pJqEFsmUwIZ//+nhAAGnIsYE9WACrkVoZEREqxbQho\n",
              "qeghRD9D3W+FlIu4/xHxegAHn//4tSZljH4qxaJSdeW0J21/k3PJswfzpeWOgWQMBjLYh9b0zXRb\n",
              "nlh9Hu9bwmjastLGB2fNNicvIpyqtIBA0OhOPC/T+qJUaeyRreYeQGu1OiPRAK7HFuxLMnUmo45U\n",
              "v/+liAvjLvSjkzfqq1eRaTuWaXlwTVUfP50AowCpN1nJWyqhfmsmu2Q2y18RnnCAW+kEde/XIsTQ\n",
              "m8qfAR67jK2hXXZqgiRVz+8vmRDXAXbYSxkx/Z5Vk0J7HZHYer3bvL3aeFmDwiZHBw9u5zyWoWO2\n",
              "QwTZ0Guo8zeRqCRVqkdVk6tLdRfHKjqQIOesGmoyYziLzpASrjxdxyuZBuaf7TosZk1dPt7zR32E\n",
              "7HWcU+o6E3J/vlN+pwAAADZBn9hFFSwj/wAkxUHt6uK2yO8PHF85yWpQVn7i6/4YrYRhKfZ0LHgW\n",
              "J6lGP2DpBlRFs86OQf8AAAAeAZ/3dEf/ADnxVRIhPnPVuzT23bKiEsQkLP6AGZGnAAAAIgGf+WpH\n",
              "/wA6EAfFnqhphidzY0gAu4+g/lWmBRJuhIWEQ9sAAAE8QZv+SahBbJlMCGf//p4QADSx+GlID5C6\n",
              "OhxzsrVV3ZkLukprHNaIBLXXzGsWNssy4vxUPup9R2DGcYIAyH/LfZXeFiulHkoLI+dTRROIYzM0\n",
              "5PpEemDEn2So9qKhmkaGd3vm0gaH40Y5WMuBFO4iOmXTOtPH+xtcwu3OM3Q9f7JKFJwzhMrcrpbJ\n",
              "fs6tk44XgJQbWkMZoMo2LUzVebonOOsoKdWAHRKYrkw2EB0Z9/sea12G27t9RJH35tZnz6PJgTmn\n",
              "K05TqPEd1XU28tZpxmlGAkBpjX527jJ7G4fJBXLSBVqKHjc5O3rn4Fe7FwLzfKX0ADZtgB1g0UGW\n",
              "YPA9+qnTDIzaFbLuMS15P2OFeQG8Jq8if9GBpTtzNaCbP5uyRMFwjBbOPbBI1H9zPI1zejINdlgH\n",
              "OIoA+lBhGAAAADFBnhxFFSwj/wAkxUHtpN5hnC6YP+W3u/8hWZyhqIlRQUY/llvtzYry69zlCwE3\n",
              "IgOnAAAAKAGeO3RH/wA58VTY/iq/ojgBk/bhOzmZRaUseEW3TYrQULW7MN2Q7oEAAAAbAZ49akf/\n",
              "ADoQB8Zj2Ke0BCSe+c2s0TzA6DJ0AAABMEGaIkmoQWyZTAhn//6eEAA0ozl0L+qAQhb6RA3gssnL\n",
              "D7uik8UHw7vMJ9xAy2fJFynxcgXWxvbwwrSigeZuhkEtMRa9M+4KKf46BIiq9FUujZZ80Jl26AOf\n",
              "nX0tu7O2K03Ygm/2epVsX4tv031uaQZaVZRqDYMnHS2WwJLOxBIr/42AjIsBjC6YRAyhBR9nTrAk\n",
              "a32pYxwC/E5xyc/FNGyGGajtFjaiskb4dNg1f9H4WDsfocQGrDMWtG+iDc9JlucxX9F1S5fpBRyH\n",
              "rB/xgHSdiZMh7E1WELgJPf4FNL5IslnrSHHgrPyB/6HTkofU8VvNWzn+Z6Tm5b3OoBq0aA/1CsFB\n",
              "1z7GDIBnYyi4o8Fz8w+0EJmzS7nSGPkAaNCTnWG4heT2TjgDMQ3SSN7JkWAAAAA2QZ5ARRUsI/8A\n",
              "JMVB7aSBGXpVmb/rLJZVnlb0UhPPU5rkhzKokKRVuXz8uYhVXAqMg1OJ11FxAAAAIAGef3RH/wA5\n",
              "8VUaeEBF/uvlKkAH1i7UzsohUrSBK+u8AAAAHAGeYWpH/wA6EAWRiUX8GrisSfW5bwPfsHP4j4EA\n",
              "AAE7QZpmSahBbJlMCGf//p4QADSyI/kACYjxGoK5CAQjEpzRKP/yzWDvxkCqH55f/zE2T5WCoKyi\n",
              "f4VPcjzaB+Vrk8gwhWErUvWqhCFnVLUfm5glZ6jPxaMVsspLKDs7N8xHSk9OFlows/c5enxCOYiU\n",
              "hEsXhj6hN5qfqd48oKCdWxcwdhU+5slTKjXNVvvfGcAaa4KeDIK3xAHj9c1Bg0RVdXhl3oYj92Tc\n",
              "4eADS/1xlskaCcNAEEV0vJnLo0g8XpgaPpG4C1rNcX/1izAOOhJEjOUp2yPAu3g/rpnNE9O/LDlS\n",
              "uOTzm6qsw30XKQBYo4C8j3lKyzrPXz/6v00qgCIiDkRMNrfCrpaJnRhdgKA7Vucnx9Z1CTEZV2KG\n",
              "J7wtGwO7QXWxZYpeOwSotmd87zC9RqeP63vSZCfHWjacAAAAN0GehEUVLCP/ACTFQe01zfT9zxNF\n",
              "qHSQtUzy51rKR3k9azuQyFB1y/46MeQkhuwKiE/pFPxMouEAAAAYAZ6jdEf/ADnxTQb4XdFd5ynY\n",
              "yRCJIH1hAAAAHwGepWpH/wA6EAeZmns9F3/O6gs4CDKejuv6VJMMGdEAAAFOQZqqSahBbJlMCGf/\n",
              "/p4QADTjfP5AAkwusWAXkyIfkQ0LgMlVMSuFQL/eMvBV6azQRnasoz5+7qTgyGrXqnOcsZM0ejbk\n",
              "v8l8gvtSrtPJfDApYRyz3QTp0es24LPF6e+56GOx/VUi+U6/r/nT6bsgXADVbwuNspf2DmjrmLDO\n",
              "0QCgjHeCo5fLIWe+OmDSvq3qNUTXHT8vuZUIxNCCjxOayZF2L3N7R7Xc1MYIa8rk72Cw4+nNPXAU\n",
              "RMqdlfmvQnvaSvqX87/tZhUJ7X/Z2zfs6gH4aRvCqKzzNxltrxynycvGKt5T3JbjgRqf+cg8IDNR\n",
              "7p7Cod6x+LzCo7u0WZBkaPzcTmFwv8gBwE3v7dsHHQIU16fVthSFOTN2B8xSpwt6zRQ3XoMuLfZq\n",
              "m8IyEhRtx+kiJbmAUZS8p8EbeTQC/42XG4M6Cvj91kKZPmEQoQAAADhBnshFFSwj/wAkxUHtNged\n",
              "JEtlWZe22pCYvrjpKFrdULRe/iVRGrkcC0mcZzHQUB2ezM55Z+jB6QAAACcBnud0R/8AOfFU0iJB\n",
              "5mqfjEfeM8J/wlwDBIRFAASkUMSgbnNIO6AAAAAfAZ7pakf/ADoQB5mfIv1s2YdjLXiIdTEeeXDk\n",
              "Cui7gQAAAPVBmu5JqEFsmUwIZ//+nhAANOR4g4qQobTNoBMsxXfCotMmoOYg4KrAmS5XdcgXU6LZ\n",
              "XNpaLuC5uAdomlLAUPSXFUffiNPeq9evlhOsIHENlUWH7lW7rGtHztYlZo2b05Gz/1GDUxsli4WJ\n",
              "D5q2SwhAlrlwvKOgEgZ469vnVNLFK/BuEiZHVEX3sksKd78avt3zadNnjLB67axthjXiuRTMYQhA\n",
              "HOsJoRHZaUj5VfmJ3RUf1sQpu5GVO3RctngZeuF1Pv9il4FLaSDMNgR03DM7io+JEzENuIPx5LQa\n",
              "Sj/olaxb6vc8JgnKMK8rFNbBFg/pdWF1oAAAADRBnwxFFSwj/wAkxUHtMrrukqcRCPWo96gpCw7Z\n",
              "BVvPr6i1BF1bgWpo9SG/HHYJHVwnKGDAAAAAHwGfK3RH/wA58VTSF/w9JFAq5q0KwUWE/rTqD3x+\n",
              "C7kAAAAkAZ8takf/ADoQB8QxGzuwOdFl01eJOYq4HYl22EnTHd+N8JyBAAABAkGbMkmoQWyZTAhn\n",
              "//6eEAA05HiD1dQBgA1VkRs95XZVRv3VLIe4WBa461HskOnxaes3Efuvr8/nU6eofHAtc9JrrC4q\n",
              "XlUxlvXaFzvjQL3NjMrKh7cskqB6YUM2SI6itBDoCr/dhWEwAb5wolB4y2d2qST2pBHJpw/pMfnO\n",
              "9wUi1GcQGsMssa9ArEmOfAZGfkmU5BCnVAaPMB17YHJB1uo47hDkmjtBniv6ZlaKFXJFj4v1bm4s\n",
              "2TAUuN+y81KUZ5bdqmg7kHVGxVr/uSpK9r2TdmXgQNrux0Cag+bW31ByAfEhZMnPsgoveQY6bfuo\n",
              "4OcDD6qfQhMba+9TA9bQENRmQQAAADFBn1BFFSwj/wAkxUHtM+cOkruSLd4WU+dJiGQjbUHBWbSn\n",
              "JOxiZ8WYZyOtTZ9kUJ6AAAAAKQGfb3RH/wA58VUZ2M7vyRO/4hQMFldq6IFH+ZpPQrTD/5fRT3vF\n",
              "LNOAAAAAIwGfcWpH/wA6EAeaD0SmJf250LpPXZHhb7vXsgqeAi0WlK+BAAABD0GbdkmoQWyZTAhn\n",
              "//6eEAA05IfIXoA0Doz5IU+PYg8QdxpZcXwOuNHpDQcLPIyBnd1nPx4pdrKjKEX436WxsJTtWajV\n",
              "sYnrgs+E6rVLXFrT2NaCkdJ6O0ga2LtxTzrZIEkBfgvtUcXWsrTSKFmMz19AykR8XWo69IvTn5a2\n",
              "UOYZFOxAbp35gxv7L190pEyqvJZPA8hXjhJyf9Kr4348U+/R5+bLeBuNCjBYNJfP0v7Un+Mfir3F\n",
              "kwRNG6B3kaa7u/rQZPk3KWg29V8IevKG/b9lQHLnxb8++UL13QdZ6X2S9gkO7FtNMjxGolTsHztt\n",
              "DsKJfUiFqN24OvCnRxWHxGVYDnGZJE6Lqfhp5tawG+4AAAA1QZ+URRUsI/8AJMVB7TqOcbgI3k28\n",
              "DkrqeLbyWkIwWcy47jmed9zOuzD+VjqmJUfgeqH1h5QAAAAkAZ+zdEf/ADnxUn8y6o4iRGw7OCF3\n",
              "0uT5WI8b9W9ogD85CwL/AAAAKgGftWpH/wA6EAWRUGHh7xoXjDjMvMXHMJvKMfUMRJJYHoSsdrzV\n",
              "wGqGHAAAAUJBm7pJqEFsmUwIZ//+nhAANLI8d4AKLXoMosjUgOICnzxklVmNgvQctfy+NX1/n+Hq\n",
              "QkurPWlnfVPDAhke2sPfTIKOUg0zJa1wttkMiLaXn0gJpBEQx8VphBGIjx7sEeLlCwAk7sfe8URb\n",
              "SGonXI924c5Bw825qt3tCBZjLSRiB3qyk1TWX8f97vo61GInQcwDYNSAB0iUl65u1m5GKNbnRnrI\n",
              "a0v2nYR7pvg9BxbIsE2RPhgom68iLN1XNIs7/2HoHMsaUJo3AoPpBoWtgJKJ6w2szfUXTMte+6d6\n",
              "j4RdgxZxhDKG0buoJ9+t7MZ2VlsiwYfd2Vq5ZlNmDcY4ksrXpyoi6GyDoXcKKyUGaKvHCi3zk6gP\n",
              "tKZe+hKMArRBx9DL3IYcGguHrL0fKad3YtmrmSxZW3XFLuSSwgYIRC2j+lB7AAAAMEGf2EUVLCP/\n",
              "ACTFQe0hXD3GgzIMYlUZIgqpRc42mNVtEETz4XpdXcpYfBaVbbDFgQAAACQBn/d0R/8AOfFSUnhn\n",
              "xbfOpeOXfuUnT05Caky8X8YAobEN8asAAAAZAZ/5akf/ADoQBW8I6p4KZZga9wf7mDCz4QAAARtB\n",
              "m/5JqEFsmUwIZ//+nhAANOSHyKNAEOSJ3lBlLyrf46mTv7xOOa0vxdqFnZ20MB1/XTT0q8WXv8ty\n",
              "L/acIBeLK/dfGSx9CUYGzA4IiriLu409E+hsBLdpLfQFJiX6ZUYcoJRNuO2/4a4NCxPaQQlqS5W1\n",
              "aZZTA44AYSfrmMEAuIcrGOkzjLDAezX3blJXQARtm6yBJ1duacJJjIfIyGshbVkEWw/DIwnjZ2KZ\n",
              "C/T+rTL6v2NVa6ZCwrsniii00hD2buxUqc0zoAaZT6sAKvx8Af5khkbyNtwV1n3Foc6R0Ap+II/6\n",
              "HxZoEoyonjkmEgQP8DtQPO3ObSsr3OqUXrJS/IJkOzJhJ9vgVaQcp3O/2LuJukUpityqGEz4AAAA\n",
              "KkGeHEUVLCP/ACTFQe062U6wEr70CzJERFaedlr4IUizq4HEeONj3BQY0QAAACUBnjt0R/8AOfFU\n",
              "2P0+m7rQ0WHUutujXpKfDI9VYtE+CKA1CF/BAAAAIQGePWpH/wA6EAVvDfNknLWp3Q8krTZExHri\n",
              "+EBCzuliXgAAAQBBmiJJqEFsmUwIZ//+nhAAaW6qo4cgaFAEHdO08pf8JP1t+G7Q39cwyOAmsY5r\n",
              "TCok6+cdcIgl/V7YJSQTWL9DjIxRu/+kNCRY7QIDFlTIIJ0wa67cItsmK8aC5MbnpKTH412Vxcug\n",
              "NjVcZJcDW4hG++kEpEcbLcttHdH+qJDv2L8YAqPBXBmqgEXCITou66zMEIj9/+sW+0kwqQ87x55y\n",
              "stZXf6/TW11V6JW+BJik+f4x4eO4XMdRSfuXhjTNmBDyB6dj+k1//2txrN3ZncKxVFavbcg5awLe\n",
              "76xHCg7bSjiFxcazdMMu5vMeBtSj1aLakdo8Auw5TmX2baGPxMg4AAAAKEGeQEUVLCP/ACTFTVq0\n",
              "6zsTiQqw/1rX7AgawxkRl1aFhhabYCkMQRcAAAAoAZ5/dEf/ADnxkPZ/Ue5c4LMBapImzzB+R09I\n",
              "30Ep+Pn7jdmywnIuoAAAACUBnmFqR/8AOhAHliR7ozVV/E7prd077IJs938uDZnVQdGD1CXhAAAA\n",
              "20GaZkmoQWyZTAhn//6eEABpbAdRVQANUARaisRX+NbKwgF14TBDV4KgGBnLJShcxoBtDMz6cLqj\n",
              "twJuPrFiAixqsJ0vMVt0bm/8icXNSgkW2mBIP2uanf6GPK8A9o9BBGnRuwQ6N7l7RDcTdt3Ngbsc\n",
              "ghTCvtgEliW3DBJwt0nNRjOPP+ex8xy0PijGf1rFJkEcfGci57w/005FGw50PicT8ODGHlZ2T00V\n",
              "54T7QYUTEMdmZ1DBsDKWKrekUATBPVvIrV15qApRP1ni8BIlcs1dGgR2vogd22BZgAAAADlBnoRF\n",
              "FSwj/wAkxU1+qEu8aR+0PKfPqUvLgGGbMxhp7dZ+ToGHmv2VnP4olZ6tS0ormHh4d/w8FNEAAAAh\n",
              "AZ6jdEf/ADnxkKMvp2eiN4xsqtO8JnKZh8VogkRXX1IPAAAAIQGepWpH/wA6EDM8WJJsDhZu/lNQ\n",
              "G9cVIM8y0Q2sWREN2QAAAO9BmqpJqEFsmUwIZ//+nhAAaWR28cpBjtcl22wAFdQJOk/qb9ocrBK0\n",
              "Gt5r9Q1uaXNnEg4uddMAVv3uSpxCKDoyy+U2XrmHGwYTg2rTq1sTRxLX0m2eWUrBSAM+mFYAF/Zt\n",
              "6vAhdzz1LCnBQpqcU1UQH2kTEQ2s7wxs4FJI+a7CbCT6qLdG33R3/YEB71Sk79nMtpise6Sl8l8y\n",
              "TNB/gAnTELrS9txXVoMuOjM5bCZ+38TJ5Y56H3ryfl6xzNb3MwfoiDu2o/9ZINMDeSgpdcLtOGn+\n",
              "N/y7LMpkBfQ/hpzcDekxiqeKZyH7a0oGwBluLwAAACtBnshFFSwj/wAkxUFg0OE1RZtlGf4FPyP5\n",
              "+VNPvnNXsqcSCxmTiprh5GnAAAAAJQGe53RH/wA58VJ/FvzEjfkk+OGavwtKPCXBbk6gfkYmfzZj\n",
              "CTgAAAAoAZ7pakf/ADoQN8KzxZ5K/dSJqRTmutAgXJZp+G87Quw9ZrjH6FCHpQAAANhBmu5JqEFs\n",
              "mUwIZ//+nhAAaW6zqSoA+MsRvyyMTBCZUjpezU1JcTOuqS/tLmUNDIvC2JYfML3YDkAa25XToeyI\n",
              "d8Xrw5wPGlyN7wPv32QrXqKTd0sgcnfLp60Xu5/gfuX3h4l9uX8aZyQpk8Eblu2txfdRzzelhmDu\n",
              "kb+f62dQeWLaGQ41r+sHZo7+pck/A8cLxOHLFP+zqZNMvloN7aFOZ/4Yqgz269oiXOH/YHONz2b9\n",
              "Lpjv2eShcAYK9g/rHx6mOz+yub7dyfTkVtaB3MRXsAsIeAEMVTQAAAAyQZ8MRRUsI/8AJMVNewI3\n",
              "7BxqnNeGhjZTfjApSrt9FvBGMjEcmxTaFixg2Rv+D6+vgpoAAAAjAZ8rdEf/ADnxUJEQpiVjAt8Z\n",
              "BYntkEUCdofDBiIRE4eQzYEAAAAbAZ8takf/ADoQAY7Cl5CjkqzThH0HduACnCrhAAAAxkGbMkmo\n",
              "QWyZTAhf//6MsABqJT6vCfAlvTJEMOrCQBt/aHdV9Pr/sQ4Am4HeFzrI9jry0MT7c6FXTrjPbBlW\n",
              "mGpxDtN1Rd5AWRyynEg0eVh61173shzfKPcicMX7FrRdzORcaaxOU9f41MZn1xvhLnjB6ETuNNqc\n",
              "XBKDi7XSo+Xy9Ue273YHat17V1uykoAzSvTmuuUN/Ht9awVx9nPelD6M0JD07BLBXVMTW2fvlZCB\n",
              "L3t22/goRY80e5TZM52zwdgsTcBLwQAAACpBn1BFFSwj/wAkxU2OYIK7TYznrXjQkjYIMGEfe8sN\n",
              "XdQjLswERhwQl4AAAAAbAZ9vdEf/ADnxTe6eFXAvmCAPyCDyetqoMKKaAAAAHAGfcWpH/wA6EAH9\n",
              "5012mRf8Bw4mIwjOCmyShZUAAACoQZt2SahBbJlMCF///oywAGowFC+pV8NAIAi4GkJTNc5LUK9T\n",
              "cbcLsrKX1ceomiP0TpVAngGh92HhHS7ZE+4x5f2SWLSAlPNsR/UrY1YsAqYVaOy7gFUbekDjB+dz\n",
              "NuWPYhBHhDWsachvQ5xymWvGluAEtrgVRwmDku4zWcBfmFB6s/+N85p9JDLDeH3maMznZROVyR8o\n",
              "tv9LmzxgyxdJqxEMyrVbEek2AAAAKEGflEUVLCP/ACTFQWC9k50jfs/3S+7X6cZHl+tMIyLRUlTY\n",
              "C3z/oZcAAAAaAZ+zdEf/ADnxTe6eNbg+52B5vCvt37BThL0AAAAlAZ+1akf/ADoQN8LhxkEvlk2u\n",
              "F1RKKtl51Ufb4M4LHArnDqDegAAAAItBm7pJqEFsmUwIX//+jLAAaoffHrGUzdt0NWx0NuwwTkAO\n",
              "NjbZr++hNPJZPhR/87wFRLPJ7ovFU9cu1Lw2tA3SKy57+s03Ve7c6KRzJp58Zfcblmo43uDHyCRl\n",
              "9Rgj4RS1AcVNOg82BXDKvZvoBC7LutPrlAJB+TwuQRxgyZqjI0PXiZek7k00ZzunAAAAM0Gf2EUV\n",
              "LCP/ACTFTZ6kD8xzgYJADSJCGWe2kunwnPmRZ432PhMIzYKppQULOSEZl6ZEwQAAAB4Bn/d0R/8A\n",
              "OfFN7p8G24EaUO03U7oCXYK05HBSxuwAAAAeAZ/5akf/ADoQAY7ChR4KaG5ciJmsnRb7hqChMRHx\n",
              "AAAAZEGb/kmoQWyZTAhX//44QAGdGL+pIf1N2UdSX4AHFp1MozSLoED2kAVvofu309dsMZp3M+Sd\n",
              "XerJHSg/LNlMmQbBaVUMdGexvSshPLebPFA93EWvjZ9a4jheIHcs8BL/sQjMI2YAAAA2QZ4cRRUs\n",
              "I/8AJMVB7NdsIqTw/i8Lht9AGMTng2m4LcQ29zK74uhQat+cNc/T4pQ5uQkM4QGZAAAAIQGeO3RH\n",
              "/wA58VCU707iml35NEwRYnBNjvmarZaxsBZh1QAAACEBnj1qR/8AOhAB/Yo29wwK2L4xnNDG957p\n",
              "w6vHyEgdQf0AAABTQZoiSahBbJlMCEf//eEABkWgJ+iqX0HZlICF2ksOoABbhTak57y0yR4vSL/B\n",
              "LmeioIDggioxSzU4LcnjqUxGn+glHTnghUHpQqB3gvgeDXElqcAAAAAyQZ5ARRUsI/8AJMVBYC2p\n",
              "Nf6vat9WQvw3WgcIOVKDDdUy4vvr51ZMGY5fJpCiM6Ug2YEAAAApAZ5/dEf/ADnxVRH8Wnhi7pjG\n",
              "ToUcsRv16baLyo9IbueQtlrRnYDpIeAAAAAjAZ5hakf/ADoQAse6UZXEHLpC8n7gd9kMTXOCi1NF\n",
              "egUsZMEAAAAhQZpjSahBbJlMCP/8hAAL61Du9SGcNsBaa/ITPv41xwxwAAAHzm1vb3YAAABsbXZo\n",
              "ZAAAAAAAAAAAAAAAAAAAA+gAAAfQAAEAAAEAAAAAAAAAAAAAAAABAAAAAAAAAAAAAAAAAAAAAQAA\n",
              "AAAAAAAAAAAAAAAAQAAAAAAAAAAAAAAAAAAAAAAAAAAAAAAAAAAAAAAAAAIAAAb4dHJhawAAAFx0\n",
              "a2hkAAAAAwAAAAAAAAAAAAAAAQAAAAAAAAfQAAAAAAAAAAAAAAAAAAAAAAABAAAAAAAAAAAAAAAA\n",
              "AAAAAQAAAAAAAAAAAAAAAAAAQAAAAAGwAAABIAAAAAAAJGVkdHMAAAAcZWxzdAAAAAAAAAABAAAH\n",
              "0AAAAgAAAQAAAAAGcG1kaWEAAAAgbWRoZAAAAAAAAAAAAAAAAAAAMgAAAGQAVcQAAAAAAC1oZGxy\n",
              "AAAAAAAAAAB2aWRlAAAAAAAAAAAAAAAAVmlkZW9IYW5kbGVyAAAABhttaW5mAAAAFHZtaGQAAAAB\n",
              "AAAAAAAAAAAAAAAkZGluZgAAABxkcmVmAAAAAAAAAAEAAAAMdXJsIAAAAAEAAAXbc3RibAAAALNz\n",
              "dHNkAAAAAAAAAAEAAACjYXZjMQAAAAAAAAABAAAAAAAAAAAAAAAAAAAAAAGwASAASAAAAEgAAAAA\n",
              "AAAAAQAAAAAAAAAAAAAAAAAAAAAAAAAAAAAAAAAAAAAAAAAAABj//wAAADFhdmNDAWQAHv/hABhn\n",
              "ZAAerNlBsJaEAAADAAQAAAMBkDxYtlgBAAZo6+PLIsAAAAAcdXVpZGtoQPJfJE/FujmlG88DI/MA\n",
              "AAAAAAAAGHN0dHMAAAAAAAAAAQAAAGQAAAEAAAAAFHN0c3MAAAAAAAAAAQAAAAEAAAMgY3R0cwAA\n",
              "AAAAAABiAAAAAgAAAgAAAAABAAADAAAAAAEAAAEAAAAAAQAABQAAAAABAAACAAAAAAEAAAAAAAAA\n",
              "AQAAAQAAAAABAAAEAAAAAAIAAAEAAAAAAQAABQAAAAABAAACAAAAAAEAAAAAAAAAAQAAAQAAAAAB\n",
              "AAAFAAAAAAEAAAIAAAAAAQAAAAAAAAABAAABAAAAAAEAAAUAAAAAAQAAAgAAAAABAAAAAAAAAAEA\n",
              "AAEAAAAAAQAABQAAAAABAAACAAAAAAEAAAAAAAAAAQAAAQAAAAABAAAFAAAAAAEAAAIAAAAAAQAA\n",
              "AAAAAAABAAABAAAAAAEAAAUAAAAAAQAAAgAAAAABAAAAAAAAAAEAAAEAAAAAAQAABQAAAAABAAAC\n",
              "AAAAAAEAAAAAAAAAAQAAAQAAAAABAAAFAAAAAAEAAAIAAAAAAQAAAAAAAAABAAABAAAAAAEAAAUA\n",
              "AAAAAQAAAgAAAAABAAAAAAAAAAEAAAEAAAAAAQAABQAAAAABAAACAAAAAAEAAAAAAAAAAQAAAQAA\n",
              "AAABAAAFAAAAAAEAAAIAAAAAAQAAAAAAAAABAAABAAAAAAEAAAUAAAAAAQAAAgAAAAABAAAAAAAA\n",
              "AAEAAAEAAAAAAQAABQAAAAABAAACAAAAAAEAAAAAAAAAAQAAAQAAAAABAAAFAAAAAAEAAAIAAAAA\n",
              "AQAAAAAAAAABAAABAAAAAAEAAAUAAAAAAQAAAgAAAAABAAAAAAAAAAEAAAEAAAAAAQAABQAAAAAB\n",
              "AAACAAAAAAEAAAAAAAAAAQAAAQAAAAABAAAFAAAAAAEAAAIAAAAAAQAAAAAAAAABAAABAAAAAAEA\n",
              "AAUAAAAAAQAAAgAAAAABAAAAAAAAAAEAAAEAAAAAAQAABQAAAAABAAACAAAAAAEAAAAAAAAAAQAA\n",
              "AQAAAAABAAAFAAAAAAEAAAIAAAAAAQAAAAAAAAABAAABAAAAAAEAAAUAAAAAAQAAAgAAAAABAAAA\n",
              "AAAAAAEAAAEAAAAAAQAABQAAAAABAAACAAAAAAEAAAAAAAAAAQAAAQAAAAABAAACAAAAABxzdHNj\n",
              "AAAAAAAAAAEAAAABAAAAZAAAAAEAAAGkc3RzegAAAAAAAAAAAAAAZAAAD6EAAAJ1AAACVAAAAGUA\n",
              "AAH9AAAAXwAAADUAAAAtAAABeQAAAEMAAAAxAAABfAAAAEoAAAAvAAAAIAAAAVwAAAA4AAAAJgAA\n",
              "ACcAAAFgAAAANgAAACIAAAAkAAABUAAAADoAAAAiAAAAJgAAAUAAAAA1AAAALAAAAB8AAAE0AAAA\n",
              "OgAAACQAAAAgAAABPwAAADsAAAAcAAAAIwAAAVIAAAA8AAAAKwAAACMAAAD5AAAAOAAAACMAAAAo\n",
              "AAABBgAAADUAAAAtAAAAJwAAARMAAAA5AAAAKAAAAC4AAAFGAAAANAAAACgAAAAdAAABHwAAAC4A\n",
              "AAApAAAAJQAAAQQAAAAsAAAALAAAACkAAADfAAAAPQAAACUAAAAlAAAA8wAAAC8AAAApAAAALAAA\n",
              "ANwAAAA2AAAAJwAAAB8AAADKAAAALgAAAB8AAAAgAAAArAAAACwAAAAeAAAAKQAAAI8AAAA3AAAA\n",
              "IgAAACIAAABoAAAAOgAAACUAAAAlAAAAVwAAADYAAAAtAAAAJwAAACUAAAAUc3RjbwAAAAAAAAAB\n",
              "AAAALAAAAGJ1ZHRhAAAAWm1ldGEAAAAAAAAAIWhkbHIAAAAAAAAAAG1kaXJhcHBsAAAAAAAAAAAA\n",
              "AAAALWlsc3QAAAAlqXRvbwAAAB1kYXRhAAAAAQAAAABMYXZmNTcuODMuMTAw\n",
              "\">\n",
              "  Your browser does not support the video tag.\n",
              "</video>"
            ],
            "text/plain": [
              "<IPython.core.display.HTML object>"
            ]
          },
          "metadata": {
            "tags": []
          },
          "execution_count": 66
        }
      ]
    },
    {
      "cell_type": "markdown",
      "metadata": {
        "id": "MZPqxOzDNN3B",
        "colab_type": "text"
      },
      "source": [
        "**ANS** Exercise 4 : \n",
        "\n",
        "Hyper-parameter 1: Epoch \n",
        "\n",
        "a) If epoch is less then accuracy will be less\n",
        "\n",
        "b) If Epoch is high then the model will be train numorous time , hence we'll face the situation of overfitting which might decrease the testing \n",
        "dataset's accuracy.\n",
        "\n",
        "Hyper-parameter 2: Learning Rate \n",
        "\n",
        "\n",
        "a) if LR is very small then variation of weight is negligible but may causes increase in epoch.\n",
        "\n",
        "\n",
        "b) if LR is very large then variation of weight\n",
        "is more clear, which may leads to decrease in accuracy.\n",
        "\n",
        "-----------------------------------------------------------------------------------------------\n"
      ]
    }
  ]
}