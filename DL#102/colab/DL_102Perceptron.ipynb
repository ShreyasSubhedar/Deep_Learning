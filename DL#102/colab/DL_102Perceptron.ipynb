{
  "nbformat": 4,
  "nbformat_minor": 0,
  "metadata": {
    "colab": {
      "name": "DL_102Perceptron.ipynb",
      "provenance": [],
      "collapsed_sections": [],
      "authorship_tag": "ABX9TyNKt5blzurysXtyOVJEeZYm",
      "include_colab_link": true
    },
    "kernelspec": {
      "name": "python3",
      "display_name": "Python 3"
    }
  },
  "cells": [
    {
      "cell_type": "markdown",
      "metadata": {
        "id": "view-in-github",
        "colab_type": "text"
      },
      "source": [
        "<a href=\"https://colab.research.google.com/github/ShreyasSubhedar/Deep_Learning/blob/master/DL%23102/colab/DL_102Perceptron.ipynb\" target=\"_parent\"><img src=\"https://colab.research.google.com/assets/colab-badge.svg\" alt=\"Open In Colab\"/></a>"
      ]
    },
    {
      "cell_type": "markdown",
      "metadata": {
        "id": "A1znIu40YcyL",
        "colab_type": "text"
      },
      "source": [
        "#Perceptron Model"
      ]
    },
    {
      "cell_type": "markdown",
      "metadata": {
        "id": "hZqvKkWVYhib",
        "colab_type": "text"
      },
      "source": [
        ""
      ]
    },
    {
      "cell_type": "code",
      "metadata": {
        "id": "sMLhMgtSJ7jR",
        "colab_type": "code",
        "colab": {}
      },
      "source": [
        "#importing dataset of breast cancer\n",
        "import sklearn.datasets\n",
        "# importing numpy\n",
        "import numpy as np\n",
        "# importing pandas as pd\n",
        "import pandas as pd\n",
        "# import matplotlib for plotting graphs\n",
        "import matplotlib.pyplot as plt\n",
        "#imporing seaborn to give neet look \n",
        "import seaborn as sns\n",
        "# importing metrics \n",
        "from sklearn.metrics import accuracy_score\n",
        "#importing the train_test \n",
        "from sklearn.model_selection import train_test_split\n",
        "sns.set()"
      ],
      "execution_count": 0,
      "outputs": []
    },
    {
      "cell_type": "code",
      "metadata": {
        "id": "LX56DW6GYVun",
        "colab_type": "code",
        "colab": {}
      },
      "source": [
        "class Perceptron:\n",
        "  def __init__(self):\n",
        "    self.w = None\n",
        "    self.b= None\n",
        "\n",
        "  def model(self,x):\n",
        "    return 1 if (np.dot(self.w,x)>=self.b) else 0\n",
        "  \n",
        "  def predict(self,X):\n",
        "    Y=[]\n",
        "    for x in X:\n",
        "      result = self.model(x)\n",
        "      Y.append(result)\n",
        "    return np.array(Y)\n",
        "\n",
        "  def fit(self,X,Y,epoch=1,learningRate=1):\n",
        "    self.w= np.ones(X.shape[1])\n",
        "    self.b = 0\n",
        "    accuracy = {}\n",
        "    maxAccuracy=0\n",
        "    weightMatrix=[]\n",
        "    for i in range(epoch):\n",
        "      for x,y in zip(X,Y):\n",
        "        Y_pred = self.model(x)\n",
        "        if y==1 and Y_pred == 0:\n",
        "          self.w = self.w + learningRate*x\n",
        "          self.b = self.b + learningRate*1\n",
        "        elif y==0 and Y_pred == 1:\n",
        "          self.w = self.w - learningRate*x\n",
        "          self.b = self.b - learningRate*1\n",
        "      weightMatrix.append(self.w)\n",
        "      accuracy[i] = accuracy_score(self.predict(X),Y)\n",
        "      if(maxAccuracy<accuracy[i]):\n",
        "        maxAccuracy = accuracy[i]\n",
        "        checkPointW = self.w;\n",
        "        checkPointB = self.b; \n",
        "    self.w = checkPointW\n",
        "    self.b= checkPointB\n",
        "    a = np.asarray(list(accuracy.values()))\n",
        "    plt.plot(a)\n",
        "    plt.show()\n",
        "    return np.array(weightMatrix)"
      ],
      "execution_count": 0,
      "outputs": []
    },
    {
      "cell_type": "code",
      "metadata": {
        "id": "0yAQgLBbdVl3",
        "colab_type": "code",
        "outputId": "7e6d775c-c3d5-4300-e15a-f4857c1d8750",
        "colab": {
          "base_uri": "https://localhost:8080/",
          "height": 153
        }
      },
      "source": [
        "# Getting data to the varialble\n",
        "breast_cancer = sklearn.datasets.load_breast_cancer()\n",
        "# Creating data frame\n",
        "data = pd.DataFrame(breast_cancer.data,columns= breast_cancer.feature_names)\n",
        "Y = breast_cancer.target\n",
        "# 1st parameter = data dataframe\n",
        "# 2nd parameter = target dataframe\n",
        "# 3rd parameter = 90% ttraining split 10% test split\n",
        "# 4th parameter = deterministic split always give same o/p  \n",
        "X_train, X_test, Y_train, Y_test = train_test_split(data,Y,test_size=0.1, stratify = Y ,random_state=1)\n",
        "print(data.head())\n",
        "#convert the dataframe to numpy arrays for calulation\n",
        "X_test =X_test.values\n",
        "X_train = X_train.values\n"
      ],
      "execution_count": 107,
      "outputs": [
        {
          "output_type": "stream",
          "text": [
            "   mean radius  mean texture  ...  worst symmetry  worst fractal dimension\n",
            "0        17.99         10.38  ...          0.4601                  0.11890\n",
            "1        20.57         17.77  ...          0.2750                  0.08902\n",
            "2        19.69         21.25  ...          0.3613                  0.08758\n",
            "3        11.42         20.38  ...          0.6638                  0.17300\n",
            "4        20.29         14.34  ...          0.2364                  0.07678\n",
            "\n",
            "[5 rows x 30 columns]\n"
          ],
          "name": "stdout"
        }
      ]
    },
    {
      "cell_type": "code",
      "metadata": {
        "id": "TS2qehmcdipT",
        "colab_type": "code",
        "outputId": "d7e451dd-1cf4-4326-d68a-b0540cebeb85",
        "colab": {
          "base_uri": "https://localhost:8080/",
          "height": 1000
        }
      },
      "source": [
        "perceptron =Perceptron()\n",
        "weightMatrix= perceptron.fit(X_train,Y_train,1000,0.5)\n",
        "print(weightMatrix)\n",
        "plt.plot(weightMatrix[-1,:])\n",
        "plt.show()\n",
        "print()\n",
        "plt.plot(perceptron.w.T)\n",
        "plt.show()\n",
        "print()\n",
        "Y_pred = perceptron.predict(X_train)\n",
        "print(accuracy_score(Y_pred,Y_train))\n",
        "Y_pred = perceptron.predict(X_test)\n",
        "print(accuracy_score(Y_pred,Y_test))"
      ],
      "execution_count": 108,
      "outputs": [
        {
          "output_type": "display_data",
          "data": {
            "image/png": "[encoded data removed]",
            "text/plain": [
              "<Figure size 432x288 with 1 Axes>"
            ]
          },
          "metadata": {
            "tags": []
          }
        },
        {
          "output_type": "stream",
          "text": [
            "[[ 2.24435000e+02  4.17945000e+02  1.35838500e+03 ...  4.60700000e-01\n",
            "   7.51435000e+00  2.96719500e+00]\n",
            " [ 3.60757000e+02  6.40635000e+02  2.17530500e+03 ... -1.76185000e-01\n",
            "   1.12220000e+01  4.04884000e+00]\n",
            " [ 4.41086000e+02  7.64400000e+02  2.63701500e+03 ... -1.02939000e+00\n",
            "   1.28346500e+01  4.54517500e+00]\n",
            " ...\n",
            " [ 9.56304750e+03  1.56219000e+03  2.81973150e+04 ... -1.06585262e+03\n",
            "  -7.34202250e+02 -2.58278265e+02]\n",
            " [ 9.57334750e+03  1.57820000e+03  2.82311200e+04 ... -1.06690562e+03\n",
            "  -7.34972300e+02 -2.58509410e+02]\n",
            " [ 9.58364750e+03  1.59421000e+03  2.82649250e+04 ... -1.06795863e+03\n",
            "  -7.35742350e+02 -2.58740555e+02]]\n"
          ],
          "name": "stdout"
        },
        {
          "output_type": "display_data",
          "data": {
            "image/png": "[encoded data removed]",
            "text/plain": [
              "<Figure size 432x288 with 1 Axes>"
            ]
          },
          "metadata": {
            "tags": []
          }
        },
        {
          "output_type": "stream",
          "text": [
            "\n"
          ],
          "name": "stdout"
        },
        {
          "output_type": "display_data",
          "data": {
            "image/png": "[encoded data removed]",
            "text/plain": [
              "<Figure size 432x288 with 1 Axes>"
            ]
          },
          "metadata": {
            "tags": []
          }
        },
        {
          "output_type": "stream",
          "text": [
            "\n",
            "0.935546875\n",
            "0.9122807017543859\n"
          ],
          "name": "stdout"
        }
      ]
    },
    {
      "cell_type": "markdown",
      "metadata": {
        "id": "XYt_2nDEf5rH",
        "colab_type": "text"
      },
      "source": [
        "Animation for the understanding of how weights varies with epoch"
      ]
    },
    {
      "cell_type": "code",
      "metadata": {
        "id": "Ja6OHe6Ba152",
        "colab_type": "code",
        "colab": {
          "base_uri": "https://localhost:8080/",
          "height": 34
        },
        "outputId": "5ada06f8-e1db-44cf-e1c1-354645c76113"
      },
      "source": [
        "#importing the different libraries to get the task done\n",
        "%matplotlib inline\n",
        "from matplotlib import animation, rc\n",
        "from IPython.display import HTML\n",
        "print(weightMatrix.shape[1])"
      ],
      "execution_count": 109,
      "outputs": [
        {
          "output_type": "stream",
          "text": [
            "30\n"
          ],
          "name": "stdout"
        }
      ]
    },
    {
      "cell_type": "code",
      "metadata": {
        "id": "d1j4WSLrgUPw",
        "colab_type": "code",
        "outputId": "419a2c3f-90ba-42a2-eb40-211b29e8caf4",
        "colab": {
          "base_uri": "https://localhost:8080/",
          "height": 272
        }
      },
      "source": [
        "# First set up the figure, the axis, and the plot element we want to animate\n",
        "fig, ax = plt.subplots()\n",
        "\n",
        "ax.set_xlim(( 0, weightMatrix.shape[1]))\n",
        "ax.set_ylim((-15000, 25000))\n",
        "\n",
        "line, = ax.plot([], [], lw=2)"
      ],
      "execution_count": 110,
      "outputs": [
        {
          "output_type": "display_data",
          "data": {
            "image/png": "[encoded data removed]",
            "text/plain": [
              "<Figure size 432x288 with 1 Axes>"
            ]
          },
          "metadata": {
            "tags": [],
            "needs_background": "light"
          }
        }
      ]
    },
    {
      "cell_type": "code",
      "metadata": {
        "id": "xcKUQJFNga0N",
        "colab_type": "code",
        "colab": {}
      },
      "source": [
        "# animation function. This is called sequentially\n",
        "def animate(i):\n",
        "    x = np.array(list(range(weightMatrix.shape[1])))\n",
        "    y = weightMatrix[i, :]\n",
        "    line.set_data(x, y)\n",
        "    return (line,)"
      ],
      "execution_count": 0,
      "outputs": []
    },
    {
      "cell_type": "code",
      "metadata": {
        "id": "F_68Sa0CgcYl",
        "colab_type": "code",
        "colab": {}
      },
      "source": [
        "# call the animator. blit=True means only re-draw the parts that have changed.\n",
        "anim = animation.FuncAnimation(fig, animate, frames=100, interval=20, blit=True)"
      ],
      "execution_count": 0,
      "outputs": []
    },
    {
      "cell_type": "code",
      "metadata": {
        "id": "J3EBo3Xfglc6",
        "colab_type": "code",
        "outputId": "441e60e2-a2fd-46b6-a17b-2207abd777d8",
        "colab": {
          "base_uri": "https://localhost:8080/",
          "height": 309
        }
      },
      "source": [
        "#converting the whole prcoess to the html5video\n",
        "HTML(anim.to_html5_video())\n"
      ],
      "execution_count": 113,
      "outputs": [
        {
          "output_type": "execute_result",
          "data": {
            "text/html": [
              "<video width=\"432\" height=\"288\" controls autoplay loop>\n",
              "  <source type=\"video/mp4\" src=\"data:video/mp4;base64,AAAAHGZ0eXBNNFYgAAACAGlzb21pc28yYXZjMQAAAAhmcmVlAAA5hm1kYXQAAAKuBgX//6rcRem9\n",
              "5tlIt5Ys2CDZI+7veDI2NCAtIGNvcmUgMTUyIHIyODU0IGU5YTU5MDMgLSBILjI2NC9NUEVHLTQg\n",
              "QVZDIGNvZGVjIC0gQ29weWxlZnQgMjAwMy0yMDE3IC0gaHR0cDovL3d3dy52aWRlb2xhbi5vcmcv\n",
              "eDI2NC5odG1sIC0gb3B0aW9uczogY2FiYWM9MSByZWY9MyBkZWJsb2NrPTE6MDowIGFuYWx5c2U9\n",
              "MHgzOjB4MTEzIG1lPWhleCBzdWJtZT03IHBzeT0xIHBzeV9yZD0xLjAwOjAuMDAgbWl4ZWRfcmVm\n",
              "PTEgbWVfcmFuZ2U9MTYgY2hyb21hX21lPTEgdHJlbGxpcz0xIDh4OGRjdD0xIGNxbT0wIGRlYWR6\n",
              "b25lPTIxLDExIGZhc3RfcHNraXA9MSBjaHJvbWFfcXBfb2Zmc2V0PS0yIHRocmVhZHM9MyBsb29r\n",
              "YWhlYWRfdGhyZWFkcz0xIHNsaWNlZF90aHJlYWRzPTAgbnI9MCBkZWNpbWF0ZT0xIGludGVybGFj\n",
              "ZWQ9MCBibHVyYXlfY29tcGF0PTAgY29uc3RyYWluZWRfaW50cmE9MCBiZnJhbWVzPTMgYl9weXJh\n",
              "bWlkPTIgYl9hZGFwdD0xIGJfYmlhcz0wIGRpcmVjdD0xIHdlaWdodGI9MSBvcGVuX2dvcD0wIHdl\n",
              "aWdodHA9MiBrZXlpbnQ9MjUwIGtleWludF9taW49MjUgc2NlbmVjdXQ9NDAgaW50cmFfcmVmcmVz\n",
              "aD0wIHJjX2xvb2thaGVhZD00MCByYz1jcmYgbWJ0cmVlPTEgY3JmPTIzLjAgcWNvbXA9MC42MCBx\n",
              "cG1pbj0wIHFwbWF4PTY5IHFwc3RlcD00IGlwX3JhdGlvPTEuNDAgYXE9MToxLjAwAIAAAA7HZYiE\n",
              "ACv//vZzfAprRzOVLgV292aj5dCS5fsQYPrQAAADAAOT8DMR/qCRpeJ9BSDFJCAO9EdyvWWZfh2a\n",
              "13FLdeIj/qG1zZa140Ak4DhocSPm5CiCqHUViXF7T7vTsxXiu8nTv/jrZBTotM3dsTDWvDkgnA6W\n",
              "80mBdrkNaDfsPEOGgAAAAwD63KJqnTA/8/gnPyNVH2RFDOQ7ruJMnE4hjj/VgWe+yyfkkLwdmo9Z\n",
              "f1QlIuzaUPIzugPP5FXWre3TNdxlU8ZyCl97hOVCLCQ/H0FvRlrPxU6655RerT2Qe4mhk6sVoGba\n",
              "krVO9GpGBIOxz0sBRRFAQUTTZSVlClLvK/SksTnN/fLnhM8Qjd+zgwJafjstGba3e7tXGi/jqo51\n",
              "aY1hNGuDDtc8Q5AzQmp3jgDIgwnKZz+wVNy+453eWaT6IBd9bfgwlmh4983s9nRpzYd6Ksv0pZji\n",
              "QwSm5SZCWMYXvLV/UwRM+gDgqPq29pXb4YZP/nOYg8H/rv7fESKZLRIPxofGOOy/Hpr9D6otr3Rv\n",
              "RodZVfOokzRKr/k/+vitnYea8gTXm3/sr2YgwCFClhdAIVUc7p8/fcX/+X5ZDRjRY03XJlRfAEMg\n",
              "ThYRPQQtvOqneHHJrs9usTDrkkbjWs/e0F5HU0PzcuxJQjxcirGnBtGHffHV2ZWJMZzwz6eeB32r\n",
              "PF4EyGFN/xDZdPQwZqSW8TQ5wIb1AEIuch1Csg6vBFt0Zr+efHEICT/mtHITvsjc6StvF7ZREZ3d\n",
              "Y2c6An80t8PMFbhAQcf01J/GsoODHTxuc01cO/bDqHE+NvUOO5p0dCXEJmmHEmhgDkgafKt/bJfb\n",
              "+pFREb4p/tTU/SUDI/4W7+vKDLP6imF7I5W5RdOkbEVb5uLEJMu1oWg3WA2fYpVPKsW3hQXXsboM\n",
              "LSdwWJWP8GuCF7P1h+KQz2W1XzEwON/mcDifFpGBwpKnqH5WsL7xTfpyy6g5+RSHnoymP9BUUVWz\n",
              "VvyR6YDqup0SbJy3zHgb9MbVp6n8SBjYPvJ+veRwUhoZ4GmrGX8ihEGVvB5qf4hpr5WB8+mzseNQ\n",
              "BGUtW9Ig895TSPb2BhvzNN1ja1tfiDKUlJWZyFhqZhzRe7A5dt993wNnm89D/e14GPb/BSpT7Kdc\n",
              "Hji1Wtf2zbHIcm1WKDloGLOsTFRslNUneHEi7YlTtT/uUwW80OxNbP1C+EOM2p3SopFtCu33UgVJ\n",
              "DlEA4dEdFy2eSd3xrL40yJk1LbEfxW/frq9Uzh4kcK3vTOlobpdM//DxrMQwEs919ae9GJnmqc3y\n",
              "amGihuGz2BUM8QKZFTQbMdGp0SvzG6nXPqNAfv6NPg72iDK/hH96Le5iqQ/2pRpJLApk/5cnnFc3\n",
              "GcSpIhU1u9yKez6GZpM/LyeoG7iNv215Od5u8C2XC8Rz9Gqc7kefeelJoqtKJOyqd0/S2yLx30i2\n",
              "tm8csA8llqOkelYLudEoTpDgwTxTKDTggGaa//vjGv52blQPqdhj9K3snAcCDMu77tkRHG9kThni\n",
              "+AOnqARTvQu5JwFJCL/t49EVdrZWnFa9K+d5W6IZcaz1Q8AlUFaYFLyMgLYD7hvgsJJn7GRv0nED\n",
              "lsFH6eoRYsnFgFqh50iygTeXTMCIm5wFYQiUHe7fyd4Yuykb6jnA/IPyY7YH0+muuYPvrTbjzNiq\n",
              "4X3FIRGybHdUljvxNmPImPrR/7oZIc9fOKz5mFg07IWzBnpJ7a90TJZE9VnwdSFjvbmX/NiKf939\n",
              "Dqn9LYFZ51V/9biBaZ4p90jXf2444Qbuxi+leaFxOOKBPQhAVDhtk872fQrtABeoJm4n96HZoB+r\n",
              "41NxT88oScvyKmEKU635NKO1d2BAj4DCAuHurOJkPy3Q9iKahZQs5Vr+mFoaeHy/jfqpfDfLLYXm\n",
              "eGXXqBSVdT4TPD7lO2SBFroTB/UkFdIeiHrRyIpUr/wCyX+k4du8Wt3KuoV4fnKgWBScF7KKa0Tl\n",
              "4LA+5rL5jggxxIS/BT+pB0EFadIjlfkeHkRGkGftyo/bvfInlYEdpc3Pbxud3YWEOGOMj+HDbdUw\n",
              "gvny5PeuaqGIA/xbU0Pffr8cuMHBIEsRLmDRsXiykjSkq2kGWbz04Rn2yv8NtrYUt8hDHhDcwldg\n",
              "m9oEnQtzuCjpuYwGfPsAi8CXTfBfrcNq2CwtVrSGQa/SOo2dpMGHRMTMdrj22lcTv21mGJw8vQs/\n",
              "0d4ND9GcsVwn90sD6RFdTj1hT6P5Kxx2V6LI4iGQAISur7/19Gmp1nRtyAHysuRgBe/52zYivSyp\n",
              "T0fVDUWmSqi19AbJgxsl2acveo7tXBRn4qcIrstXRifHMdpBWlj0obO4sFwwh85+s+J8mSPiSMMj\n",
              "ILMzksNeyIbjCGmXNzjfmTxHqUdvQcw7uiFUJi/OgWiZokjR+X+A647U9NM9R6JICQoXw0wJGw03\n",
              "Gqj/HTkDw6IA0Hq5mdvFdf+U+vsLebTUNBiNhx7HZcBfZm6Ofu8ptflm++pPi8505cucjHNeITla\n",
              "Csi6uMv9teVKFXbFPQZG1zVA/U4n04mM6HgaymseGTEBWA0hx2s8J7onhxximQRCo9pcVrxOx0f+\n",
              "ZTCE9ySqvZJOD7lqaPBc8V1cRGJZ4ZQ/w3kfZR6wKUZBDReHuq3Ti6YPXZKJNpcMPwFDIGz8ouHu\n",
              "MJvYiPMedhquulDUdVZU0kwmZktTDEtWrezd125VkSc5YoCQuEdx/lN6Ml5n8s7zzu4FgD66YSl5\n",
              "tDIJtprB8DzALzuu///iURwMkcTbPBi3gL1ubNGvIcuYzxXpgV6osR77D8xN47qvDHTrPEM3YCU9\n",
              "dPjPeI9+Qyb5joYz1boUR8irBhCjJZBdkHiGMHWv7i8FO37O3NODDUMG2L184hINXu5ooGJJxEzi\n",
              "cms2pTMuAhLqTBm4AjBqk74GShaqx3FUHE3CY5K42XBbShVcKCxI35snRXZxAPr2RSq9nlYyJ7lZ\n",
              "E3bGLNonJYPsy67xEoVh//S0BjIyEca5YSoY1e6Mhu727wwr9LuAVHrWWhRT5NQayViFQ6p1GgWE\n",
              "uRh7uBwHq7IllGCl/vMc096ebni3oWHI2UYSHPbNfM+OERoU5lq6IsdxrOZWkB/+b//+FdhUyN/y\n",
              "nI4AcGOSMxYroU586UPs170HM9bXlL/Onemyzs/3oTtfGMnIQ+xeipmNgOHbG/DqDHVX3XUYN2i9\n",
              "o9847oXIwqGEYszhikehslU4sFxqLDVMMmUUdEU31E2owhnypFFXpBrgyytWxGbIC08PIPQnEQlW\n",
              "FbOVmsEANnVtfRMpIImM9S+qB99m01Iyw4nBfi+3Gc7SbcnemrskSp6mSeCHvN22puHF5uueVvxS\n",
              "LctqU1QzbyuMpGNTMcUI6dk5LVppd23O5yHHV37zB/jvpk421d5Vd2PcFRCp9RvXFvOtBCqtu0FE\n",
              "1MlXfyitf499M5LXcK7OSrj+FWq4ZUAVjb9bOkL9wdA0J/SGcgG4ykZxfd+gx5rH5cb2U6pmft1U\n",
              "VOoqV2Ae7lEyBD6W9s+5y2IEhLuZsrue4/sVLjPaSTRJzM+weweTaBcVjHykATMHg8evJku/uADs\n",
              "wSFsBd3WbKjaHmfWdvWoBo8r1moSHaBWguC9RdjbfobR8JoJPhfiGDqYLGcoLgh6LugC9nZDuG0H\n",
              "xScP407d4YAc1rsPdlONIJbq+0XGw4MBfwPEkq0KYP2wzVgWoAC1l0qDAjG4skY4ES3nBoBYUpBs\n",
              "y5blm9SLTKqIfXgOTPH0dQ/YageqvGzFOjAjPIDWe75fCJndAVA4CRE55TA3FxIS0SzIs44Il3l2\n",
              "L+QjWFbHCtzFneybzRD2y8KKPDAR/eHbYrgNjUzHtuDUew9CzEY430Z7DE1T/0nNBcu8I6yR7JvD\n",
              "XJtxKtrYD+uJCrjabIBSlPC3urhjrAyCBN5TDHtCMA7piL/GE0ejSDTih+l+N8sJLgyRkYDegfTy\n",
              "v3x/40+BHwQwl/4FOHt//09gPFsb3PDmIMLCG3FRUkcr0JCFyB7QJY+ADT5TTHs57wtLktma2FhO\n",
              "xKrbL65ESQNuq85yvZ4yNTb0Z5NhaKFlsLuOIqO1CfEWHk3xVOZO+zVbiy2OzI/uSNLLBUEDqAEa\n",
              "ZlAafBcS3aKbD5peFtA7Md5Q4h02wJHdq28hMxqRBkAaFd2etAzNBukcBhvMJpVFG1cf/S/LnMFF\n",
              "U05ijjrYix8EAb7pFrbLUfmNiVSzjOal7SJp4TteCQc5E+tq718K4rt79ZUnvVP5O/o/tpmbDcez\n",
              "74kwgUP1btfsnaiPTNxVxPBxds/vVe/MkhUITuZ2SLDlFNcB1xSCSAFEprbmY4RkF+j8K9gEyN4a\n",
              "lOWgdZ0m8R8G3/yqRTe1myI7GD7S/ovAWv8qsSWkOE0nw9Wp1nhNIv27YVyGFhJz4gDT5mveuNpB\n",
              "tdZXlnDXtYPq9fl8JQjpAQA6Gmfm8YsietA0zfrX7Ead9lxBPNefJkV3M/P9bV1J2NhHnCme9TYg\n",
              "SihwmkJAQBQPfXCXRuN0WUQCtqLJPA59DYKv1TMhIRTUSe4BDncxPjZVAjlr7Z3lfjbWCiR4kQUH\n",
              "dc/E5ELowS+3e197lXITGqabKnor+QYECtTg69ZBVO4IuP9Tgg3oaJhrbB+gsTG4kC296hFmIa6E\n",
              "bHnJ4CDOJwxara2Y1FPRAtojLUmHzPil8MwGd8Ibm9jEbToXaEdMG2PTv4gHYNlnbDzxcpND5TH7\n",
              "W4VkCrGYoYxHIWfkxEm4UDmeOY2kvcPujYhmKPIGpJdseMXegFgyZWrRZEgvIpo/1eS7TjKd4BzC\n",
              "A/4aVhfmegXkpP/sX5XCxC09Fo8BFRxyE1+1lZvQuucoV6VCH4FpH8zReb1Fcc68cHiZctw61dYJ\n",
              "ur7MnD5HkmaAk27759TEWwBqu2ZRgm3mqWBZwuaOD4LrCR7EFU7clm/x/F/P2M26QpAT+q/WVmrw\n",
              "A3EvI7jJpD0duP4TKp/YUxFhNyizX7ax8b1QCrrMCHTsoyKVr/oDUzFIuSnPQJmDOWds6bYqQ5LN\n",
              "FUE2TgABvvyGE/omR6MzgHfhAAABfUGaIWxCv/44QB1lXASeQ2Rcmgq4S376VdfjuCZ7GITlSQ/+\n",
              "milfKiSe896pJMDHNGn0TEZAEv49tlOF8dyFTf0wAHiIzD/OUScHom7scO0DHfvY1LsklB/fepp6\n",
              "wj2g8uhMMUOouclC1dJPLx+1nNTATP9Clo+f9vDTvlS2WVxP19bi23rv6O48PBg82sD8A1e8+rbn\n",
              "xUiBYpTkrDldvYv+fimIr5fNV+L4WKc1qo7HmLmiRMxIitVrmHyDPFoaQ0USoBh+hCOi042u0bbn\n",
              "pEwTg+zYOHQRxTEcoZekhm18mNM1o/5MW1L9H4tJYbf4SBT/CH9Hl4zc2fSYJcF3bl7HxUjf1O+a\n",
              "krNGyJooL7cbszvmLviysUJQZpOKrwzTsgJhhYqRScMY9z4H6yKNaCWa6lAe94tmdiraAQegfhjZ\n",
              "CgMERiYGJ6DrlI/f+X/agdt9JZvGec8Hk0M0M/DZmyuUk0AYSxSpUYL7FYqA18Zo5sAFY5r3XZug\n",
              "HLYh6AAAAZtBmkM8IZMphCv//jhAADOCY+KNv7MAct1KfntgGOPOa4yxkLL2kBtlm3HUAoJqiD4d\n",
              "FvSGeVe6Cp6LrFTUGZoaOVLoLt70M8lbkeda0iMKidqn+c7rE7ZOlMBJNchhcCqUNlhlc2qj3Mi6\n",
              "qHxZ7bc7x+MNAlvrdCZ2As2STVOrlZpktqCPR0OVp4/IN9idwVtd1MKkt4H8vxp3tqL+Qu75FG6/\n",
              "Zylrnr0wFh2TO/JgmGz5ulK8PGRQvBPBKup5j5aEDDf/3q/4TzFUJRW9k1ccb95uFAgWirks7uvY\n",
              "lauJ2N8mfHo9USADv4IZ6wbaHdaDpHEsx39G8Tr2f+x9kqDix0+oV04wU+Sy49qvfjjg06XbajTA\n",
              "WvlB+6xVmwTPUkqAV0uUWb8+kjEoDblpgREdJ8RYWX62sBbRO8k9EeRDT3+7XF9KJ6wRa1fy1F0F\n",
              "6pNEnTp80nb7bTQWF3NSDR2LagReyvEdDuOo4+DZJWNerprMX9W5a8ED0i0k7bLF6bmAxj/+BnaO\n",
              "MDauGiaQG2hmC/eNnjKUaYGacpMAAABLAZ5iakf/ADlf55P9P6/rAdZIhI+Z3rViCrnceMj6P9xy\n",
              "oP3QsACuj/YAsJwXOEpobEmC6F/Jh6IU2CtSMC6EM8LuIvtyX6YDD9doAAAAx0GaZEnhDyZTAhX/\n",
              "/jhAADNc3+eDOcACwv38pUx0tD9wjjWYfLbqHFVGjEroMOwhyUn+Ewg4nLcCmtvNafxAd1feBoMw\n",
              "QcCQvdmckITJo2aPwYK+tAsFw/Q3jzpFyEiRNJur6j6D894Jpq66G1nQI4lYZM0DgOGfVFjw5Qof\n",
              "Q2OiiyaZ6Fw6JVXlV432FrNxTEy36RgLNbOEVY+hb7VFg5B9s52fpX8lw03qHXsYgBnEhNKK9Gga\n",
              "AEm43oAsHMPynwRZ2TEhoWEAAAFkQZqGSeEPJlMFETwr//44QAAzXWVGVvwndwBUvWbWMBWUeyt7\n",
              "a1nphZE7/m6Y6ectIyPzGUgeAaRDn5Cq8uKVDBxxzvJK8JF1oy/NGQATRhedBVWAfRN04yDRSODF\n",
              "SPwv4t6/RQ+ZkVLo3h23UnOqPhCWD1ZOvgA+29Ue4csOm5j3ZezCukHQB4wHsSFVqBi1pJsEQb32\n",
              "AoCE7yz/hmtmusZsfz/MxGbmTZMnW7azmk5+hiUtDinTLdTyix5vNsBArVAVqPIa98X4kJYEgMjs\n",
              "WtDcOmCDLL9YNETWnobqES6vVrLTOb+wLpjMcvwdOkgmLLEY5GMoTo5QOzDsxv6YFkS5hKN9uYad\n",
              "wwzSt71aG4zRq5DcvAnluK9OFONFkuo+hBS7+gPb2OAJBDu5Hvtw7JuMipR0f0Ckb1ZZra0u63JB\n",
              "xzq0INU4X11sFF40ZnxlLwJBEIh+1zhXTd+f5gO8lrnaj0EAAAA1AZ6lakf/AAa3H8iR4cQt2rGS\n",
              "OiOzZBICsEF98cw2ZqtAogTE/Apf0BRM4SqcCdzgxzL64okAAAEwQZqoSeEPJlMFPCv//jhAAGd1\n",
              "VywP8K90hm6vBXwymv+YLnUWShdR9dXHak4XyP83ZG2J8NCc/QHTMHVEQBDebNh29H90NVG1TM9D\n",
              "2P3TfdOu4IwNgYCls0S9nQVm38Qdi32TAAijR/Fbbx93f27IYb9m8V890+58eLH6qrN2i2VBq3/O\n",
              "UJUwbHoUXbeLfxixcmFY2SWxUNUaYvtUuRHosDjnnuZb6HnlnG6vPyX10FXzW7WJS1JkvRuY9K/b\n",
              "/voROKyqqD69b9WNAkqWo08Oq/mDs5RCKPB5icrLgU7IIpSSS3ueVFhV2oEcvFBeeYf9JCcJmlc4\n",
              "Dmj3iTyPeGdjsfgGe5oj5QpcY5Nr9Fe/8NjGIGyd2YNsNx0ruvZppt+8UHbvd8TCJEvN5TllRQAm\n",
              "YQAAACYBnsdqR/8ABr2o6efkH2JWF2NuiReqiOiMfUA5ug8boGNahFNBMAAAAPpBmslJ4Q8mUwIV\n",
              "//44QABnG97IsBiz5KzG7cVoVv8xp+rzqHanshO8RENGZIQTROpcrbRpIu5H2eJLkEZEVe/wxMOe\n",
              "vPDE98M2f0e7bEf8hIBq1wYndzNGbL9dNUuX2AzLnt+uPgWFGQhaAIeTquyoW6yv7TRS48jatZjv\n",
              "YO0WrU2ZMNYJkIISxLDYTp8lingPRxclmVR7VCDAgIlHJ7JY9ZvFppeB3Zz5qMN9iNYB+2v1e8dD\n",
              "5F1FbOOTs1oKtJHZbJwD3B23FV64Wcfu6/HvHW/QMfeN8jGFtWdozbA7CuK22QAs0ra5xobGBScI\n",
              "P2lFFqCqEAS0O+HAAAAAuEGa6knhDyZTAhX//jhAAGcJ9Y1gFEdG5dfVKjf+LOnZjANzkqrS6t+7\n",
              "t4NhB4UbIVqWna8ohROimghbL+k8R7e9IfuwhrYGVNzXzVsMzwwWMAWmADUvOocY/cFhw/7j/S2Q\n",
              "bZ0obSfWlF2poKfogTrXVpv/wRcKA44RDSyueDAJoJgUjJ0K5BSrO1YxL3GSW9+/jW+RBlyjpnkd\n",
              "oepPL1Xf2qbkY24aK4+P0DhmrYd296bF6b69AcEAAACjQZsLSeEPJlMCF//+jLAAGpHusdwDTGVf\n",
              "RjVwp/Sy3kRIClcvntG74Ih5NxqPJ/hsDBA9NFFGPZOqL7LmLf9ahOCfO4SeYyE9sVzIdmu6Xspd\n",
              "Y+WB23wxdlokn2xVNi1WBt7vgTEJfcguAdW7eSUugCfqHQ6G3zj4B+1JdqMmUgn5FaY9HIZZZQLY\n",
              "C0X19wm26x54HuWR3ZvcChLio+NrkfkGRgAAAKlBmyxJ4Q8mUwIZ//6eEAAaYceYrABzHnCk2hiF\n",
              "m41iwRIWXC4VB3NbI0yjU0e41ro6JqvpgGWFQHwtYXZjA4YJsyRLK1mwZSwQoCXEY+GQpxfpvFDK\n",
              "14W5RjmkONxDwEtCSjD2TMZRBo9hgpieZ+cECXPc04Xq/ZuVNTxuMO16ExlaUILnvwc+A0JPndwM\n",
              "ONrOG0zpRKNfd2wNxzyUXHAL4T6wTiKGhWz8AAABR0GbUEnhDyZTAhn//p4QABpRnLpt6SAMrYxK\n",
              "GqGmDfairHT8hWKZPIJt7alcN5GscJl6lN/3ex/PHOjpkHZgkRlAgQ6lKuRQLsz3RX3Tm4TW5PJw\n",
              "rq0ebuy8OQffD5FaEFznV4IQoyIG9n6BaLxhgRPYATXpfyInR5PHvIiUTYBIwypmXGaWIqW6eK8t\n",
              "DgBVLhZ/wRGTpbgubnGTnoDKaesTo2dd6zN67u/ZKFI9uq8NiWM30NcxkpPr2nTOVcIWMZ3oz8MK\n",
              "n9MM6Rv4aFzAsV18I1xAwoItKXvjHgbmN6JfLc2kpg7eQY0RQOd0NzXIkUTQ189gE14VIRjSfSvt\n",
              "tllkXBxShhgM2S2Qatsx3k6aUB3QO//C+0Wt87TUtmNClyhS/UXjVwIupqUawHeCSAquSm6bmOAL\n",
              "j/lPEfhwcyO2hpyXncRMfQAAAClBn25FETwj/wAIZpq7FG2xLjAjji5h5Cf3SbwEEI3Z21ub+jO1\n",
              "NyMTgQAAABsBn410R/8ADXGF5nZMij32BPo1F5Zaoj+FF/0AAAAPAZ+Pakf/AA2Cpxp7EggIAAAB\n",
              "L0GblEmoQWiZTAhn//6eEAAaUWJD8ZdyOQBH4CpUldp5fUvKTQrUZ+1UguffZMc4VFU2YtiVltvG\n",
              "7BL+zqKl0gkgK6MdJjlJGkSjzBUv+ACbic7Qhq/CySpE0+uLSD1VBlRs1ewXNHSR/Flf4arhsb1W\n",
              "ttwUi7UvaqYIwdT9c3wHVy3IwUkOp47O9VJZP67WoS6mpARbho+C6ax/6cqh1RXczvBoMHVBWPDX\n",
              "2CctDHGL6hO1AvvrMw7oWqi8lGqCfoCdGwmIP+DR2K971H47PkZCu9KZaKRU2pP9ca9VwsDqmF43\n",
              "LHE1DS+aa9RKPMJOOXTRz5NvhYjfFx/WoNyMmX1C1mOSO3THb1EkGQc9KzisD8wMkwLckZSMctyz\n",
              "1PIxHZ0ibTJ9stczdBsLldwUkAAAADdBn7JFESwj/wAIZLhumw1UfhW01H3kZiIAblXYsW4qQIni\n",
              "GhoJcArm8px/5DZrZB4TDoZDEie5AAAAEwGf0XRH/wANcYdz6PeBJ30cK0MAAAAaAZ/Takf/AA14\n",
              "Eyd9uyHWQmtoPXilHgmuAh4AAAElQZvYSahBbJlMCF///oywABqBpzbBBSjcAC8eNOnKfrI8uUOf\n",
              "SGFcS0EobAqcaNeBads63VdKJFt6cMxexRZxJNEHWtuRwbLEm44lmWXQN21tP5r47kTStaJj36/A\n",
              "WyN9/Akr8UKZbeCeUzbaKP4gVs9NfADPW7nsJ/yCh27cexn0//0fYnZk1aRFkvuseQKsnePEkhIS\n",
              "7l3N1HSCel5kPHsrpO0svvrkN0Ftrj8q+v6XNzcwzNrxyTyhLOTEMvZWUOSSI87jmwIUxKV0okgn\n",
              "GZwoQI0eEBvdZ9JANrufFstyx9tNXcT/DoD30AfjafOYBL79g4UK4uM52OPpF0lPWT6NZNK75nIb\n",
              "kGEQPelj5RtHvmeQdv9sKk7xffAkQjcxMWXgTcEAAAAqQZ/2RRUsI/8ACGZGXd5YyCSiJ0u7FtMT\n",
              "LDSgq5rpheXAs+sAo9Mj+WqAAAAAGQGeFXRH/wANcN3swrkAKAS5VksXZ0+kwtsAAAAPAZ4Xakf/\n",
              "AA2Cp571tASdAAAA+0GaG0moQWyZTAhn//6eEAAaYDgRr454AKk634KKBwb2t8wcvqIxw4eNgyOy\n",
              "W7XZ6Gb3ikDmRWSTuqKagE0J0pbyd6woNBdjlbzygrc9kzPjV1eTYpImcqdWWirdUX6U0rXE+XlO\n",
              "e43tAf7pxmARr9pD4i91G98niW0Q2AY/wMj61ARqIhZinRK3fSpvDL1TrYPdDV9pubAKeZZQzepQ\n",
              "WuIw42DbDV7bbzRa6ARFIvGWex3xMcc8PKSWW0N+MGmsa2LU//okW8Wm1F9mNyGpbKulpesobtX9\n",
              "LX5NBGa0XMEXOg7rqnrSgCaLXfI3DN8aSgYKushszPkdy26HAAAAOEGeOUUVLCP/AAhkHriKX7jU\n",
              "Xh0I4ZQlviuR1waHmanuHB/HtTL/d1O887YANeZncHH2XccSh3+JAAAAFQGeWmpH/wANgoGqybR1\n",
              "HgQgrzrMgQAAASZBml9JqEFsmUwIZ//+nhAANONzSFIBNcZHC2AxZMF/N6ytaeru+EPm5ejQcaQ6\n",
              "Os4xncJumIVW02kGbljpDDuDXuYyRLF+fYfqzRKBepvcYwaXcmCJJy78ku7X0sVbgeLrYLIp5/ma\n",
              "v1dfmTsmoOuop/B7TCtFMX722qrH4Z/B6asBH7FzbSGpwvFu37EDpxUhY2C70Cuph/B5HdSLQG7+\n",
              "4FjlQAxCgfbg0W07mC8pTawQn1OXjA8dhSEfoHYdUVQ42VNo4kT5KZqzMjyZVhv+Wgv1rxfU2dux\n",
              "LB2H2z+8ownJujKk8UCTqQLHXHYV5o0AEU9vazPbaqaiE2EVMI+hwpap6Wz5ONdBXT3aycyMeKCS\n",
              "pB+QU/UTPFEKyk8Il9+vGnqywYEAAAAwQZ59RRUsI/8AEMhXhQsNTwYuAeme0fvE7LyAiJJ8F6BV\n",
              "Pf4QvNXIJKezcNgTf7yBAAAAFQGenHRH/wANhzSsXwnyzxb/Tw5VUAAAABwBnp5qR/8AEtBmutKl\n",
              "Ryo70VtgyZ48mQiBg7HMAAABIEGag0moQWyZTAhn//6eEAA043zZifuXyD4NXWADRhMxUJVqOOmS\n",
              "M3WNS61vIGU5XvQ7tbfjJXXSkD8FM0dmBX20B8nOZHTTtGO4w9WgCev28C6pv/jXw+FE37Y6U6EV\n",
              "oEU1g2zrfbFfUEYEwSzzTlQO6reR0gMhCsxXFK33M5TyR9pskK8uE+bUqVO/7Glskv2XJYeiEfEa\n",
              "ZgTgRfFnf4BWzBTWVZFKBqeE3sILm0L7xx4KdAQm9pmSYhD+girY/sSflIVnTO5aCfQA0p6oyex8\n",
              "89kbB2zaJMX/EaUgnzSrKan1T+YhroJ9mm4+kWat/lKw+Gj5ufQu5Yu9yyeQef7u7xbbCJHmRSDe\n",
              "45SejIXLEuat7rS+Spv/ovurb0gtuwAAACJBnqFFFSwj/wAQyFiz/Ggr0lCCFlQen7f15JaFGGC2\n",
              "HS/gAAAAFgGewHRH/wAGkoTXTGrOsbeeQi3+bgkAAAARAZ7Cakf/AA2B59ZJC+v82NQAAAFQQZrH\n",
              "SahBbJlMCF///oywADVD6YOSltYsAYPRkxBuKMRnlHWXcOg4P4nadMp6JhLwMSubECrm4otHMxjI\n",
              "178H2vbU89U81x8pChUmQZ2DG6O1Cz0sXsCvDAuoSxC7SxWPfdeI9mFKmZoRoWsJ2hNZU9ecff1I\n",
              "+Iv+HjKpaR3A0H8dPmviyMIe0BRJ6pU89pNAJsWIqdmYZKZv2yuseFeZ0VVpMFYqM5K/2mSZeg9e\n",
              "J4QIWrLu15PEOHSt3Z74KHgJwYLx6njopXwMe8wIh9/l765V2YrNo4KUj8IXOcUxU7kxgbMuA5ja\n",
              "tO0sxH2tL1UD6lowLXR63sGRJbeTbQAZ7xLXhLxwUyWpP4d7cNMipDCOYC33miyypmGuGlvYMh36\n",
              "xUg9ALo9TIfpoO/kE0eAGqOrBn5A7iQoUoJnH4H52rG7to+IYYWE4W2NHZ6r/xiLAAAAIUGe5UUV\n",
              "LCP/AAgpNHY0w/s6zddqMUkt1I4bTAfn0HFyYwAAABYBnwR0R/8AGw5mnfPJv9r2oBc9wJMZAAAA\n",
              "FQGfBmpH/wAGlK1zNzlm1Y2t+JTdgQAAAQJBmwtJqEFsmUwIX//+jLAANUPoc9gCg2zpsW9LkQkX\n",
              "SlpcAKGc59Yx9xtukBZAL6SpnXwRXjx5AUgfxKdcIbLiPN94UGyXfs3khyiHtJwPYQOsW/4CE3kL\n",
              "lYVz+AbLYhgoTdkE5V/ZwtPFP1qW5imjMHVqKxTh9qTKBJ5jYTrIvnyvlGLPhBAfAXhnEK4nU1Fz\n",
              "vLWVOQKYkdhUWHEwdtqaibFA0mk+MWxNllf+LGMpyj5I8SbwnTOVJdB7MxHT96q7umlwyLRbjIIZ\n",
              "nAul9sxCSOPoiAATlJW09NmzFwGSo4tvCNVoqsU5V8dvkllJF5cZQPBqXpAd9wfVYNVUTv+QeQQA\n",
              "AAAhQZ8pRRUsI/8ABplug2Tjef8oy9+xLT8lWz6il8AXTNXAAAAAIAGfSHRH/wAa9apVbqCI5UWy\n",
              "yygBeOrekBjTei0Dd62BAAAAGwGfSmpH/wAa7o20bIM8j+qXChkUpreKheSKYAAAAOdBm05JqEFs\n",
              "mUwIX//+jLAANSPj0aAJVYEo+YJElq0wj4PQgo1emEmhDAeH6lGKdBfBzPm6jcMDseq/p/nr3e/Z\n",
              "TFhBzB1otBZAK5BILHub1mF5pZ6dbu43YpseL4l2Frjg+XCgFAATf9Zc0KV0ICAf5tNlvW8X6bAO\n",
              "eVTXpZls8wskB/eKf7bw3uZD4YC5nOKWfMnrhvlQnd1wvZMjWD0Ych6xzC4Q5pnFLHb6pKlwiiHh\n",
              "ne/sJqrj5ta8vhvDcCpIIDVZ7FvTFdwCdZNag9O1+0juFrwsOh2E8poC4sFgnq5b3GNutlYAAAAZ\n",
              "QZ9sRRUsI/8ABBfPR55yuJNcySTrcqN0OQAAABQBn41qR/8ADS/X2RrNXb94fx7zMQAAAR9Bm5FJ\n",
              "qEFsmUwIZ//+nhAANKLFUM67kAcYXuAY/hWKkxVLXxURZtc9cyfmPipbd8ntYHPpW4rbWtZeByMY\n",
              "dAlQ/EfvT5m8DaW4fSMzPBQkFLBqirEjoCoyG3tRuVQ4XSQPxQauVvrhVAZ7FALObA5vNreY9xDm\n",
              "pm3PObZ9r1i0Ba52/HdOpFL/taSrCdRDKiWVHiJPjJxb7abkmxmhkW2oeOzk5yTUo7Ev6PZlOcTA\n",
              "DIYQr3A3ddKiGQmqROUZEhw+CtxGcm+4Cqxbu74IXCmlZkEWgMK9F54dVRuBvbKpwUsCmnK8ed+B\n",
              "+krN4h5yc6GFf4ITXztmvCCpCYsd6/5f3WtxuOnRV5R0UBoBCmDZAfpNnzmHSAaCnnjUYIynTQAA\n",
              "ABpBn69FFSwj/wAENgCMpv6dE8oJFgxPLKDrOAAAABQBn9BqR/8AAkuF0vydFR0XPiOigAAAARlB\n",
              "m9VJqEFsmUwIZ//+nhAANMOPg9kAVgcpjzXwtWgJUPqecYRXGDPvn/qr70Y2Hghsx+FXWsZtHgja\n",
              "+Pj5ho7UnBg0vg65WFsgjeLwWKEFIvzODM7bDVAtysPeI96ELTiyk1RxLHJTjw7kltmhSZFfYvCa\n",
              "JwXhTpeDz8r7rFX/Wv+J3qQcmaVlSma3Rsd/9DaxvbuL/r3EDqs6sR/+cIV6oo3T/FsDja4EKbkP\n",
              "EranmDkGL+pPMxd9kVuLJwXA0ep9ebhCewr8tJqM89DU8k6+PSK+C6Q/3aUlJ30W8VJ8PEReetNN\n",
              "XMjhp34I8/aqKZXMwtWzgDK2MDjVKvH03+cTx0k9DeOYVgVOxLQ0JpFSTfJW12eXVqupgQAAACBB\n",
              "n/NFFSwj/wAhvKHDIVryg7AKpLX1TsrwpFvvLUYJgAAAABYBnhJ0R/8ADX4A2rKRM6nMHEZ4NHN+\n",
              "AAAAFAGeFGpH/wA2En5AyQpCDBr0r++ZAAAA+EGaGUmoQWyZTAhn//6eEAA0zLeaQACqH/vQ6+wo\n",
              "ZZEjTMaFh69n1GuCTjoCdiIWjFVnRbYfRyW5+KLPnwhZ6M0hR/IJX5E266ZEIOm0ZVRDmuxrg1je\n",
              "fSXZ/sETQCWhilgYtMtvrvdSH5jWfRGK36VULHWTgLbxDgg9MBoqYoX8W4d3ZQ1nPscsb7As+//T\n",
              "KEDnoPI6yw2mTNWMLNdZ26DSo7eFZW0hlaItgeoXnqwnhZY+Vkmio972VPONnR1/CnjkOhnsJdIF\n",
              "XShttU7Ra/I75nOvMDeVM2A9s/qD9OkzSeWeFmhnYYqYAMr+n+vmasjR98ouzl3AAAAAH0GeN0UV\n",
              "LCP/ACHFQXsvIdLzskvPLZkZe0D3h4ARPMMAAAAcAZ5WdEf/ADX4XZjw6qiuWubtFiTJtctQEiwM\n",
              "WQAAABgBnlhqR/8ANhJ+QNRE2wEoFBzQ0j//7qgAAAEpQZpdSahBbJlMCGf//p4QAGlpWXoxfEQB\n",
              "SggXW3FycVHe+PHosXgviFNG1ZOW26Qhs4ov6dfdUljI6KkKu7rR1bj5vdf6B+M10uePQAljz/Ei\n",
              "U0ntHgTEUX5hlvLqmTf1333Q4ADbEMwRumbNQsEbq1e219ID6zbPDlpEIUjjgMso+Zc4ZgwBcsv8\n",
              "lPZVmrXywpTt5+kSHnX6EuM3D24/L14cAPkGZm7neHQrMQrBsonn7lQhPnci2KlPiIld1wgi69Sv\n",
              "NjC6ZIoTlk6xdajzsEnnT05MEpjPeaTU3dcl+eu0R/8OKgmne8bEZmKzCQBljoMDy+mHKAef9HtY\n",
              "9iQk11tg05dTD3HzWsn1dpywgz+Sk1VIvy1meF5qs9e+Uvi+9RRlnHaa0PuBAAAAIkGee0UVLCP/\n",
              "ACHFQNP09nVw7Fz/XOpD8xyuDpyewYVQTUAAAAAUAZ6adEf/ADX4VTkq7mc6wJOZQ6cAAAAOAZ6c\n",
              "akf/AAGSlI4vOUEAAAEGQZqBSahBbJlMCGf//p4QADSixVDiXEgCmBSt83ShsfiL7zhpg78o+iya\n",
              "/0EiNi0gGNhWosRTL37u/LJ9Y0kEOGiQprSc5eaZfaYaX7OJ/xTqmsJSCBEHPvaIYHkCv33/W2mO\n",
              "BzTk8cqezc/O+LnRHdTZRG3VGQhJleJq8DsNIVdNplD+r4E5kQnIEqR7bdic0naOUt6YhP7guPft\n",
              "1yImFAwphkmu+gNYgwJoZzrgxX2iHRIrSH/08SR5L5m+p5inF3TPLcKYKcelAetKfEeePaAy64V8\n",
              "B6iAwta8gvXomEslqIC1EwIB83aBSygAugGjTVwc1neN+cGDJt8sDJoRMay1hwKQ8AAAAChBnr9F\n",
              "FSwj/wAhxUEEoH4U9BeOqjr4U9ahnPjQ76+5LTco0QphweUwAAAAFQGe3nRH/wAG5wsSIjMO1Frr\n",
              "QTQlYQAAABQBnsBqR/8ANhJ9IGT1Qgwa9K/vmAAAARpBmsVJqEFsmUwIZ//+nhAAaW7FsiBN4K/g\n",
              "dajdRRZ/expc5BOB2wmZlgFJrykjoH+HtuyHcUJvseXr0p48hn1hmVXpDHjogvu134qdLELMWxGt\n",
              "CHvt6GLPQwsOvyWDuZlJ0xmmaWp7qn6mNMpQCqtLmz+QQaw22dLhNNqch08KVBrmMAcIBg9p5a96\n",
              "YvQP+IMa/Il1ggfRgj/P5xOfbSjVaR9YjqPAikTPe5f90kU+vnjdhZlCWcqT5JzBwuxHCu5N0dp9\n",
              "Qw/BOKWDzPfvKlC0o3p5bbvjyYSledTlBwJQ8w6e+aLwEo8rvw5qDRCvdMvlsT4W3pKwpGELVpw7\n",
              "JmBEpPRFBI65LgtRJDg5+2TRZUwKQezX2lUiTukAAAAjQZ7jRRUsI/8AIcVA0/T2dWwWeLJFGp2x\n",
              "pxuH9T5h6AG/YlAAAAAdAZ8CdEf/ADX4KTSz0kpMdEPzHEuJfGCEY1KsAk8AAAAZAZ8Eakf/ADTe\n",
              "Sj/vbfZZhPSwEYjHe3y0zQAAARxBmwlJqEFsmUwIZ//+nhAAaYcVVkAfxqtRJ1o6vpVnGXXiq9xL\n",
              "1vDH70t1ATJtcSqXDEYCLDDjWgNxYBLYhtSzLTYzLOd4fs9kMKS0pfDdX8Td6Qdl+D+Kx52IluKL\n",
              "K7YTTQ2pjMpRSCAOWvsSfWRCc3j9jzjVxiar+JDFAIQiv2JlGT5cGB8I37IdcLeJNGg48zL/Sb7S\n",
              "jWBP7qYEa+96aFUXPNl4qlFK6fCBigRK8CgLsQ89pmDn2TodVns1fN5G9NC4m+e5EVDw5NRH0G2E\n",
              "mTsGT1fOBRSZONk9q7zREpwGBrgg/pGcfseIXKiOCrTu9ozFaJTv0Ls+ef/hN2JBu7zpoaxAGI97\n",
              "ZsvxD6vRez1feRsosrmb5kD5gQAAACVBnydFFSwj/wAhtpmWvM03uRTeKnnNk6HvknTgr3p4SKoS\n",
              "vsOBAAAAGgGfRnRH/wAlrEX/yVWiIGE9SJg5v5BTmBwYAAAAEgGfSGpH/wANNJ5zpjrMvwyDrgAA\n",
              "AL5Bm01JqEFsmUwIZ//+nhAAaWR28EYomn2k2u+v31MABzjubpZAUx0ICfYVqGCtNM4+FmheGGK7\n",
              "VlX59+ZqA6XNpPgbj7n1cnpgcv6GX8TMpH3TZ8ypRlipZ1mNm/qZAiDqIwha3yhQc2atmDY9sTAN\n",
              "BQ3wDnc4lyETJ7pe+yDBWVkCW7S+PvjFa0gaMoR2vUEseDRGhhl0ZGu2UeeRv8mR65ZFE6rtxlwF\n",
              "p72Vl1qa3SeQ+O4zCf6jY7zHghyxAAAAKkGfa0UVLCP/ACDFRbTsbXZ/pwj5TxqrnLG9J4zW9FFf\n",
              "rMt16ns7eCd5UgAAABkBn4p0R/8ANhfAPn9Q3/TPRww9kz0ELgOqAAAAFQGfjGpH/wAS35BVwnbs\n",
              "RtejCkapgQAAAOZBm5FJqEFsmUwIZ//+nhAAaWR28EFY/qC7wAEXFeKLxhaVGET86/KC2yGz46Bt\n",
              "tx5X97wq3Yh1Aa9uHrk3V5ciFi9JxOYZngU6ec7tAIDOJVXYmhCvrB9Wmg0v0xr5xA2UYPQjgnVr\n",
              "QGkTU9A7uwbzCA6KvLMnq1G1G/hUtbPJGQ333LA/ftPdCExQEBUzL2JGSPbGAqK5+QymSorlRlCH\n",
              "pFdwBPvpzTnTaiJ/I3v36PEpkeqL+V8nTZ82E+mXtAvyHmr+ZR0juOuAnsKF1uNUxMxkJ9jc+ydF\n",
              "eEqBysgPqOkdRrqdcQAAAClBn69FFSwj/wAhtPkioEv3jXeifatR0x5okZQt3W36kagrgplC60/G\n",
              "TwAAABsBn850R/8AJMNLHIIhyJJa+oOlP50I1RYmWUAAAAAaAZ/Qakf/ACTHyMhoCuSvvQvDXPPi\n",
              "UicAVsAAAAB3QZvVSahBbJlMCF///oywAGolPqzXGTR6dtRPQWSnZOAKT9zVE2+gEUDzzYKUcUPL\n",
              "FpYo9V1jP0lk39htdMHfv47SVW32MyaQHKFMC54HsxEysFwLhc4A5/Bi5oYk7fptvMo7zzhOzwTe\n",
              "NEtvFwLXQZJYtmePFTEAAAAjQZ/zRRUsI/8AIbT5IqBM75oQreHrmihBm9CCXwnhfQAiI5YAAAAS\n",
              "AZ4SdEf/AAaa/eYZt8w/XZrwAAAAGAGeFGpH/wA1/185Tqtss4V/dHiU7qAS8QAAAL9BmhlJqEFs\n",
              "mUwIX//+jLAAaofaQFnLoJz6vGDbAAIshl41oBu2BrsNThySAAXhvAIhto3EEigc74ILnSwqWvo0\n",
              "5uPkp/Ty6dYDioFd9b8FDJ0zXBm3t4it/JbuOH0ipV/5+SFQYnQx4ENxTYWG8PkkzSwRwN9pItog\n",
              "h9XqrU96jscYq3gBccGUT+FskwSEk2YpnRE0cQRgcwISd3MqhBokzEW+3wgptEDho7sQMSwRTFHa\n",
              "NUnqxgkgqRFQxsvCgAAAACVBnjdFFSwj/wAhtPkioEzvmhCt4cLR86yIS8eaqef1DUBKzDxhAAAA\n",
              "GgGeVnRH/wAaXC15PPXQJkzL09YAk8tGyALvAAAAGQGeWGpH/wAlvytEJekHBQOFsH+aL0xgfMAA\n",
              "AAB7QZpdSahBbJlMCF///oywAGqH3yBZy6AhHV8eKBkwARvz+8mR3YYg6ibLRJ4kTAna7csb8VkK\n",
              "oipYX97FUjzMaBPPTokODyae/NeCTxoKvpa9cyDXTgvHPOehYtj9HNMS37peZQpi6rd7jKG93wHm\n",
              "THNf7MYNABAw4TnHAAAAK0Gee0UVLCP/ACDFRapxqwefGK+hP1CTes8ct+G+ayyVG6JIpwPXTMzG\n",
              "NIAAAAAXAZ6adEf/ACWsQw3gDuJSpOZpWdZo7oEAAAATAZ6cakf/AAT7NoRfEwQAR1m/wQAAADdB\n",
              "moFJqEFsmUwIT//98QAD4B589eq6wogQLHNm1Xa7pITxHR4Cf5OV/O/IU10SKQgrhLDtEVlQAAAA\n",
              "LEGev0UVLCP/ACGXChsaY+K9GJKghwYKvA4crj+rgu/NwE/QBqxsme+lORsQAAAAGQGe3nRH/wAG\n",
              "mv3mEsxUl976d5fZZKW9UCUAAAAWAZ7Aakf/AAT7N9FR2E2+xOM22N5PpgAAABtBmsNJqEFsmUwU\n",
              "TH/8hAAA8kuScBj1eV7mtuEAAAAjAZ7iakf/ADTeRE1HDSQT5QU+05Z58bWJ/Tl9roHn4ALMRcAA\n",
              "AAembW9vdgAAAGxtdmhkAAAAAAAAAAAAAAAAAAAD6AAAB9AAAQAAAQAAAAAAAAAAAAAAAAEAAAAA\n",
              "AAAAAAAAAAAAAAABAAAAAAAAAAAAAAAAAABAAAAAAAAAAAAAAAAAAAAAAAAAAAAAAAAAAAAAAAAA\n",
              "AgAABtB0cmFrAAAAXHRraGQAAAADAAAAAAAAAAAAAAABAAAAAAAAB9AAAAAAAAAAAAAAAAAAAAAA\n",
              "AAEAAAAAAAAAAAAAAAAAAAABAAAAAAAAAAAAAAAAAABAAAAAAbAAAAEgAAAAAAAkZWR0cwAAABxl\n",
              "bHN0AAAAAAAAAAEAAAfQAAACAAABAAAAAAZIbWRpYQAAACBtZGhkAAAAAAAAAAAAAAAAAAAyAAAA\n",
              "ZABVxAAAAAAALWhkbHIAAAAAAAAAAHZpZGUAAAAAAAAAAAAAAABWaWRlb0hhbmRsZXIAAAAF821p\n",
              "bmYAAAAUdm1oZAAAAAEAAAAAAAAAAAAAACRkaW5mAAAAHGRyZWYAAAAAAAAAAQAAAAx1cmwgAAAA\n",
              "AQAABbNzdGJsAAAAs3N0c2QAAAAAAAAAAQAAAKNhdmMxAAAAAAAAAAEAAAAAAAAAAAAAAAAAAAAA\n",
              "AbABIABIAAAASAAAAAAAAAABAAAAAAAAAAAAAAAAAAAAAAAAAAAAAAAAAAAAAAAAAAAAGP//AAAA\n",
              "MWF2Y0MBZAAe/+EAGGdkAB6s2UGwloQAAAMABAAAAwGQPFi2WAEABmjr48siwAAAABx1dWlka2hA\n",
              "8l8kT8W6OaUbzwMj8wAAAAAAAAAYc3R0cwAAAAAAAAABAAAAZAAAAQAAAAAUc3RzcwAAAAAAAAAB\n",
              "AAAAAQAAAvhjdHRzAAAAAAAAAF0AAAACAAACAAAAAAEAAAMAAAAAAQAAAQAAAAABAAACAAAAAAEA\n",
              "AAMAAAAAAQAAAQAAAAABAAADAAAAAAEAAAEAAAAABAAAAgAAAAABAAAFAAAAAAEAAAIAAAAAAQAA\n",
              "AAAAAAABAAABAAAAAAEAAAUAAAAAAQAAAgAAAAABAAAAAAAAAAEAAAEAAAAAAQAABQAAAAABAAAC\n",
              "AAAAAAEAAAAAAAAAAQAAAQAAAAABAAAEAAAAAAIAAAEAAAAAAQAABQAAAAABAAACAAAAAAEAAAAA\n",
              "AAAAAQAAAQAAAAABAAAFAAAAAAEAAAIAAAAAAQAAAAAAAAABAAABAAAAAAEAAAUAAAAAAQAAAgAA\n",
              "AAABAAAAAAAAAAEAAAEAAAAAAQAABQAAAAABAAACAAAAAAEAAAAAAAAAAQAAAQAAAAABAAAEAAAA\n",
              "AAIAAAEAAAAAAQAABAAAAAACAAABAAAAAAEAAAUAAAAAAQAAAgAAAAABAAAAAAAAAAEAAAEAAAAA\n",
              "AQAABQAAAAABAAACAAAAAAEAAAAAAAAAAQAAAQAAAAABAAAFAAAAAAEAAAIAAAAAAQAAAAAAAAAB\n",
              "AAABAAAAAAEAAAUAAAAAAQAAAgAAAAABAAAAAAAAAAEAAAEAAAAAAQAABQAAAAABAAACAAAAAAEA\n",
              "AAAAAAAAAQAAAQAAAAABAAAFAAAAAAEAAAIAAAAAAQAAAAAAAAABAAABAAAAAAEAAAUAAAAAAQAA\n",
              "AgAAAAABAAAAAAAAAAEAAAEAAAAAAQAABQAAAAABAAACAAAAAAEAAAAAAAAAAQAAAQAAAAABAAAF\n",
              "AAAAAAEAAAIAAAAAAQAAAAAAAAABAAABAAAAAAEAAAUAAAAAAQAAAgAAAAABAAAAAAAAAAEAAAEA\n",
              "AAAAAQAABQAAAAABAAACAAAAAAEAAAAAAAAAAQAAAQAAAAABAAAFAAAAAAEAAAIAAAAAAQAAAAAA\n",
              "AAABAAABAAAAAAEAAAMAAAAAAQAAAQAAAAAcc3RzYwAAAAAAAAABAAAAAQAAAGQAAAABAAABpHN0\n",
              "c3oAAAAAAAAAAAAAAGQAABF9AAABgQAAAZ8AAABPAAAAywAAAWgAAAA5AAABNAAAACoAAAD+AAAA\n",
              "vAAAAKcAAACtAAABSwAAAC0AAAAfAAAAEwAAATMAAAA7AAAAFwAAAB4AAAEpAAAALgAAAB0AAAAT\n",
              "AAAA/wAAADwAAAAZAAABKgAAADQAAAAZAAAAIAAAASQAAAAmAAAAGgAAABUAAAFUAAAAJQAAABoA\n",
              "AAAZAAABBgAAACUAAAAkAAAAHwAAAOsAAAAdAAAAGAAAASMAAAAeAAAAGAAAAR0AAAAkAAAAGgAA\n",
              "ABgAAAD8AAAAIwAAACAAAAAcAAABLQAAACYAAAAYAAAAEgAAAQoAAAAsAAAAGQAAABgAAAEeAAAA\n",
              "JwAAACEAAAAdAAABIAAAACkAAAAeAAAAFgAAAMIAAAAuAAAAHQAAABkAAADqAAAALQAAAB8AAAAe\n",
              "AAAAewAAACcAAAAWAAAAHAAAAMMAAAApAAAAHgAAAB0AAAB/AAAALwAAABsAAAAXAAAAOwAAADAA\n",
              "AAAdAAAAGgAAAB8AAAAnAAAAFHN0Y28AAAAAAAAAAQAAACwAAABidWR0YQAAAFptZXRhAAAAAAAA\n",
              "ACFoZGxyAAAAAAAAAABtZGlyYXBwbAAAAAAAAAAAAAAAAC1pbHN0AAAAJal0b28AAAAdZGF0YQAA\n",
              "AAEAAAAATGF2ZjU3LjgzLjEwMA==\n",
              "\">\n",
              "  Your browser does not support the video tag.\n",
              "</video>"
            ],
            "text/plain": [
              "<IPython.core.display.HTML object>"
            ]
          },
          "metadata": {
            "tags": []
          },
          "execution_count": 113
        }
      ]
    }
  ]
}