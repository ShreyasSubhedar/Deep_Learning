{
  "nbformat": 4,
  "nbformat_minor": 0,
  "metadata": {
    "colab": {
      "name": "DL_102Perceptronipynb",
      "provenance": []
    },
    "kernelspec": {
      "name": "python3",
      "display_name": "Python 3"
    }
  },
  "cells": [
    {
      "cell_type": "markdown",
      "metadata": {
        "id": "A1znIu40YcyL",
        "colab_type": "text"
      },
      "source": [
        "#Perceptron Model"
      ]
    },
    {
      "cell_type": "markdown",
      "metadata": {
        "id": "hZqvKkWVYhib",
        "colab_type": "text"
      },
      "source": [
        ""
      ]
    },
    {
      "cell_type": "code",
      "metadata": {
        "id": "sMLhMgtSJ7jR",
        "colab_type": "code",
        "colab": {}
      },
      "source": [
        "#importing dataset of breast cancer\n",
        "import sklearn.datasets\n",
        "# importing numpy\n",
        "import numpy as np\n",
        "# importing pandas as pd\n",
        "import pandas as pd\n",
        "# import matplotlib for plotting graphs\n",
        "import matplotlib.pyplot as plt\n",
        "#imporing seaborn to give neet look \n",
        "import seaborn as sns\n",
        "# importing metrics \n",
        "from sklearn.metrics import accuracy_score\n",
        "sns.set()"
      ],
      "execution_count": 0,
      "outputs": []
    },
    {
      "cell_type": "code",
      "metadata": {
        "id": "LX56DW6GYVun",
        "colab_type": "code",
        "colab": {}
      },
      "source": [
        "class Perceptron:\n",
        "  def __init__(self):\n",
        "    self.w = None\n",
        "    self.b= None\n",
        "\n",
        "  def model(self,x):\n",
        "    return 1 if (np.dot(self.w,x)>=self.b) else 0\n",
        "  \n",
        "  def predict(self,X):\n",
        "    Y=[]\n",
        "    for x in X:\n",
        "      result = self.model(x)\n",
        "      Y.append(result)\n",
        "    return np.array(Y)\n",
        "\n",
        "  def fit(self,X,Y,epoch=1,learningRate=1):\n",
        "    self.w= np.ones(X.shape[1])\n",
        "    self.b = 0\n",
        "    accuracy = {}\n",
        "    maxAccuracy=0\n",
        "    checkPointW =self.w\n",
        "    checkPointB=self.b\n",
        "    for i in range(epoch):\n",
        "      for x,y in zip(X,Y):\n",
        "        Y_pred = self.model(x)\n",
        "        if y==1 and Y_pred == 0:\n",
        "          self.w = self.w + learningRate*x\n",
        "          self.b = self.b + learningRate*1\n",
        "        elif y==0 and Y_pred == 1:\n",
        "          self.w = self.w - learningRate*x\n",
        "          self.b = self.b - learningRate*1\n",
        "      accuracy[i] = accuracy_score(self.predict(X),Y)\n",
        "      if(maxAccuracy<accuracy[i]):\n",
        "        maxAccuracy = accuracy[i]\n",
        "        checkPointW = self.w;\n",
        "        checkPointB = self.b; \n",
        "    self.w = checkPointW\n",
        "    self.b= checkPointB\n",
        "    a = np.asarray(list(accuracy.values()))\n",
        "    plt.plot(a)\n",
        "    plt.show()\n",
        "      \n",
        "\n"
      ],
      "execution_count": 0,
      "outputs": []
    },
    {
      "cell_type": "code",
      "metadata": {
        "id": "0yAQgLBbdVl3",
        "colab_type": "code",
        "colab": {}
      },
      "source": [
        "# Getting data to the varialble\n",
        "breast_cancer = sklearn.datasets.load_breast_cancer()\n",
        "# Creating data frame\n",
        "data = pd.DataFrame(breast_cancer.data,columns= breast_cancer.feature_names)\n",
        "Y = breast_cancer.target\n",
        "# 1st parameter = data dataframe\n",
        "# 2nd parameter = target dataframe\n",
        "# 3rd parameter = 90% ttraining split 10% test split\n",
        "# 4th parameter = deterministic split always give same o/p  \n",
        "X_train, X_test, Y_train, Y_test = train_test_split(data,Y,test_size=0.1, stratify = Y ,random_state=1)\n",
        "\n",
        "#Binarization of MP Neuron model learninr (beccause it takes only boolean as input\n",
        "#X_binarised_train = X_train.apply(pd.cut,bins=2,labels=[1,0])\n",
        "#X_binarised_test = X_test.apply(pd.cut,bins=2,labels=[1,0])\n",
        "\n",
        "#convert the dataframe to numpy arrays for calulation\n",
        "X_test =X_test.values\n",
        "X_train = X_train.values\n"
      ],
      "execution_count": 0,
      "outputs": []
    },
    {
      "cell_type": "code",
      "metadata": {
        "id": "TS2qehmcdipT",
        "colab_type": "code",
        "outputId": "6193271a-4e02-4964-da54-e0cdba57d674",
        "colab": {
          "base_uri": "https://localhost:8080/",
          "height": 570
        }
      },
      "source": [
        "perceptron =Perceptron()\n",
        "perceptron.fit(X_train,Y_train,10000,0.01)\n",
        "print()\n",
        "plt.plot(perceptron.w)\n",
        "plt.show()\n",
        "Y_pred = perceptron.predict(X_train)\n",
        "print(accuracy_score(Y_pred,Y_train))\n",
        "Y_pred = perceptron.predict(X_test)\n",
        "print(accuracy_score(Y_pred,Y_test))"
      ],
      "execution_count": 0,
      "outputs": [
        {
          "output_type": "display_data",
          "data": {
            "image/png": "[encoded data removed]",
            "text/plain": [
              "<Figure size 432x288 with 1 Axes>"
            ]
          },
          "metadata": {
            "tags": []
          }
        },
        {
          "output_type": "stream",
          "text": [
            "\n"
          ],
          "name": "stdout"
        },
        {
          "output_type": "display_data",
          "data": {
            "image/png": "[encoded data removed]",
            "text/plain": [
              "<Figure size 432x288 with 1 Axes>"
            ]
          },
          "metadata": {
            "tags": []
          }
        },
        {
          "output_type": "stream",
          "text": [
            "0.947265625\n",
            "0.9473684210526315\n"
          ],
          "name": "stdout"
        }
      ]
    },
    {
      "cell_type": "code",
      "metadata": {
        "id": "Ja6OHe6Ba152",
        "colab_type": "code",
        "colab": {}
      },
      "source": [
        ""
      ],
      "execution_count": 0,
      "outputs": []
    }
  ]
}