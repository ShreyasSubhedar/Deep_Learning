{
  "nbformat": 4,
  "nbformat_minor": 0,
  "metadata": {
    "colab": {
      "name": "DL_102MPNeuronClass.ipynb",
      "provenance": []
    },
    "kernelspec": {
      "name": "python3",
      "display_name": "Python 3"
    }
  },
  "cells": [
    {
      "cell_type": "code",
      "metadata": {
        "id": "5ufiI7XN3RGH",
        "colab_type": "code",
        "colab": {}
      },
      "source": [
        "# importing sklearn dataset for breastcancer data\n",
        "import sklearn.datasets\n",
        "# importing numpy\n",
        "import numpy as np\n",
        "# importing pandas as pd\n",
        "import pandas as pd"
      ],
      "execution_count": 0,
      "outputs": []
    },
    {
      "cell_type": "code",
      "metadata": {
        "id": "hDNIjPM438Ak",
        "colab_type": "code",
        "colab": {}
      },
      "source": [
        "# Getting data to the varialble\n",
        "breast_cancer = sklearn.datasets.load_breast_cancer()\n",
        "# Creating data frame\n",
        "data = pd.DataFrame(breast_cancer.data,columns= breast_cancer.feature_names)\n",
        "Y = breast_cancer.target"
      ],
      "execution_count": 0,
      "outputs": []
    },
    {
      "cell_type": "code",
      "metadata": {
        "id": "hAfawXqX5jyy",
        "colab_type": "code",
        "colab": {}
      },
      "source": [
        "# train-test spliiting of data\n",
        "from sklearn.model_selection import train_test_split\n",
        "# 1st parameter = data dataframe\n",
        "# 2nd parameter = target dataframe\n",
        "# 3rd parameter = 90% ttraining split 10% test split\n",
        "# 4th parameter = deterministic split always give same o/p  \n",
        "X_train, X_test, Y_train, Y_test = train_test_split(data,Y,test_size=0.1, stratify = Y ,random_state=2)"
      ],
      "execution_count": 0,
      "outputs": []
    },
    {
      "cell_type": "code",
      "metadata": {
        "id": "iRYXPpLz7HAU",
        "colab_type": "code",
        "colab": {}
      },
      "source": [
        "#Binarization of MP Neuron model learninr (beccause it takes only boolean as input\n",
        "X_binarised_train = X_train.apply(pd.cut,bins=2,labels=[1,0])\n",
        "X_binarised_test = X_test.apply(pd.cut,bins=2,labels=[1,0])"
      ],
      "execution_count": 0,
      "outputs": []
    },
    {
      "cell_type": "code",
      "metadata": {
        "id": "GHeRmoamILp7",
        "colab_type": "code",
        "colab": {}
      },
      "source": [
        "#convert the dataframe to numpy arrays for calulation\n",
        "X_binarised_test =X_binarised_test.values\n",
        "X_binarised_train = X_binarised_train.values"
      ],
      "execution_count": 0,
      "outputs": []
    },
    {
      "cell_type": "code",
      "metadata": {
        "id": "nO87bEll77am",
        "colab_type": "code",
        "colab": {}
      },
      "source": [
        "#Object oriented learning model\n",
        "from sklearn.metrics import accuracy_score\n",
        "class MPNeuron:\n",
        "\n",
        "  def __init__(self):\n",
        "    self.b = None\n",
        "\n",
        "  def model(self,x):\n",
        "    return (sum(x) >= self.b)\n",
        "\n",
        "  def predict(self,X):\n",
        "    Y = []\n",
        "    for x in X:\n",
        "      result = self.model(x)\n",
        "      Y.append(result)\n",
        "    return np.array(Y)\n",
        "\n",
        "  def accuracy(self, Y_pred, Y_test):\n",
        "    print('Highest accuracy for testing data  is ', accuracy_score(Y_pred,Y_test)*100)\n",
        "\n",
        "  def fit(self,X,Y):\n",
        "    accuracy ={}\n",
        "\n",
        "    for b in range(X.shape[1]+1):\n",
        "      self.b = b\n",
        "      Y_pred = self.predict(X)\n",
        "      accuracy[b] = accuracy_score(Y_pred,Y) \n",
        "    \n",
        "    best_b = max(accuracy, key=accuracy.get)\n",
        "    self.b = best_b\n",
        "    \n",
        "    print('Optical value of b is',best_b)\n",
        "    print('Highest accuracy for training data is ', accuracy[best_b]*100)\n",
        "    return b\n",
        "\n",
        "\n",
        "  \n"
      ],
      "execution_count": 0,
      "outputs": []
    },
    {
      "cell_type": "code",
      "metadata": {
        "id": "7fHOBF2A9FUy",
        "colab_type": "code",
        "colab": {
          "base_uri": "https://localhost:8080/",
          "height": 68
        },
        "outputId": "972d554d-5c7c-49fd-85c2-a89c83442c35"
      },
      "source": [
        "mp_neuron =  MPNeuron()\n",
        "b = mp_neuron.fit(X_binarised_train,Y_train)\n",
        "Y_pred = mp_neuron.predict(X_binarised_test)\n",
        "mp_neuron.accuracy(Y_pred,Y_test)"
      ],
      "execution_count": 96,
      "outputs": [
        {
          "output_type": "stream",
          "text": [
            "Optical value of b is 27\n",
            "Highest accuracy for training data is  84.9609375\n",
            "Highest accuracy for testing data  is  89.47368421052632\n"
          ],
          "name": "stdout"
        }
      ]
    }
  ]
}